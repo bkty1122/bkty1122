{
  "cells": [
    {
      "cell_type": "markdown",
      "id": "bb7b21f0",
      "metadata": {
        "id": "bb7b21f0"
      },
      "source": [
        "**Name: XXXXXX     Student ID: pxxxxxx**"
      ]
    },
    {
      "cell_type": "markdown",
      "id": "c642d0ac",
      "metadata": {
        "id": "c642d0ac"
      },
      "source": [
        "**Import libraries**"
      ]
    },
    {
      "cell_type": "code",
      "execution_count": null,
      "id": "5a20ef41",
      "metadata": {
        "id": "5a20ef41"
      },
      "outputs": [],
      "source": [
        "import matplotlib.pyplot as plt\n",
        "import pandas as pd\n",
        "import numpy as np"
      ]
    },
    {
      "cell_type": "markdown",
      "id": "ac975a53",
      "metadata": {
        "id": "ac975a53"
      },
      "source": [
        "**Load dataset**"
      ]
    },
    {
      "cell_type": "code",
      "execution_count": null,
      "id": "b67e812d",
      "metadata": {
        "id": "b67e812d"
      },
      "outputs": [],
      "source": [
        "df = pd.read_excel('/content/Online Retail.xlsx')"
      ]
    },
    {
      "cell_type": "code",
      "execution_count": null,
      "id": "895ee858",
      "metadata": {
        "id": "895ee858"
      },
      "outputs": [],
      "source": [
        "df.shape"
      ]
    },
    {
      "cell_type": "code",
      "execution_count": null,
      "id": "30729909",
      "metadata": {
        "id": "30729909"
      },
      "outputs": [],
      "source": [
        "df.head()"
      ]
    },
    {
      "cell_type": "markdown",
      "id": "b9f6520d",
      "metadata": {
        "id": "b9f6520d"
      },
      "source": [
        "**Data cleaning**"
      ]
    },
    {
      "cell_type": "code",
      "execution_count": null,
      "id": "90907673",
      "metadata": {
        "id": "90907673"
      },
      "outputs": [],
      "source": [
        "# Remove data records with negative quantity\n",
        "df.loc[df['Quantity'] <= 0].shape"
      ]
    },
    {
      "cell_type": "code",
      "execution_count": null,
      "id": "63f1bba6",
      "metadata": {
        "id": "63f1bba6"
      },
      "outputs": [],
      "source": [
        "df = df.loc[df['Quantity'] > 0]"
      ]
    },
    {
      "cell_type": "code",
      "execution_count": null,
      "id": "a559dbac",
      "metadata": {
        "id": "a559dbac"
      },
      "outputs": [],
      "source": [
        "df.shape"
      ]
    },
    {
      "cell_type": "code",
      "execution_count": null,
      "id": "70c8c47e",
      "metadata": {
        "id": "70c8c47e"
      },
      "outputs": [],
      "source": [
        "# Number of data records with empty CustomerID\n",
        "pd.isnull(df['CustomerID']).sum()"
      ]
    },
    {
      "cell_type": "code",
      "execution_count": null,
      "id": "11448c6d",
      "metadata": {
        "id": "11448c6d"
      },
      "outputs": [],
      "source": [
        "# Remove data records with missing CustomerID\n",
        "df = df[pd.notnull(df['CustomerID'])]"
      ]
    },
    {
      "cell_type": "code",
      "execution_count": null,
      "id": "1aab8b7e",
      "metadata": {
        "id": "1aab8b7e"
      },
      "outputs": [],
      "source": [
        "df.shape"
      ]
    },
    {
      "cell_type": "code",
      "execution_count": null,
      "id": "a2aae429",
      "metadata": {
        "id": "a2aae429"
      },
      "outputs": [],
      "source": [
        "df.head()"
      ]
    },
    {
      "cell_type": "markdown",
      "id": "735a80d2",
      "metadata": {
        "id": "735a80d2"
      },
      "source": [
        "**Exclude incomplete month**"
      ]
    },
    {
      "cell_type": "code",
      "execution_count": null,
      "id": "07ae912d",
      "metadata": {
        "id": "07ae912d"
      },
      "outputs": [],
      "source": [
        "print('Date Range: %s ~ %s' % (df['InvoiceDate'].min(), df['InvoiceDate'].max()))"
      ]
    },
    {
      "cell_type": "code",
      "execution_count": null,
      "id": "a57f6e16",
      "metadata": {
        "id": "a57f6e16"
      },
      "outputs": [],
      "source": [
        "df.loc[df['InvoiceDate'] >= '2011-12-01'].shape"
      ]
    },
    {
      "cell_type": "code",
      "execution_count": null,
      "id": "12ca78c0",
      "metadata": {
        "id": "12ca78c0"
      },
      "outputs": [],
      "source": [
        "# Remove data records which the invoice date is between 2011-12-01 and 2011-12-09\n",
        "df = df.loc[df['InvoiceDate'] < '2011-12-01']"
      ]
    },
    {
      "cell_type": "code",
      "execution_count": null,
      "id": "ba80499f",
      "metadata": {
        "id": "ba80499f"
      },
      "outputs": [],
      "source": [
        "df.shape"
      ]
    },
    {
      "cell_type": "markdown",
      "id": "d1f75530",
      "metadata": {
        "id": "d1f75530"
      },
      "source": [
        "**Total sales**"
      ]
    },
    {
      "cell_type": "code",
      "execution_count": null,
      "id": "39590120",
      "metadata": {
        "id": "39590120"
      },
      "outputs": [],
      "source": [
        "# Create a new feature called Sales = Quantity x UnitPrice\n",
        "df['Sales'] = df['Quantity'] * df['UnitPrice']"
      ]
    },
    {
      "cell_type": "code",
      "execution_count": null,
      "id": "5fceaba4",
      "metadata": {
        "id": "5fceaba4"
      },
      "outputs": [],
      "source": [
        "df.head()"
      ]
    },
    {
      "cell_type": "markdown",
      "id": "fd1120d5",
      "metadata": {
        "id": "fd1120d5"
      },
      "source": [
        "**Per Order Data**"
      ]
    },
    {
      "cell_type": "code",
      "execution_count": null,
      "id": "77401125",
      "metadata": {
        "id": "77401125"
      },
      "outputs": [],
      "source": [
        "# For each customer and each invoice number, get the total sales and latest invoice date\n",
        "orders_df = df.groupby(['CustomerID', 'InvoiceNo']).agg({\n",
        "    'Sales': sum,\n",
        "    'InvoiceDate': max\n",
        "})"
      ]
    },
    {
      "cell_type": "code",
      "execution_count": null,
      "id": "57adf5aa",
      "metadata": {
        "id": "57adf5aa"
      },
      "outputs": [],
      "source": [
        "orders_df"
      ]
    },
    {
      "cell_type": "markdown",
      "id": "084e64a2",
      "metadata": {
        "id": "084e64a2"
      },
      "source": [
        "**Data analysis**"
      ]
    },
    {
      "cell_type": "code",
      "execution_count": null,
      "id": "dc2654d5",
      "metadata": {
        "id": "dc2654d5"
      },
      "outputs": [],
      "source": [
        "def groupby_mean(x):\n",
        "    return x.mean()\n",
        "\n",
        "def groupby_count(x):\n",
        "    return x.count()\n",
        "\n",
        "def purchase_duration(x):\n",
        "    return (x.max() - x.min()).days\n",
        "\n",
        "def avg_frequency(x):\n",
        "    return (x.max() - x.min()).days/x.count()\n",
        "\n",
        "groupby_mean.__name__ = 'avg'\n",
        "groupby_count.__name__ = 'count'\n",
        "purchase_duration.__name__ = 'purchase_duration'\n",
        "avg_frequency.__name__ = 'purchase_frequency'"
      ]
    },
    {
      "cell_type": "code",
      "execution_count": null,
      "id": "78630ec7",
      "metadata": {
        "id": "78630ec7"
      },
      "outputs": [],
      "source": [
        "# For each customer, get the min, max, sum, average, count of Sales, and\n",
        "# min, max, purchase_duration, purchase_frequency of Invoice Date\n",
        "summary_df = orders_df.reset_index().groupby('CustomerID').agg({\n",
        "    'Sales': [min, max, sum, groupby_mean, groupby_count],\n",
        "    'InvoiceDate': [min, max, purchase_duration, avg_frequency]\n",
        "})"
      ]
    },
    {
      "cell_type": "code",
      "execution_count": null,
      "id": "cd81411a",
      "metadata": {
        "id": "cd81411a"
      },
      "outputs": [],
      "source": [
        "summary_df"
      ]
    },
    {
      "cell_type": "code",
      "execution_count": null,
      "id": "febee36f",
      "metadata": {
        "id": "febee36f"
      },
      "outputs": [],
      "source": [
        "summary_df.columns = ['_'.join(col).lower() for col in summary_df.columns]"
      ]
    },
    {
      "cell_type": "code",
      "execution_count": null,
      "id": "51f0fb1a",
      "metadata": {
        "id": "51f0fb1a"
      },
      "outputs": [],
      "source": [
        "summary_df"
      ]
    },
    {
      "cell_type": "code",
      "execution_count": null,
      "id": "fa60e64e",
      "metadata": {
        "id": "fa60e64e"
      },
      "outputs": [],
      "source": [
        "# Consider only the customers whose purchase duration is larger than 0 (i.e., those customers who have bought more than once!)\n",
        "summary_df = summary_df.loc[summary_df['invoicedate_purchase_duration'] > 0]"
      ]
    },
    {
      "cell_type": "code",
      "execution_count": null,
      "id": "79a644bf",
      "metadata": {
        "id": "79a644bf"
      },
      "outputs": [],
      "source": [
        "ax = summary_df.groupby('sales_count').count()['sales_avg'][:20].plot(\n",
        "    kind='bar', \n",
        "    color='skyblue',\n",
        "    figsize=(12,7), \n",
        "    grid=True\n",
        ")\n",
        "\n",
        "ax.set_ylabel('count')\n",
        "\n",
        "plt.show()"
      ]
    },
    {
      "cell_type": "code",
      "execution_count": null,
      "id": "ace750d6",
      "metadata": {
        "id": "ace750d6"
      },
      "outputs": [],
      "source": [
        "summary_df['sales_count'].describe()"
      ]
    },
    {
      "cell_type": "code",
      "execution_count": null,
      "id": "85473835",
      "metadata": {
        "id": "85473835"
      },
      "outputs": [],
      "source": [
        "summary_df['sales_avg'].describe()"
      ]
    },
    {
      "cell_type": "code",
      "execution_count": null,
      "id": "55b75efc",
      "metadata": {
        "id": "55b75efc"
      },
      "outputs": [],
      "source": [
        "ax = summary_df['invoicedate_purchase_frequency'].hist(\n",
        "    bins=20,\n",
        "    color='skyblue',\n",
        "    rwidth=0.7,\n",
        "    figsize=(12,7)\n",
        ")\n",
        "\n",
        "ax.set_xlabel('avg. number of days between purchases')\n",
        "ax.set_ylabel('count')\n",
        "\n",
        "plt.show()"
      ]
    },
    {
      "cell_type": "code",
      "execution_count": null,
      "id": "71c93048",
      "metadata": {
        "id": "71c93048"
      },
      "outputs": [],
      "source": [
        "summary_df['invoicedate_purchase_frequency'].describe()"
      ]
    },
    {
      "cell_type": "code",
      "execution_count": null,
      "id": "cf31fd1a",
      "metadata": {
        "id": "cf31fd1a"
      },
      "outputs": [],
      "source": [
        "summary_df['invoicedate_purchase_duration'].describe()"
      ]
    },
    {
      "cell_type": "markdown",
      "id": "6b48b59c",
      "metadata": {
        "id": "6b48b59c"
      },
      "source": [
        "**Linear Regression**"
      ]
    },
    {
      "cell_type": "code",
      "execution_count": null,
      "id": "001de796",
      "metadata": {
        "id": "001de796"
      },
      "outputs": [],
      "source": [
        "# Predict the CLV of next 3 months\n",
        "clv_freq = '3M'"
      ]
    },
    {
      "cell_type": "code",
      "execution_count": null,
      "id": "e10bb99d",
      "metadata": {
        "id": "e10bb99d"
      },
      "outputs": [],
      "source": [
        "# Set the invoice date to be the last day of every 3 months\n",
        "data_df = orders_df.reset_index().groupby([\n",
        "    'CustomerID',\n",
        "    pd.Grouper(key='InvoiceDate', freq=clv_freq)\n",
        "]).agg({\n",
        "    'Sales': [sum, groupby_mean, groupby_count],\n",
        "})"
      ]
    },
    {
      "cell_type": "code",
      "execution_count": null,
      "id": "53db5349",
      "metadata": {
        "id": "53db5349"
      },
      "outputs": [],
      "source": [
        "data_df.columns = ['_'.join(col).lower() for col in data_df.columns]"
      ]
    },
    {
      "cell_type": "code",
      "execution_count": null,
      "id": "aae396ad",
      "metadata": {
        "id": "aae396ad"
      },
      "outputs": [],
      "source": [
        "data_df = data_df.reset_index()"
      ]
    },
    {
      "cell_type": "code",
      "execution_count": null,
      "id": "e251be21",
      "metadata": {
        "id": "e251be21"
      },
      "outputs": [],
      "source": [
        "data_df.head(10)"
      ]
    },
    {
      "cell_type": "code",
      "execution_count": null,
      "id": "48192ba9",
      "metadata": {
        "id": "48192ba9"
      },
      "outputs": [],
      "source": [
        "# Sort invoice date in descending order\n",
        "date_month_map = {\n",
        "    str(x)[:10]: 'M_%s' % (i+1) for i, x in enumerate(\n",
        "        sorted(data_df.reset_index()['InvoiceDate'].unique(), reverse=True)\n",
        "    )\n",
        "}"
      ]
    },
    {
      "cell_type": "code",
      "execution_count": null,
      "id": "f46bf102",
      "metadata": {
        "id": "f46bf102"
      },
      "outputs": [],
      "source": [
        "data_df['M'] = data_df['InvoiceDate'].apply(lambda x: date_month_map[str(x)[:10]])"
      ]
    },
    {
      "cell_type": "code",
      "execution_count": null,
      "id": "8af20611",
      "metadata": {
        "id": "8af20611"
      },
      "outputs": [],
      "source": [
        "date_month_map"
      ]
    },
    {
      "cell_type": "code",
      "execution_count": null,
      "id": "357d4d03",
      "metadata": {
        "id": "357d4d03"
      },
      "outputs": [],
      "source": [
        "data_df.head(10)"
      ]
    },
    {
      "cell_type": "markdown",
      "id": "54781505",
      "metadata": {
        "id": "54781505"
      },
      "source": [
        "**Building sample set**"
      ]
    },
    {
      "cell_type": "code",
      "execution_count": null,
      "id": "e88a0860",
      "metadata": {
        "id": "e88a0860"
      },
      "outputs": [],
      "source": [
        "# Create a data matrix excluding M_1 as it will be used as dependent variable\n",
        "features_df = pd.pivot_table(\n",
        "    data_df.loc[data_df['M'] != 'M_1'], \n",
        "    values=['sales_sum', 'sales_avg', 'sales_count'], \n",
        "    columns='M', \n",
        "    index='CustomerID'\n",
        ")"
      ]
    },
    {
      "cell_type": "code",
      "execution_count": null,
      "id": "bca2f25e",
      "metadata": {
        "id": "bca2f25e"
      },
      "outputs": [],
      "source": [
        "features_df.columns = ['_'.join(col) for col in features_df.columns]"
      ]
    },
    {
      "cell_type": "code",
      "execution_count": null,
      "id": "e8f3a955",
      "metadata": {
        "id": "e8f3a955"
      },
      "outputs": [],
      "source": [
        "features_df.shape"
      ]
    },
    {
      "cell_type": "code",
      "execution_count": null,
      "id": "dd9457d0",
      "metadata": {
        "id": "dd9457d0"
      },
      "outputs": [],
      "source": [
        "features_df.head(10)"
      ]
    },
    {
      "cell_type": "code",
      "execution_count": null,
      "id": "8836a99c",
      "metadata": {
        "id": "8836a99c"
      },
      "outputs": [],
      "source": [
        "# Fill NaN with 0\n",
        "features_df = features_df.fillna(0)"
      ]
    },
    {
      "cell_type": "code",
      "execution_count": null,
      "id": "bf565c11",
      "metadata": {
        "id": "bf565c11"
      },
      "outputs": [],
      "source": [
        "features_df.head()"
      ]
    },
    {
      "cell_type": "code",
      "execution_count": null,
      "id": "871a7f44",
      "metadata": {
        "id": "871a7f44"
      },
      "outputs": [],
      "source": [
        "# Set the most recent 3 months sales as the CLV\n",
        "response_df = data_df.loc[\n",
        "    data_df['M'] == 'M_1',\n",
        "    ['CustomerID', 'sales_sum']\n",
        "]"
      ]
    },
    {
      "cell_type": "code",
      "execution_count": null,
      "id": "9238906a",
      "metadata": {
        "id": "9238906a"
      },
      "outputs": [],
      "source": [
        "response_df.columns = ['CustomerID', 'CLV_'+clv_freq]"
      ]
    },
    {
      "cell_type": "code",
      "execution_count": null,
      "id": "6177b5c9",
      "metadata": {
        "id": "6177b5c9"
      },
      "outputs": [],
      "source": [
        "response_df.shape"
      ]
    },
    {
      "cell_type": "code",
      "execution_count": null,
      "id": "9ebce92f",
      "metadata": {
        "id": "9ebce92f"
      },
      "outputs": [],
      "source": [
        "response_df.head(10)"
      ]
    },
    {
      "cell_type": "code",
      "execution_count": null,
      "id": "d9d09001",
      "metadata": {
        "id": "d9d09001"
      },
      "outputs": [],
      "source": [
        "sample_set_df = features_df.merge(\n",
        "    response_df, \n",
        "    left_index=True, \n",
        "    right_on='CustomerID',\n",
        "    how='left'\n",
        ")"
      ]
    },
    {
      "cell_type": "code",
      "execution_count": null,
      "id": "8673827c",
      "metadata": {
        "id": "8673827c"
      },
      "outputs": [],
      "source": [
        "sample_set_df.shape"
      ]
    },
    {
      "cell_type": "code",
      "execution_count": null,
      "id": "03b4717b",
      "metadata": {
        "id": "03b4717b"
      },
      "outputs": [],
      "source": [
        "sample_set_df.head(10)"
      ]
    },
    {
      "cell_type": "code",
      "execution_count": null,
      "id": "2c3fd5b2",
      "metadata": {
        "id": "2c3fd5b2"
      },
      "outputs": [],
      "source": [
        "sample_set_df = sample_set_df.fillna(0)"
      ]
    },
    {
      "cell_type": "code",
      "execution_count": null,
      "id": "91924104",
      "metadata": {
        "id": "91924104"
      },
      "outputs": [],
      "source": [
        "sample_set_df.head()"
      ]
    },
    {
      "cell_type": "code",
      "execution_count": null,
      "id": "c43fdd94",
      "metadata": {
        "id": "c43fdd94"
      },
      "outputs": [],
      "source": [
        "sample_set_df['CLV_'+clv_freq].describe()"
      ]
    },
    {
      "cell_type": "markdown",
      "id": "ad9d8bb0",
      "metadata": {
        "id": "ad9d8bb0"
      },
      "source": [
        "**Regression model**"
      ]
    },
    {
      "cell_type": "code",
      "execution_count": null,
      "id": "1b4ebfc1",
      "metadata": {
        "id": "1b4ebfc1"
      },
      "outputs": [],
      "source": [
        "from sklearn.model_selection import train_test_split"
      ]
    },
    {
      "cell_type": "code",
      "execution_count": null,
      "id": "269e5faf",
      "metadata": {
        "id": "269e5faf"
      },
      "outputs": [],
      "source": [
        "# Set CLV as dependent variable while the other features (except CustomerID) as independent variables\n",
        "target_var = 'CLV_'+clv_freq\n",
        "all_features = [x for x in sample_set_df.columns if x not in ['CustomerID', target_var]]"
      ]
    },
    {
      "cell_type": "code",
      "execution_count": null,
      "id": "7e9ee36d",
      "metadata": {
        "id": "7e9ee36d"
      },
      "outputs": [],
      "source": [
        "# Split data: 70% training & 30% testing\n",
        "x_train, x_test, y_train, y_test = train_test_split(\n",
        "    sample_set_df[all_features], \n",
        "    sample_set_df[target_var], \n",
        "    test_size=0.3,\n",
        "    random_state = 40\n",
        ")"
      ]
    },
    {
      "cell_type": "code",
      "execution_count": null,
      "id": "d8bc576b",
      "metadata": {
        "id": "d8bc576b"
      },
      "outputs": [],
      "source": [
        "from sklearn.linear_model import LinearRegression\n",
        "\n",
        "# Try these models as well\n",
        "from sklearn.svm import SVR\n",
        "from sklearn.ensemble import RandomForestRegressor"
      ]
    },
    {
      "cell_type": "code",
      "execution_count": null,
      "id": "d2188081",
      "metadata": {
        "id": "d2188081"
      },
      "outputs": [],
      "source": [
        "reg_fit = LinearRegression()"
      ]
    },
    {
      "cell_type": "code",
      "execution_count": null,
      "id": "333e566c",
      "metadata": {
        "id": "333e566c"
      },
      "outputs": [],
      "source": [
        "reg_fit.fit(x_train, y_train)"
      ]
    },
    {
      "cell_type": "code",
      "execution_count": null,
      "id": "b5158858",
      "metadata": {
        "id": "b5158858"
      },
      "outputs": [],
      "source": [
        "reg_fit.intercept_"
      ]
    },
    {
      "cell_type": "code",
      "execution_count": null,
      "id": "bc42e802",
      "metadata": {
        "id": "bc42e802"
      },
      "outputs": [],
      "source": [
        "coef = pd.DataFrame(list(zip(all_features, reg_fit.coef_)))\n",
        "coef.columns = ['feature', 'coef']\n",
        "\n",
        "coef"
      ]
    },
    {
      "cell_type": "markdown",
      "id": "a244f1e7",
      "metadata": {
        "id": "a244f1e7"
      },
      "source": [
        "**Evaluation**"
      ]
    },
    {
      "cell_type": "code",
      "execution_count": null,
      "id": "e5f55872",
      "metadata": {
        "id": "e5f55872"
      },
      "outputs": [],
      "source": [
        "from sklearn.metrics import r2_score, median_absolute_error"
      ]
    },
    {
      "cell_type": "code",
      "execution_count": null,
      "id": "4b7db722",
      "metadata": {
        "id": "4b7db722"
      },
      "outputs": [],
      "source": [
        "train_preds =  reg_fit.predict(x_train)\n",
        "test_preds = reg_fit.predict(x_test)"
      ]
    },
    {
      "cell_type": "markdown",
      "id": "1413ccbe",
      "metadata": {
        "id": "1413ccbe"
      },
      "source": [
        "**R-squared**"
      ]
    },
    {
      "cell_type": "code",
      "execution_count": null,
      "id": "80cce671",
      "metadata": {
        "id": "80cce671"
      },
      "outputs": [],
      "source": [
        "print('In-Sample R-Squared: %0.4f' % r2_score(y_true=y_train, y_pred=train_preds))\n",
        "print('Out-of-Sample R-Squared: %0.4f' % r2_score(y_true=y_test, y_pred=test_preds))"
      ]
    },
    {
      "cell_type": "markdown",
      "id": "c5ae8624",
      "metadata": {
        "id": "c5ae8624"
      },
      "source": [
        "**Median Absolute Error**"
      ]
    },
    {
      "cell_type": "code",
      "execution_count": null,
      "id": "8102f188",
      "metadata": {
        "id": "8102f188"
      },
      "outputs": [],
      "source": [
        "print('In-Sample MSE: %0.4f' % median_absolute_error(y_true=y_train, y_pred=train_preds))\n",
        "print('Out-of-Sample MSE: %0.4f' % median_absolute_error(y_true=y_test, y_pred=test_preds))"
      ]
    },
    {
      "cell_type": "markdown",
      "id": "a70d3edf",
      "metadata": {
        "id": "a70d3edf"
      },
      "source": [
        "**Scatterplot**"
      ]
    },
    {
      "cell_type": "code",
      "execution_count": null,
      "id": "193a0192",
      "metadata": {
        "id": "193a0192"
      },
      "outputs": [],
      "source": [
        "plt.scatter(y_train, train_preds)\n",
        "plt.plot([0, max(y_train)], [0, max(train_preds)], color='gray', lw=1, linestyle='--')\n",
        "\n",
        "plt.xlabel('actual')\n",
        "plt.ylabel('predicted')\n",
        "plt.title('In-Sample Actual vs. Predicted')\n",
        "plt.grid()\n",
        "\n",
        "plt.show()"
      ]
    },
    {
      "cell_type": "code",
      "execution_count": null,
      "id": "f2b23a42",
      "metadata": {
        "id": "f2b23a42"
      },
      "outputs": [],
      "source": [
        "plt.scatter(y_test, test_preds)\n",
        "plt.plot([0, max(y_test)], [0, max(test_preds)], color='gray', lw=1, linestyle='--')\n",
        "\n",
        "plt.xlabel('actual')\n",
        "plt.ylabel('predicted')\n",
        "plt.title('Out-of-Sample Actual vs. Predicted')\n",
        "plt.grid()\n",
        "\n",
        "plt.show()"
      ]
    },
    {
      "cell_type": "markdown",
      "id": "5949fc3b",
      "metadata": {
        "id": "5949fc3b"
      },
      "source": [
        "**Question 1: By only consider the average sales (i.e, sales_avg), what is the predicted CLV when sales_avg_M2 = 800, sales_avg_M3 = 300, sales_avg_M4 = 200, sales_avg_M5 = 100?**"
      ]
    },
    {
      "cell_type": "markdown",
      "id": "2cb76c5c",
      "metadata": {
        "id": "2cb76c5c"
      },
      "source": [
        "Answer 1: "
      ]
    },
    {
      "cell_type": "markdown",
      "id": "9512da58",
      "metadata": {
        "id": "9512da58"
      },
      "source": [
        "**Question 2: By only considering the average sales (i.e., sales_avg), please interpret the impact and significance of previous average sales on the CLV.**"
      ]
    },
    {
      "cell_type": "markdown",
      "id": "10063a13",
      "metadata": {
        "id": "10063a13"
      },
      "source": [
        "Answer 2: "
      ]
    },
    {
      "cell_type": "markdown",
      "id": "beec6de5",
      "metadata": {
        "id": "beec6de5"
      },
      "source": [
        "**Question 3: Suggest ONE sales or marketing strategy the company can take to increase the CLV.**"
      ]
    },
    {
      "cell_type": "markdown",
      "id": "6eab74c4",
      "metadata": {
        "id": "6eab74c4"
      },
      "source": [
        "Answer 3: "
      ]
    },
    {
      "cell_type": "markdown",
      "id": "4d1907aa",
      "metadata": {
        "id": "4d1907aa"
      },
      "source": [
        "**Question 4: Try predict 6-month CLV instead of 3-month, and discuss which prediction (3 or 6 month CLV) gives you a better out-of-sample performance.**"
      ]
    },
    {
      "cell_type": "markdown",
      "id": "361648d7",
      "metadata": {
        "id": "361648d7"
      },
      "source": [
        "Answer 4: "
      ]
    }
  ],
  "metadata": {
    "kernelspec": {
      "display_name": "Python 3 (ipykernel)",
      "language": "python",
      "name": "python3"
    },
    "language_info": {
      "codemirror_mode": {
        "name": "ipython",
        "version": 3
      },
      "file_extension": ".py",
      "mimetype": "text/x-python",
      "name": "python",
      "nbconvert_exporter": "python",
      "pygments_lexer": "ipython3",
      "version": "3.9.7"
    },
    "colab": {
      "provenance": []
    }
  },
  "nbformat": 4,
  "nbformat_minor": 5
}