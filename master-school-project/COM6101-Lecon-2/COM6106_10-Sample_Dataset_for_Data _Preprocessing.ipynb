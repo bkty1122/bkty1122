{
 "cells": [
  {
   "cell_type": "markdown",
   "id": "6b4ca7bf",
   "metadata": {
    "id": "6b4ca7bf"
   },
   "source": [
    "#1. Simulate a 10-Sample Marketing Dataset\n",
    "\n",
    "\n",
    "\n"
   ]
  },
  {
   "cell_type": "code",
   "execution_count": null,
   "id": "d20e1eba",
   "metadata": {
    "id": "d20e1eba",
    "scrolled": true
   },
   "outputs": [],
   "source": [
    "import numpy as np\n",
    "import pandas as pd\n",
    "\n",
    "# Set a random seed for reproducibility\n",
    "np.random.seed(6101)\n",
    "\n",
    "# Simulate some data for marketing analytics (10 samples)\n",
    "data = {\n",
    "    'Age': np.random.randint(20, 65, size=10),  # Customer age\n",
    "    'Income': np.random.normal(50000, 15000, size=10),  # Customer income\n",
    "    'Marital_Status': np.random.choice(['Single', 'Married', 'Divorced'], size=10),  # Marital status\n",
    "    'Total_Purchases': np.random.poisson(5, size=10),  # Total number of purchases\n",
    "    'Campaign_Response': np.random.choice([0, 1], size=10, p=[0.85, 0.15])  # Response to the last campaign\n",
    "}\n",
    "\n",
    "# Convert to DataFrame\n",
    "df = pd.DataFrame(data)\n",
    "\n",
    "# Introduce some missing values\n",
    "nan_indices = np.random.choice(df.index, size=int(len(df) * 0.1), replace=False)\n",
    "df.loc[nan_indices, 'Income'] = np.nan"
   ]
  },
  {
   "cell_type": "code",
   "execution_count": null,
   "id": "129368a7",
   "metadata": {
    "id": "129368a7"
   },
   "outputs": [],
   "source": [
    "df"
   ]
  },
  {
   "cell_type": "markdown",
   "id": "I3uc4nIObGbj",
   "metadata": {
    "id": "I3uc4nIObGbj"
   },
   "source": [
    "#2. Data Cleaning\n"
   ]
  },
  {
   "cell_type": "markdown",
   "id": "7cd02730",
   "metadata": {
    "id": "7cd02730"
   },
   "source": [
    "##2.1 Data Cleaning: Handling Missing Values\n"
   ]
  },
  {
   "cell_type": "markdown",
   "id": "802317f0",
   "metadata": {
    "id": "802317f0"
   },
   "source": [
    "###Example 1 : Filter and Drop"
   ]
  },
  {
   "cell_type": "code",
   "execution_count": null,
   "id": "e549ffe8",
   "metadata": {
    "id": "e549ffe8"
   },
   "outputs": [],
   "source": [
    "# Step 1: Filter the sample with missing values in 'Income'\n",
    "nan_income_samples = df[df['Income'].isna()]"
   ]
  },
  {
   "cell_type": "code",
   "execution_count": null,
   "id": "7c722f9c",
   "metadata": {
    "id": "7c722f9c"
   },
   "outputs": [],
   "source": [
    "nan_income_samples"
   ]
  },
  {
   "cell_type": "code",
   "execution_count": null,
   "id": "383e397f",
   "metadata": {
    "id": "383e397f"
   },
   "outputs": [],
   "source": [
    "#Step 2: Delete the samples with missing values in 'Income'\n",
    "df = df.dropna(subset=['Income'])"
   ]
  },
  {
   "cell_type": "code",
   "execution_count": null,
   "id": "eecbf68d",
   "metadata": {
    "id": "eecbf68d"
   },
   "outputs": [],
   "source": [
    "df"
   ]
  },
  {
   "cell_type": "markdown",
   "id": "59f93404",
   "metadata": {
    "id": "59f93404"
   },
   "source": [
    "###Example 2: Replace the missing value using mean value."
   ]
  },
  {
   "cell_type": "code",
   "execution_count": null,
   "id": "90150e7f",
   "metadata": {
    "colab": {
     "base_uri": "https://localhost:8080/"
    },
    "executionInfo": {
     "elapsed": 1894,
     "status": "ok",
     "timestamp": 1705729709116,
     "user": {
      "displayName": "Tan LI (COM)",
      "userId": "08805943801540042482"
     },
     "user_tz": -480
    },
    "id": "90150e7f",
    "outputId": "be24cc4a-5ad8-421c-a579-324241b0f758"
   },
   "outputs": [
    {
     "name": "stderr",
     "output_type": "stream",
     "text": [
      "<ipython-input-7-aea8c7343b5a>:5: SettingWithCopyWarning: \n",
      "A value is trying to be set on a copy of a slice from a DataFrame.\n",
      "Try using .loc[row_indexer,col_indexer] = value instead\n",
      "\n",
      "See the caveats in the documentation: https://pandas.pydata.org/pandas-docs/stable/user_guide/indexing.html#returning-a-view-versus-a-copy\n",
      "  df['Income'] = imputer.fit_transform(df[['Income']])\n"
     ]
    }
   ],
   "source": [
    "from sklearn.impute import SimpleImputer\n",
    "\n",
    "# Impute the missing values in 'Income' with the mean\n",
    "imputer = SimpleImputer(strategy='mean')\n",
    "df['Income'] = imputer.fit_transform(df[['Income']])"
   ]
  },
  {
   "cell_type": "code",
   "execution_count": null,
   "id": "6036e54a",
   "metadata": {
    "id": "6036e54a"
   },
   "outputs": [],
   "source": [
    "df"
   ]
  },
  {
   "cell_type": "markdown",
   "id": "5bec3557",
   "metadata": {
    "id": "5bec3557"
   },
   "source": [
    "##2.2 Data Cleaning: Outlier Detection and Removal"
   ]
  },
  {
   "cell_type": "markdown",
   "id": "67e11bec",
   "metadata": {
    "id": "67e11bec"
   },
   "source": [
    "###Example 1 : Filter and Drop"
   ]
  },
  {
   "cell_type": "code",
   "execution_count": null,
   "id": "bbb9a07d",
   "metadata": {
    "id": "bbb9a07d"
   },
   "outputs": [],
   "source": [
    "# Step 1 : Calculate IQR\n",
    "Q1 = df['Income'].quantile(0.25)\n",
    "Q3 = df['Income'].quantile(0.75)\n",
    "IQR = Q3 - Q1\n",
    "\n",
    "# Step 2: Define the Upperbound and Lowerbound of the Outlier\n",
    "lower_bound = Q1 - 1.5 * IQR\n",
    "upper_bound = Q3 + 1.5 * IQR\n",
    "\n",
    "# Filter the samples with Outliers\n",
    "outliers = df[(df['Income'] < lower_bound) | (df['Income'] > upper_bound)]"
   ]
  },
  {
   "cell_type": "code",
   "execution_count": null,
   "id": "fb313dbf",
   "metadata": {
    "id": "fb313dbf"
   },
   "outputs": [],
   "source": [
    "print(lower_bound,upper_bound)"
   ]
  },
  {
   "cell_type": "code",
   "execution_count": null,
   "id": "e2647332",
   "metadata": {
    "id": "e2647332"
   },
   "outputs": [],
   "source": [
    "outliers"
   ]
  },
  {
   "cell_type": "code",
   "execution_count": null,
   "id": "8a505ac6",
   "metadata": {
    "id": "8a505ac6"
   },
   "outputs": [],
   "source": [
    "#Step 3: Find the indices of Outliers\n",
    "outlier_indices = outliers.index\n",
    "\n",
    "#Step 4: Delete the samples with Outliers\n",
    "df_clean = df.drop(outlier_indices)"
   ]
  },
  {
   "cell_type": "code",
   "execution_count": null,
   "id": "2963d3e5",
   "metadata": {
    "id": "2963d3e5"
   },
   "outputs": [],
   "source": [
    "df_clean"
   ]
  },
  {
   "cell_type": "markdown",
   "id": "b8158e74",
   "metadata": {
    "id": "b8158e74"
   },
   "source": [
    "###Example 2: directly detect the outliers"
   ]
  },
  {
   "cell_type": "code",
   "execution_count": null,
   "id": "c77cf446",
   "metadata": {
    "id": "c77cf446"
   },
   "outputs": [],
   "source": [
    "from sklearn.ensemble import IsolationForest\n",
    "\n",
    "# Detect and remove outliers in the 'Income' feature using Isolation Forest\n",
    "iso_forest = IsolationForest(contamination=0.25)\n",
    "outliers = iso_forest.fit_predict(df[['Income']].fillna(df['Income'].mean()))\n",
    "\n",
    "# Filter out the outliers\n",
    "df_clean = df[outliers != -1]\n",
    "\n",
    "df_clean"
   ]
  },
  {
   "cell_type": "markdown",
   "id": "b85a1e51",
   "metadata": {
    "id": "b85a1e51"
   },
   "source": [
    "#3. Data transformation"
   ]
  },
  {
   "cell_type": "markdown",
   "id": "9a4157f5",
   "metadata": {
    "id": "9a4157f5"
   },
   "source": [
    "##3.1 Data Nomalization"
   ]
  },
  {
   "cell_type": "code",
   "execution_count": null,
   "id": "cd6d8242",
   "metadata": {
    "id": "cd6d8242"
   },
   "outputs": [],
   "source": [
    "from sklearn.preprocessing import MinMaxScaler\n",
    "\n",
    "# Normalize 'Age' and 'Income' using MinMaxScaler\n",
    "scaler = MinMaxScaler()\n",
    "df_clean[['Age', 'Income']] = scaler.fit_transform(df_clean[['Age', 'Income']])\n",
    "df_clean"
   ]
  },
  {
   "cell_type": "markdown",
   "id": "6140ce0a",
   "metadata": {
    "id": "6140ce0a"
   },
   "source": [
    "##3.2 Encoding Categorical Data"
   ]
  },
  {
   "cell_type": "code",
   "execution_count": null,
   "id": "0ba09411",
   "metadata": {
    "id": "0ba09411"
   },
   "outputs": [],
   "source": [
    "# One-hot encode 'Marital_Status' using pandas get_dummies\n",
    "df_encoded = pd.get_dummies(df_clean, columns=['Marital_Status'])"
   ]
  },
  {
   "cell_type": "code",
   "execution_count": null,
   "id": "8ba703a1",
   "metadata": {
    "id": "8ba703a1",
    "scrolled": true
   },
   "outputs": [],
   "source": [
    "df_encoded"
   ]
  },
  {
   "cell_type": "markdown",
   "id": "9642eb07",
   "metadata": {
    "id": "9642eb07"
   },
   "source": [
    "#4. Data Reduction"
   ]
  },
  {
   "cell_type": "markdown",
   "id": "ca8238c5",
   "metadata": {
    "id": "ca8238c5"
   },
   "source": [
    "##4.1 Feature reduction"
   ]
  },
  {
   "cell_type": "code",
   "execution_count": null,
   "id": "c1a1142f",
   "metadata": {
    "id": "c1a1142f"
   },
   "outputs": [],
   "source": [
    "from sklearn.feature_selection import SelectKBest, chi2\n",
    "\n",
    "# Select top k features based on chi-squared test\n",
    "selector = SelectKBest(chi2, k=3)\n",
    "X_new = selector.fit_transform(df_encoded.drop('Campaign_Response', axis=1), df_encoded['Campaign_Response'])\n",
    "\n",
    "# Get the selected feature names\n",
    "selected_features = df_encoded.drop('Campaign_Response', axis=1).columns[selector.get_support()]\n",
    "\n",
    "print(selected_features)"
   ]
  },
  {
   "cell_type": "markdown",
   "id": "e73b5124",
   "metadata": {
    "id": "e73b5124"
   },
   "source": [
    "##4.2 Sample reduction"
   ]
  },
  {
   "cell_type": "code",
   "execution_count": null,
   "id": "e58ccfe6",
   "metadata": {
    "id": "e58ccfe6"
   },
   "outputs": [],
   "source": [
    "# Randomly select 80% of the instances\n",
    "df_sampled = df_encoded.sample(frac=0.8, random_state=0)\n",
    "\n",
    "df_sampled"
   ]
  },
  {
   "cell_type": "code",
   "execution_count": null,
   "id": "280cd2f7",
   "metadata": {
    "id": "280cd2f7"
   },
   "outputs": [],
   "source": []
  }
 ],
 "metadata": {
  "colab": {
   "provenance": []
  },
  "kernelspec": {
   "display_name": "Python 3 (ipykernel)",
   "language": "python",
   "name": "python3"
  },
  "language_info": {
   "codemirror_mode": {
    "name": "ipython",
    "version": 3
   },
   "file_extension": ".py",
   "mimetype": "text/x-python",
   "name": "python",
   "nbconvert_exporter": "python",
   "pygments_lexer": "ipython3",
   "version": "3.8.16"
  }
 },
 "nbformat": 4,
 "nbformat_minor": 5
}
