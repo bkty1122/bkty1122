{
 "cells": [
  {
   "cell_type": "markdown",
   "id": "c642d0ac",
   "metadata": {
    "id": "c642d0ac"
   },
   "source": [
    "**Import libraries**"
   ]
  },
  {
   "cell_type": "code",
   "execution_count": 1,
   "id": "5a20ef41",
   "metadata": {
    "id": "5a20ef41"
   },
   "outputs": [],
   "source": [
    "import numpy as np\n",
    "import pandas as pd\n",
    "import seaborn as sns\n",
    "%matplotlib inline\n",
    "import matplotlib.pyplot as plt"
   ]
  },
  {
   "cell_type": "markdown",
   "id": "ac975a53",
   "metadata": {
    "id": "ac975a53"
   },
   "source": [
    "**Load dataset**"
   ]
  },
  {
   "cell_type": "code",
   "execution_count": 3,
   "id": "b67e812d",
   "metadata": {
    "id": "b67e812d"
   },
   "outputs": [],
   "source": [
    "df = pd.read_csv('Q3.csv')"
   ]
  },
  {
   "cell_type": "code",
   "execution_count": 4,
   "id": "895ee858",
   "metadata": {
    "colab": {
     "base_uri": "https://localhost:8080/"
    },
    "id": "895ee858",
    "outputId": "7dca46df-f037-48ee-f9a8-8d8a40e70541"
   },
   "outputs": [
    {
     "name": "stdout",
     "output_type": "stream",
     "text": [
      "<class 'pandas.core.frame.DataFrame'>\n",
      "RangeIndex: 9954 entries, 0 to 9953\n",
      "Data columns (total 12 columns):\n",
      " #   Column          Non-Null Count  Dtype  \n",
      "---  ------          --------------  -----  \n",
      " 0   id              9954 non-null   int64  \n",
      " 1   gender          9954 non-null   object \n",
      " 2   area            9954 non-null   object \n",
      " 3   qualification   9954 non-null   object \n",
      " 4   income          9953 non-null   object \n",
      " 5   marital_status  9953 non-null   float64\n",
      " 6   vintage         9953 non-null   float64\n",
      " 7   claim_amount    9953 non-null   float64\n",
      " 8   num_policies    9953 non-null   object \n",
      " 9   policy          9953 non-null   object \n",
      " 10  type_of_policy  9953 non-null   object \n",
      " 11  cltv            9952 non-null   float64\n",
      "dtypes: float64(4), int64(1), object(7)\n",
      "memory usage: 933.3+ KB\n"
     ]
    }
   ],
   "source": [
    "df.info()"
   ]
  },
  {
   "cell_type": "markdown",
   "id": "b9f6520d",
   "metadata": {
    "id": "b9f6520d"
   },
   "source": [
    "**Data cleaning**"
   ]
  },
  {
   "cell_type": "code",
   "execution_count": 5,
   "id": "90907673",
   "metadata": {
    "colab": {
     "base_uri": "https://localhost:8080/"
    },
    "id": "90907673",
    "outputId": "536ef9dd-f123-4fbe-bfc8-8447918e68df"
   },
   "outputs": [
    {
     "data": {
      "text/plain": [
       "(1, 12)"
      ]
     },
     "execution_count": 5,
     "metadata": {},
     "output_type": "execute_result"
    }
   ],
   "source": [
    "# Remove data records with negative vintage quantity\n",
    "df.loc[df['vintage'] < 0].shape"
   ]
  },
  {
   "cell_type": "code",
   "execution_count": 6,
   "id": "63f1bba6",
   "metadata": {
    "id": "63f1bba6"
   },
   "outputs": [],
   "source": [
    "df = df.loc[df['vintage'] >= 0]"
   ]
  },
  {
   "cell_type": "code",
   "execution_count": 7,
   "id": "a559dbac",
   "metadata": {
    "colab": {
     "base_uri": "https://localhost:8080/"
    },
    "id": "a559dbac",
    "outputId": "4a83aac8-2716-4ce7-f3f7-05288215ac81"
   },
   "outputs": [
    {
     "data": {
      "text/plain": [
       "(9952, 12)"
      ]
     },
     "execution_count": 7,
     "metadata": {},
     "output_type": "execute_result"
    }
   ],
   "source": [
    "df.shape"
   ]
  },
  {
   "cell_type": "code",
   "execution_count": 8,
   "id": "70c8c47e",
   "metadata": {
    "colab": {
     "base_uri": "https://localhost:8080/"
    },
    "id": "70c8c47e",
    "outputId": "994e79e3-b3a7-4f18-f09f-40e7a9056ba3"
   },
   "outputs": [
    {
     "data": {
      "text/plain": [
       "(9951, 12)"
      ]
     },
     "execution_count": 8,
     "metadata": {},
     "output_type": "execute_result"
    }
   ],
   "source": [
    "# Remove a very few records with missing values\n",
    "df = df.dropna()\n",
    "df.shape"
   ]
  },
  {
   "cell_type": "code",
   "execution_count": 9,
   "id": "EhRFo9eUvYtE",
   "metadata": {
    "id": "EhRFo9eUvYtE"
   },
   "outputs": [],
   "source": [
    "# Remove the record with policy of D\n",
    "df = df.loc[df['policy'] != 'D']"
   ]
  },
  {
   "cell_type": "code",
   "execution_count": 10,
   "id": "IYiUQ6c2v6JS",
   "metadata": {
    "colab": {
     "base_uri": "https://localhost:8080/"
    },
    "id": "IYiUQ6c2v6JS",
    "outputId": "931ab9b4-378b-480d-8ba6-2dd9e2f32334"
   },
   "outputs": [
    {
     "data": {
      "text/plain": [
       "(9949, 12)"
      ]
     },
     "execution_count": 10,
     "metadata": {},
     "output_type": "execute_result"
    }
   ],
   "source": [
    "df.shape"
   ]
  },
  {
   "cell_type": "markdown",
   "id": "A8paynT5KODI",
   "metadata": {
    "id": "A8paynT5KODI"
   },
   "source": [
    "**Some EDA**"
   ]
  },
  {
   "cell_type": "code",
   "execution_count": 11,
   "id": "11448c6d",
   "metadata": {
    "colab": {
     "base_uri": "https://localhost:8080/",
     "height": 656
    },
    "id": "11448c6d",
    "outputId": "e9489796-08b9-43c3-8691-bdf452043371"
   },
   "outputs": [
    {
     "name": "stderr",
     "output_type": "stream",
     "text": [
      "/var/folders/2z/zq8_f9rn02v5pyks4b7qmj2m0000gn/T/ipykernel_12989/1105076846.py:1: UserWarning: \n",
      "\n",
      "`distplot` is a deprecated function and will be removed in seaborn v0.14.0.\n",
      "\n",
      "Please adapt your code to use either `displot` (a figure-level function with\n",
      "similar flexibility) or `histplot` (an axes-level function for histograms).\n",
      "\n",
      "For a guide to updating your code to use the new functions, please see\n",
      "https://gist.github.com/mwaskom/de44147ed2974457ad6372750bbe5751\n",
      "\n",
      "  sns.distplot(df[\"cltv\"])\n"
     ]
    },
    {
     "data": {
      "image/png": "[encoded data removed]",
      "text/plain": [
       "<Figure size 640x480 with 1 Axes>"
      ]
     },
     "metadata": {},
     "output_type": "display_data"
    }
   ],
   "source": [
    "sns.distplot(df[\"cltv\"])\n",
    "plt.show()"
   ]
  },
  {
   "cell_type": "code",
   "execution_count": 12,
   "id": "1aab8b7e",
   "metadata": {
    "colab": {
     "base_uri": "https://localhost:8080/",
     "height": 430
    },
    "id": "1aab8b7e",
    "outputId": "5c8137dc-a4cf-4b1b-867c-992fece46671"
   },
   "outputs": [
    {
     "data": {
      "image/png": "[encoded data removed]",
      "text/plain": [
       "<Figure size 640x480 with 1 Axes>"
      ]
     },
     "metadata": {},
     "output_type": "display_data"
    }
   ],
   "source": [
    "sns.boxplot(df[\"cltv\"])\n",
    "plt.show()"
   ]
  },
  {
   "cell_type": "markdown",
   "id": "735a80d2",
   "metadata": {
    "id": "735a80d2"
   },
   "source": [
    "**One hot encoding**"
   ]
  },
  {
   "cell_type": "code",
   "execution_count": 13,
   "id": "a2aae429",
   "metadata": {
    "id": "a2aae429"
   },
   "outputs": [],
   "source": [
    "from sklearn.preprocessing import OneHotEncoder\n",
    "train = pd.get_dummies(df[['id','gender', 'area','qualification', 'income', 'marital_status', 'vintage', 'claim_amount','num_policies','policy','type_of_policy','cltv']])"
   ]
  },
  {
   "cell_type": "code",
   "execution_count": 14,
   "id": "f80a4ab3",
   "metadata": {},
   "outputs": [
    {
     "data": {
      "text/html": [
       "<div>\n",
       "<style scoped>\n",
       "    .dataframe tbody tr th:only-of-type {\n",
       "        vertical-align: middle;\n",
       "    }\n",
       "\n",
       "    .dataframe tbody tr th {\n",
       "        vertical-align: top;\n",
       "    }\n",
       "\n",
       "    .dataframe thead th {\n",
       "        text-align: right;\n",
       "    }\n",
       "</style>\n",
       "<table border=\"1\" class=\"dataframe\">\n",
       "  <thead>\n",
       "    <tr style=\"text-align: right;\">\n",
       "      <th></th>\n",
       "      <th>id</th>\n",
       "      <th>marital_status</th>\n",
       "      <th>vintage</th>\n",
       "      <th>claim_amount</th>\n",
       "      <th>cltv</th>\n",
       "      <th>gender_Female</th>\n",
       "      <th>gender_Male</th>\n",
       "      <th>area_Rural</th>\n",
       "      <th>area_Urban</th>\n",
       "      <th>qualification_Bachelor</th>\n",
       "      <th>...</th>\n",
       "      <th>income_&lt;=2L</th>\n",
       "      <th>income_More than 10L</th>\n",
       "      <th>num_policies_1</th>\n",
       "      <th>num_policies_More than 1</th>\n",
       "      <th>policy_A</th>\n",
       "      <th>policy_B</th>\n",
       "      <th>policy_C</th>\n",
       "      <th>type_of_policy_Gold</th>\n",
       "      <th>type_of_policy_Platinum</th>\n",
       "      <th>type_of_policy_Silver</th>\n",
       "    </tr>\n",
       "  </thead>\n",
       "  <tbody>\n",
       "    <tr>\n",
       "      <th>0</th>\n",
       "      <td>1</td>\n",
       "      <td>1.0</td>\n",
       "      <td>5.0</td>\n",
       "      <td>5790.0</td>\n",
       "      <td>64308.0</td>\n",
       "      <td>0</td>\n",
       "      <td>1</td>\n",
       "      <td>0</td>\n",
       "      <td>1</td>\n",
       "      <td>1</td>\n",
       "      <td>...</td>\n",
       "      <td>0</td>\n",
       "      <td>0</td>\n",
       "      <td>0</td>\n",
       "      <td>1</td>\n",
       "      <td>1</td>\n",
       "      <td>0</td>\n",
       "      <td>0</td>\n",
       "      <td>0</td>\n",
       "      <td>1</td>\n",
       "      <td>0</td>\n",
       "    </tr>\n",
       "    <tr>\n",
       "      <th>1</th>\n",
       "      <td>2</td>\n",
       "      <td>0.0</td>\n",
       "      <td>8.0</td>\n",
       "      <td>5080.0</td>\n",
       "      <td>515400.0</td>\n",
       "      <td>0</td>\n",
       "      <td>1</td>\n",
       "      <td>1</td>\n",
       "      <td>0</td>\n",
       "      <td>0</td>\n",
       "      <td>...</td>\n",
       "      <td>0</td>\n",
       "      <td>0</td>\n",
       "      <td>0</td>\n",
       "      <td>1</td>\n",
       "      <td>1</td>\n",
       "      <td>0</td>\n",
       "      <td>0</td>\n",
       "      <td>0</td>\n",
       "      <td>1</td>\n",
       "      <td>0</td>\n",
       "    </tr>\n",
       "    <tr>\n",
       "      <th>2</th>\n",
       "      <td>3</td>\n",
       "      <td>1.0</td>\n",
       "      <td>8.0</td>\n",
       "      <td>2599.0</td>\n",
       "      <td>64212.0</td>\n",
       "      <td>0</td>\n",
       "      <td>1</td>\n",
       "      <td>0</td>\n",
       "      <td>1</td>\n",
       "      <td>1</td>\n",
       "      <td>...</td>\n",
       "      <td>0</td>\n",
       "      <td>0</td>\n",
       "      <td>0</td>\n",
       "      <td>1</td>\n",
       "      <td>1</td>\n",
       "      <td>0</td>\n",
       "      <td>0</td>\n",
       "      <td>0</td>\n",
       "      <td>1</td>\n",
       "      <td>0</td>\n",
       "    </tr>\n",
       "    <tr>\n",
       "      <th>3</th>\n",
       "      <td>4</td>\n",
       "      <td>0.0</td>\n",
       "      <td>7.0</td>\n",
       "      <td>0.0</td>\n",
       "      <td>97920.0</td>\n",
       "      <td>1</td>\n",
       "      <td>0</td>\n",
       "      <td>1</td>\n",
       "      <td>0</td>\n",
       "      <td>0</td>\n",
       "      <td>...</td>\n",
       "      <td>0</td>\n",
       "      <td>0</td>\n",
       "      <td>0</td>\n",
       "      <td>1</td>\n",
       "      <td>1</td>\n",
       "      <td>0</td>\n",
       "      <td>0</td>\n",
       "      <td>0</td>\n",
       "      <td>1</td>\n",
       "      <td>0</td>\n",
       "    </tr>\n",
       "    <tr>\n",
       "      <th>4</th>\n",
       "      <td>5</td>\n",
       "      <td>1.0</td>\n",
       "      <td>6.0</td>\n",
       "      <td>3508.0</td>\n",
       "      <td>59736.0</td>\n",
       "      <td>0</td>\n",
       "      <td>1</td>\n",
       "      <td>0</td>\n",
       "      <td>1</td>\n",
       "      <td>0</td>\n",
       "      <td>...</td>\n",
       "      <td>0</td>\n",
       "      <td>1</td>\n",
       "      <td>0</td>\n",
       "      <td>1</td>\n",
       "      <td>1</td>\n",
       "      <td>0</td>\n",
       "      <td>0</td>\n",
       "      <td>1</td>\n",
       "      <td>0</td>\n",
       "      <td>0</td>\n",
       "    </tr>\n",
       "  </tbody>\n",
       "</table>\n",
       "<p>5 rows × 24 columns</p>\n",
       "</div>"
      ],
      "text/plain": [
       "   id  marital_status  vintage  claim_amount      cltv  gender_Female  \\\n",
       "0   1             1.0      5.0        5790.0   64308.0              0   \n",
       "1   2             0.0      8.0        5080.0  515400.0              0   \n",
       "2   3             1.0      8.0        2599.0   64212.0              0   \n",
       "3   4             0.0      7.0           0.0   97920.0              1   \n",
       "4   5             1.0      6.0        3508.0   59736.0              0   \n",
       "\n",
       "   gender_Male  area_Rural  area_Urban  qualification_Bachelor  ...  \\\n",
       "0            1           0           1                       1  ...   \n",
       "1            1           1           0                       0  ...   \n",
       "2            1           0           1                       1  ...   \n",
       "3            0           1           0                       0  ...   \n",
       "4            1           0           1                       0  ...   \n",
       "\n",
       "   income_<=2L  income_More than 10L  num_policies_1  \\\n",
       "0            0                     0               0   \n",
       "1            0                     0               0   \n",
       "2            0                     0               0   \n",
       "3            0                     0               0   \n",
       "4            0                     1               0   \n",
       "\n",
       "   num_policies_More than 1  policy_A  policy_B  policy_C  \\\n",
       "0                         1         1         0         0   \n",
       "1                         1         1         0         0   \n",
       "2                         1         1         0         0   \n",
       "3                         1         1         0         0   \n",
       "4                         1         1         0         0   \n",
       "\n",
       "   type_of_policy_Gold  type_of_policy_Platinum  type_of_policy_Silver  \n",
       "0                    0                        1                      0  \n",
       "1                    0                        1                      0  \n",
       "2                    0                        1                      0  \n",
       "3                    0                        1                      0  \n",
       "4                    1                        0                      0  \n",
       "\n",
       "[5 rows x 24 columns]"
      ]
     },
     "execution_count": 14,
     "metadata": {},
     "output_type": "execute_result"
    }
   ],
   "source": [
    "train.head()"
   ]
  },
  {
   "cell_type": "code",
   "execution_count": 15,
   "id": "07ae912d",
   "metadata": {
    "id": "07ae912d"
   },
   "outputs": [],
   "source": [
    "train.drop(['gender_Female','gender_Male','area_Rural','area_Urban'],axis =1, inplace=True)"
   ]
  },
  {
   "cell_type": "code",
   "execution_count": 16,
   "id": "a57f6e16",
   "metadata": {
    "colab": {
     "base_uri": "https://localhost:8080/",
     "height": 287
    },
    "id": "a57f6e16",
    "outputId": "9240f3d4-7dba-42d1-de5a-c656c830f45e"
   },
   "outputs": [
    {
     "data": {
      "text/html": [
       "<div>\n",
       "<style scoped>\n",
       "    .dataframe tbody tr th:only-of-type {\n",
       "        vertical-align: middle;\n",
       "    }\n",
       "\n",
       "    .dataframe tbody tr th {\n",
       "        vertical-align: top;\n",
       "    }\n",
       "\n",
       "    .dataframe thead th {\n",
       "        text-align: right;\n",
       "    }\n",
       "</style>\n",
       "<table border=\"1\" class=\"dataframe\">\n",
       "  <thead>\n",
       "    <tr style=\"text-align: right;\">\n",
       "      <th></th>\n",
       "      <th>id</th>\n",
       "      <th>marital_status</th>\n",
       "      <th>vintage</th>\n",
       "      <th>claim_amount</th>\n",
       "      <th>cltv</th>\n",
       "      <th>qualification_Bachelor</th>\n",
       "      <th>qualification_High School</th>\n",
       "      <th>qualification_Others</th>\n",
       "      <th>income_2L-5L</th>\n",
       "      <th>income_5L-10L</th>\n",
       "      <th>income_&lt;=2L</th>\n",
       "      <th>income_More than 10L</th>\n",
       "      <th>num_policies_1</th>\n",
       "      <th>num_policies_More than 1</th>\n",
       "      <th>policy_A</th>\n",
       "      <th>policy_B</th>\n",
       "      <th>policy_C</th>\n",
       "      <th>type_of_policy_Gold</th>\n",
       "      <th>type_of_policy_Platinum</th>\n",
       "      <th>type_of_policy_Silver</th>\n",
       "    </tr>\n",
       "  </thead>\n",
       "  <tbody>\n",
       "    <tr>\n",
       "      <th>0</th>\n",
       "      <td>1</td>\n",
       "      <td>1.0</td>\n",
       "      <td>5.0</td>\n",
       "      <td>5790.0</td>\n",
       "      <td>64308.0</td>\n",
       "      <td>1</td>\n",
       "      <td>0</td>\n",
       "      <td>0</td>\n",
       "      <td>0</td>\n",
       "      <td>1</td>\n",
       "      <td>0</td>\n",
       "      <td>0</td>\n",
       "      <td>0</td>\n",
       "      <td>1</td>\n",
       "      <td>1</td>\n",
       "      <td>0</td>\n",
       "      <td>0</td>\n",
       "      <td>0</td>\n",
       "      <td>1</td>\n",
       "      <td>0</td>\n",
       "    </tr>\n",
       "    <tr>\n",
       "      <th>1</th>\n",
       "      <td>2</td>\n",
       "      <td>0.0</td>\n",
       "      <td>8.0</td>\n",
       "      <td>5080.0</td>\n",
       "      <td>515400.0</td>\n",
       "      <td>0</td>\n",
       "      <td>1</td>\n",
       "      <td>0</td>\n",
       "      <td>0</td>\n",
       "      <td>1</td>\n",
       "      <td>0</td>\n",
       "      <td>0</td>\n",
       "      <td>0</td>\n",
       "      <td>1</td>\n",
       "      <td>1</td>\n",
       "      <td>0</td>\n",
       "      <td>0</td>\n",
       "      <td>0</td>\n",
       "      <td>1</td>\n",
       "      <td>0</td>\n",
       "    </tr>\n",
       "    <tr>\n",
       "      <th>2</th>\n",
       "      <td>3</td>\n",
       "      <td>1.0</td>\n",
       "      <td>8.0</td>\n",
       "      <td>2599.0</td>\n",
       "      <td>64212.0</td>\n",
       "      <td>1</td>\n",
       "      <td>0</td>\n",
       "      <td>0</td>\n",
       "      <td>0</td>\n",
       "      <td>1</td>\n",
       "      <td>0</td>\n",
       "      <td>0</td>\n",
       "      <td>0</td>\n",
       "      <td>1</td>\n",
       "      <td>1</td>\n",
       "      <td>0</td>\n",
       "      <td>0</td>\n",
       "      <td>0</td>\n",
       "      <td>1</td>\n",
       "      <td>0</td>\n",
       "    </tr>\n",
       "    <tr>\n",
       "      <th>3</th>\n",
       "      <td>4</td>\n",
       "      <td>0.0</td>\n",
       "      <td>7.0</td>\n",
       "      <td>0.0</td>\n",
       "      <td>97920.0</td>\n",
       "      <td>0</td>\n",
       "      <td>1</td>\n",
       "      <td>0</td>\n",
       "      <td>0</td>\n",
       "      <td>1</td>\n",
       "      <td>0</td>\n",
       "      <td>0</td>\n",
       "      <td>0</td>\n",
       "      <td>1</td>\n",
       "      <td>1</td>\n",
       "      <td>0</td>\n",
       "      <td>0</td>\n",
       "      <td>0</td>\n",
       "      <td>1</td>\n",
       "      <td>0</td>\n",
       "    </tr>\n",
       "    <tr>\n",
       "      <th>4</th>\n",
       "      <td>5</td>\n",
       "      <td>1.0</td>\n",
       "      <td>6.0</td>\n",
       "      <td>3508.0</td>\n",
       "      <td>59736.0</td>\n",
       "      <td>0</td>\n",
       "      <td>1</td>\n",
       "      <td>0</td>\n",
       "      <td>0</td>\n",
       "      <td>0</td>\n",
       "      <td>0</td>\n",
       "      <td>1</td>\n",
       "      <td>0</td>\n",
       "      <td>1</td>\n",
       "      <td>1</td>\n",
       "      <td>0</td>\n",
       "      <td>0</td>\n",
       "      <td>1</td>\n",
       "      <td>0</td>\n",
       "      <td>0</td>\n",
       "    </tr>\n",
       "  </tbody>\n",
       "</table>\n",
       "</div>"
      ],
      "text/plain": [
       "   id  marital_status  vintage  claim_amount      cltv  \\\n",
       "0   1             1.0      5.0        5790.0   64308.0   \n",
       "1   2             0.0      8.0        5080.0  515400.0   \n",
       "2   3             1.0      8.0        2599.0   64212.0   \n",
       "3   4             0.0      7.0           0.0   97920.0   \n",
       "4   5             1.0      6.0        3508.0   59736.0   \n",
       "\n",
       "   qualification_Bachelor  qualification_High School  qualification_Others  \\\n",
       "0                       1                          0                     0   \n",
       "1                       0                          1                     0   \n",
       "2                       1                          0                     0   \n",
       "3                       0                          1                     0   \n",
       "4                       0                          1                     0   \n",
       "\n",
       "   income_2L-5L  income_5L-10L  income_<=2L  income_More than 10L  \\\n",
       "0             0              1            0                     0   \n",
       "1             0              1            0                     0   \n",
       "2             0              1            0                     0   \n",
       "3             0              1            0                     0   \n",
       "4             0              0            0                     1   \n",
       "\n",
       "   num_policies_1  num_policies_More than 1  policy_A  policy_B  policy_C  \\\n",
       "0               0                         1         1         0         0   \n",
       "1               0                         1         1         0         0   \n",
       "2               0                         1         1         0         0   \n",
       "3               0                         1         1         0         0   \n",
       "4               0                         1         1         0         0   \n",
       "\n",
       "   type_of_policy_Gold  type_of_policy_Platinum  type_of_policy_Silver  \n",
       "0                    0                        1                      0  \n",
       "1                    0                        1                      0  \n",
       "2                    0                        1                      0  \n",
       "3                    0                        1                      0  \n",
       "4                    1                        0                      0  "
      ]
     },
     "execution_count": 16,
     "metadata": {},
     "output_type": "execute_result"
    }
   ],
   "source": [
    "train.head()"
   ]
  },
  {
   "cell_type": "markdown",
   "id": "n7OEeYUpKaaH",
   "metadata": {
    "id": "n7OEeYUpKaaH"
   },
   "source": [
    "**Model buildiing**"
   ]
  },
  {
   "cell_type": "code",
   "execution_count": 36,
   "id": "12ca78c0",
   "metadata": {
    "id": "12ca78c0"
   },
   "outputs": [],
   "source": [
    "from sklearn.model_selection import train_test_split\n",
    "\n",
    "X = train.drop('cltv' , axis = 1)\n",
    "y = train['cltv']\n",
    "\n",
    "X_train,X_test,y_train,y_test=train_test_split(X,y,test_size=0.30,random_state=42)"
   ]
  },
  {
   "cell_type": "code",
   "execution_count": 37,
   "id": "ba80499f",
   "metadata": {
    "colab": {
     "base_uri": "https://localhost:8080/"
    },
    "id": "ba80499f",
    "outputId": "10dc60bb-3396-42b7-de46-15bf840bc35a"
   },
   "outputs": [
    {
     "name": "stdout",
     "output_type": "stream",
     "text": [
      "The size of training input is (6964, 19)\n",
      "The size of training output is (6964,)\n",
      "**************************************************\n",
      "The size of testing input is (2985, 19)\n",
      "The size of testing output is (2985,)\n"
     ]
    }
   ],
   "source": [
    "print(\"The size of training input is\", X_train.shape)\n",
    "print(\"The size of training output is\", y_train.shape)\n",
    "print(50 *'*')\n",
    "print(\"The size of testing input is\", X_test.shape)\n",
    "print(\"The size of testing output is\", y_test.shape)"
   ]
  },
  {
   "cell_type": "code",
   "execution_count": 38,
   "id": "39590120",
   "metadata": {
    "id": "39590120"
   },
   "outputs": [],
   "source": [
    "from sklearn.preprocessing import StandardScaler\n",
    "from sklearn.model_selection import train_test_split\n",
    "from sklearn.metrics import mean_squared_error as mse\n",
    "from sklearn.metrics import mean_absolute_error as mae\n",
    "from sklearn.metrics import r2_score\n",
    "\n",
    "from math import sqrt\n",
    "\n",
    "from sklearn.model_selection import GridSearchCV\n",
    "from sklearn.model_selection import RandomizedSearchCV\n",
    "\n",
    "from sklearn.linear_model import LinearRegression\n",
    "from sklearn.model_selection import KFold"
   ]
  },
  {
   "cell_type": "code",
   "execution_count": 39,
   "id": "5fceaba4",
   "metadata": {
    "colab": {
     "base_uri": "https://localhost:8080/"
    },
    "id": "5fceaba4",
    "outputId": "f94161d5-ed9a-4079-97ce-d4d5867a322f"
   },
   "outputs": [
    {
     "name": "stdout",
     "output_type": "stream",
     "text": [
      "R^2 score for train: 0.14876417934039043\n",
      "R^2 score for test: 0.1633507291583126\n"
     ]
    }
   ],
   "source": [
    "lr = LinearRegression()\n",
    "model = lr.fit(X_train,y_train)\n",
    "print(f'R^2 score for train: {lr.score(X_train, y_train)}')\n",
    "print(f'R^2 score for test: {lr.score(X_test, y_test)}')"
   ]
  },
  {
   "cell_type": "code",
   "execution_count": 40,
   "id": "77401125",
   "metadata": {
    "id": "77401125"
   },
   "outputs": [],
   "source": [
    "y_pred = model.predict(X_test)"
   ]
  },
  {
   "cell_type": "code",
   "execution_count": 41,
   "id": "57adf5aa",
   "metadata": {
    "colab": {
     "base_uri": "https://localhost:8080/"
    },
    "id": "57adf5aa",
    "outputId": "8bb9986f-4f7f-42e5-f2a7-dc9f6175c843"
   },
   "outputs": [
    {
     "name": "stdout",
     "output_type": "stream",
     "text": [
      "RMSE: 84418.9111632699\n",
      "MAE 51504.39636326641\n",
      "R-squared: 0.1633507291583126\n"
     ]
    }
   ],
   "source": [
    "print('RMSE:',np.sqrt(mse(y_test,y_pred)))\n",
    "print(\"MAE\",mae(y_test,y_pred))\n",
    "print('R-squared:',r2_score(y_test,y_pred)) "
   ]
  },
  {
   "cell_type": "markdown",
   "id": "HlA7Hkp-Rma0",
   "metadata": {
    "id": "HlA7Hkp-Rma0"
   },
   "source": [
    "**Question: Any sales / marketing stragies to further improve CLV?**"
   ]
  },
  {
   "cell_type": "markdown",
   "id": "VGHYiKEXRq1y",
   "metadata": {
    "id": "VGHYiKEXRq1y"
   },
   "source": [
    "Some suggested answers:\n",
    "1. Offer a Referral Program\n",
    "2. Provide Targeted, Personalized Campaigns\n",
    "3. Put Them First – Hear Your Customers\n",
    "4. Create Content to Keep Customers Engaged\n",
    "5. Optimize Your Customer Service\n",
    "6. Reward Your Most Loyal Clients\n",
    "7. Benefit from Cross-Selling and Upselling Strategies"
   ]
  }
 ],
 "metadata": {
  "colab": {
   "provenance": []
  },
  "kernelspec": {
   "display_name": "Python 3 (ipykernel)",
   "language": "python",
   "name": "python3"
  },
  "language_info": {
   "codemirror_mode": {
    "name": "ipython",
    "version": 3
   },
   "file_extension": ".py",
   "mimetype": "text/x-python",
   "name": "python",
   "nbconvert_exporter": "python",
   "pygments_lexer": "ipython3",
   "version": "3.8.16"
  }
 },
 "nbformat": 4,
 "nbformat_minor": 5
}
