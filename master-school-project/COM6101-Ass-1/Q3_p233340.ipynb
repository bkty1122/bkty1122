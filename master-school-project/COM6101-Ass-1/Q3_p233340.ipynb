{
 "cells": [
  {
   "cell_type": "markdown",
   "metadata": {},
   "source": [
    "# Q3: Conduct a customer lifetime value prediction for an insurance company."
   ]
  },
  {
   "cell_type": "markdown",
   "metadata": {},
   "source": [
    "* Student ID: p233340 \n",
    "* Name: Kwok Tsz Yi\n",
    "* Course: COM6101"
   ]
  },
  {
   "cell_type": "code",
   "execution_count": 361,
   "metadata": {},
   "outputs": [
    {
     "data": {
      "text/html": [
       "<div>\n",
       "<style scoped>\n",
       "    .dataframe tbody tr th:only-of-type {\n",
       "        vertical-align: middle;\n",
       "    }\n",
       "\n",
       "    .dataframe tbody tr th {\n",
       "        vertical-align: top;\n",
       "    }\n",
       "\n",
       "    .dataframe thead th {\n",
       "        text-align: right;\n",
       "    }\n",
       "</style>\n",
       "<table border=\"1\" class=\"dataframe\">\n",
       "  <thead>\n",
       "    <tr style=\"text-align: right;\">\n",
       "      <th></th>\n",
       "      <th>id</th>\n",
       "      <th>gender</th>\n",
       "      <th>area</th>\n",
       "      <th>qualification</th>\n",
       "      <th>income</th>\n",
       "      <th>marital_status</th>\n",
       "      <th>vintage</th>\n",
       "      <th>claim_amount</th>\n",
       "      <th>num_policies</th>\n",
       "      <th>policy</th>\n",
       "      <th>type_of_policy</th>\n",
       "      <th>cltv</th>\n",
       "    </tr>\n",
       "  </thead>\n",
       "  <tbody>\n",
       "    <tr>\n",
       "      <th>0</th>\n",
       "      <td>1</td>\n",
       "      <td>Male</td>\n",
       "      <td>Urban</td>\n",
       "      <td>Bachelor</td>\n",
       "      <td>5L-10L</td>\n",
       "      <td>1.0</td>\n",
       "      <td>5.0</td>\n",
       "      <td>5790.0</td>\n",
       "      <td>More than 1</td>\n",
       "      <td>A</td>\n",
       "      <td>Platinum</td>\n",
       "      <td>64308.0</td>\n",
       "    </tr>\n",
       "    <tr>\n",
       "      <th>1</th>\n",
       "      <td>2</td>\n",
       "      <td>Male</td>\n",
       "      <td>Rural</td>\n",
       "      <td>High School</td>\n",
       "      <td>5L-10L</td>\n",
       "      <td>0.0</td>\n",
       "      <td>8.0</td>\n",
       "      <td>5080.0</td>\n",
       "      <td>More than 1</td>\n",
       "      <td>A</td>\n",
       "      <td>Platinum</td>\n",
       "      <td>515400.0</td>\n",
       "    </tr>\n",
       "    <tr>\n",
       "      <th>2</th>\n",
       "      <td>3</td>\n",
       "      <td>Male</td>\n",
       "      <td>Urban</td>\n",
       "      <td>Bachelor</td>\n",
       "      <td>5L-10L</td>\n",
       "      <td>1.0</td>\n",
       "      <td>8.0</td>\n",
       "      <td>2599.0</td>\n",
       "      <td>More than 1</td>\n",
       "      <td>A</td>\n",
       "      <td>Platinum</td>\n",
       "      <td>64212.0</td>\n",
       "    </tr>\n",
       "    <tr>\n",
       "      <th>3</th>\n",
       "      <td>4</td>\n",
       "      <td>Female</td>\n",
       "      <td>Rural</td>\n",
       "      <td>High School</td>\n",
       "      <td>5L-10L</td>\n",
       "      <td>0.0</td>\n",
       "      <td>7.0</td>\n",
       "      <td>0.0</td>\n",
       "      <td>More than 1</td>\n",
       "      <td>A</td>\n",
       "      <td>Platinum</td>\n",
       "      <td>97920.0</td>\n",
       "    </tr>\n",
       "    <tr>\n",
       "      <th>4</th>\n",
       "      <td>5</td>\n",
       "      <td>Male</td>\n",
       "      <td>Urban</td>\n",
       "      <td>High School</td>\n",
       "      <td>More than 10L</td>\n",
       "      <td>1.0</td>\n",
       "      <td>6.0</td>\n",
       "      <td>3508.0</td>\n",
       "      <td>More than 1</td>\n",
       "      <td>A</td>\n",
       "      <td>Gold</td>\n",
       "      <td>59736.0</td>\n",
       "    </tr>\n",
       "  </tbody>\n",
       "</table>\n",
       "</div>"
      ],
      "text/plain": [
       "   id  gender   area qualification         income  marital_status  vintage  \\\n",
       "0   1    Male  Urban      Bachelor         5L-10L             1.0      5.0   \n",
       "1   2    Male  Rural   High School         5L-10L             0.0      8.0   \n",
       "2   3    Male  Urban      Bachelor         5L-10L             1.0      8.0   \n",
       "3   4  Female  Rural   High School         5L-10L             0.0      7.0   \n",
       "4   5    Male  Urban   High School  More than 10L             1.0      6.0   \n",
       "\n",
       "   claim_amount num_policies policy type_of_policy      cltv  \n",
       "0        5790.0  More than 1      A       Platinum   64308.0  \n",
       "1        5080.0  More than 1      A       Platinum  515400.0  \n",
       "2        2599.0  More than 1      A       Platinum   64212.0  \n",
       "3           0.0  More than 1      A       Platinum   97920.0  \n",
       "4        3508.0  More than 1      A           Gold   59736.0  "
      ]
     },
     "execution_count": 361,
     "metadata": {},
     "output_type": "execute_result"
    }
   ],
   "source": [
    "# import dataset\n",
    "import pandas as pd\n",
    "df = pd.read_csv('Q3.csv')\n",
    "df.head()"
   ]
  },
  {
   "cell_type": "markdown",
   "metadata": {},
   "source": [
    "Find the shape of the data, the data types of the columns, and the first few rows of the data."
   ]
  },
  {
   "cell_type": "code",
   "execution_count": 362,
   "metadata": {},
   "outputs": [
    {
     "data": {
      "text/plain": [
       "(9954, 12)"
      ]
     },
     "execution_count": 362,
     "metadata": {},
     "output_type": "execute_result"
    }
   ],
   "source": [
    "df.shape"
   ]
  },
  {
   "cell_type": "code",
   "execution_count": 363,
   "metadata": {},
   "outputs": [
    {
     "data": {
      "text/plain": [
       "id                  int64\n",
       "gender             object\n",
       "area               object\n",
       "qualification      object\n",
       "income             object\n",
       "marital_status    float64\n",
       "vintage           float64\n",
       "claim_amount      float64\n",
       "num_policies       object\n",
       "policy             object\n",
       "type_of_policy     object\n",
       "cltv              float64\n",
       "dtype: object"
      ]
     },
     "execution_count": 363,
     "metadata": {},
     "output_type": "execute_result"
    }
   ],
   "source": [
    "df.dtypes"
   ]
  },
  {
   "cell_type": "markdown",
   "metadata": {},
   "source": [
    "### Handling the missing values"
   ]
  },
  {
   "cell_type": "code",
   "execution_count": 364,
   "metadata": {},
   "outputs": [
    {
     "data": {
      "text/plain": [
       "id                0\n",
       "gender            0\n",
       "area              0\n",
       "qualification     0\n",
       "income            1\n",
       "marital_status    1\n",
       "vintage           1\n",
       "claim_amount      1\n",
       "num_policies      1\n",
       "policy            1\n",
       "type_of_policy    1\n",
       "cltv              2\n",
       "dtype: int64"
      ]
     },
     "execution_count": 364,
     "metadata": {},
     "output_type": "execute_result"
    }
   ],
   "source": [
    "df.isnull().sum()"
   ]
  },
  {
   "cell_type": "markdown",
   "metadata": {},
   "source": [
    "As the number of missing values is small, we can drop the rows with missing values."
   ]
  },
  {
   "cell_type": "code",
   "execution_count": 365,
   "metadata": {},
   "outputs": [
    {
     "data": {
      "text/plain": [
       "id                0\n",
       "gender            0\n",
       "area              0\n",
       "qualification     0\n",
       "income            0\n",
       "marital_status    0\n",
       "vintage           0\n",
       "claim_amount      0\n",
       "num_policies      0\n",
       "policy            0\n",
       "type_of_policy    0\n",
       "cltv              0\n",
       "dtype: int64"
      ]
     },
     "execution_count": 365,
     "metadata": {},
     "output_type": "execute_result"
    }
   ],
   "source": [
    "df = df.dropna()\n",
    "df.isnull().sum()"
   ]
  },
  {
   "cell_type": "code",
   "execution_count": 366,
   "metadata": {},
   "outputs": [],
   "source": [
    "# drop the column 'id' as this is not useful for the analysis\n",
    "df = df.drop(['id'], axis=1)"
   ]
  },
  {
   "cell_type": "markdown",
   "metadata": {},
   "source": [
    "## Exploratory Data Analysis"
   ]
  },
  {
   "cell_type": "code",
   "execution_count": 367,
   "metadata": {},
   "outputs": [
    {
     "data": {
      "text/plain": [
       "Text(0.5, 1.0, 'Correlation with CLTV \\n')"
      ]
     },
     "execution_count": 367,
     "metadata": {},
     "output_type": "execute_result"
    },
    {
     "data": {
      "image/png": "[encoded data removed]",
      "text/plain": [
       "<Figure size 1800x1000 with 1 Axes>"
      ]
     },
     "metadata": {},
     "output_type": "display_data"
    }
   ],
   "source": [
    "# correlation of numerical columns with cltv\n",
    "# Correlation between churn and selected boolean and numeric variables\n",
    "plt.figure(6)\n",
    "\n",
    "correlations = df.select_dtypes(include = ['float64', 'int64']).corr()['cltv'].sort_values(ascending = False)\n",
    "correlations = correlations[correlations!=1]\n",
    "correlations.plot.bar(\n",
    "        figsize = (18, 10),\n",
    "        fontsize = 15,\n",
    "        color = '#e20074',\n",
    "        rot = 45, grid = True)\n",
    "\n",
    "plt.title('Correlation with CLTV \\n', horizontalalignment=\"center\", fontstyle = \"normal\", fontsize = \"22\", fontfamily = \"sans-serif\")"
   ]
  },
  {
   "cell_type": "markdown",
   "metadata": {},
   "source": [
    "## Data Preprocessing"
   ]
  },
  {
   "cell_type": "code",
   "execution_count": 368,
   "metadata": {},
   "outputs": [
    {
     "data": {
      "text/plain": [
       "gender             object\n",
       "area               object\n",
       "qualification      object\n",
       "income             object\n",
       "marital_status    float64\n",
       "vintage           float64\n",
       "claim_amount      float64\n",
       "num_policies       object\n",
       "policy             object\n",
       "type_of_policy     object\n",
       "cltv              float64\n",
       "dtype: object"
      ]
     },
     "execution_count": 368,
     "metadata": {},
     "output_type": "execute_result"
    }
   ],
   "source": [
    "df.dtypes"
   ]
  },
  {
   "cell_type": "markdown",
   "metadata": {},
   "source": [
    "As per the dtype, there are 6 columns need to be transformed to numerical data type. For column gender, area, policy and qualification, as they are non-ordinal categorical data, we can use one-hot encoding to transform them. For column income, num_policies and type_of_policy, as they are ordinal categorical data, we can use label encoding to transform them."
   ]
  },
  {
   "cell_type": "markdown",
   "metadata": {},
   "source": [
    "#### One-hot encoding"
   ]
  },
  {
   "cell_type": "markdown",
   "metadata": {},
   "source": [
    "Columns to perform one-hot encoding:\n",
    "* gender\n",
    "* area\n",
    "* policy\n",
    "* qualification"
   ]
  },
  {
   "cell_type": "code",
   "execution_count": 369,
   "metadata": {},
   "outputs": [
    {
     "data": {
      "text/html": [
       "<div>\n",
       "<style scoped>\n",
       "    .dataframe tbody tr th:only-of-type {\n",
       "        vertical-align: middle;\n",
       "    }\n",
       "\n",
       "    .dataframe tbody tr th {\n",
       "        vertical-align: top;\n",
       "    }\n",
       "\n",
       "    .dataframe thead th {\n",
       "        text-align: right;\n",
       "    }\n",
       "</style>\n",
       "<table border=\"1\" class=\"dataframe\">\n",
       "  <thead>\n",
       "    <tr style=\"text-align: right;\">\n",
       "      <th></th>\n",
       "      <th>income</th>\n",
       "      <th>marital_status</th>\n",
       "      <th>vintage</th>\n",
       "      <th>claim_amount</th>\n",
       "      <th>num_policies</th>\n",
       "      <th>type_of_policy</th>\n",
       "      <th>cltv</th>\n",
       "      <th>Female</th>\n",
       "      <th>Male</th>\n",
       "      <th>Rural</th>\n",
       "      <th>Urban</th>\n",
       "      <th>A</th>\n",
       "      <th>B</th>\n",
       "      <th>C</th>\n",
       "      <th>D</th>\n",
       "      <th>Bachelor</th>\n",
       "      <th>High School</th>\n",
       "      <th>Others</th>\n",
       "    </tr>\n",
       "  </thead>\n",
       "  <tbody>\n",
       "    <tr>\n",
       "      <th>0</th>\n",
       "      <td>5L-10L</td>\n",
       "      <td>1.0</td>\n",
       "      <td>5.0</td>\n",
       "      <td>5790.0</td>\n",
       "      <td>More than 1</td>\n",
       "      <td>Platinum</td>\n",
       "      <td>64308.0</td>\n",
       "      <td>False</td>\n",
       "      <td>True</td>\n",
       "      <td>False</td>\n",
       "      <td>True</td>\n",
       "      <td>True</td>\n",
       "      <td>False</td>\n",
       "      <td>False</td>\n",
       "      <td>False</td>\n",
       "      <td>True</td>\n",
       "      <td>False</td>\n",
       "      <td>False</td>\n",
       "    </tr>\n",
       "    <tr>\n",
       "      <th>1</th>\n",
       "      <td>5L-10L</td>\n",
       "      <td>0.0</td>\n",
       "      <td>8.0</td>\n",
       "      <td>5080.0</td>\n",
       "      <td>More than 1</td>\n",
       "      <td>Platinum</td>\n",
       "      <td>515400.0</td>\n",
       "      <td>False</td>\n",
       "      <td>True</td>\n",
       "      <td>True</td>\n",
       "      <td>False</td>\n",
       "      <td>True</td>\n",
       "      <td>False</td>\n",
       "      <td>False</td>\n",
       "      <td>False</td>\n",
       "      <td>False</td>\n",
       "      <td>True</td>\n",
       "      <td>False</td>\n",
       "    </tr>\n",
       "    <tr>\n",
       "      <th>2</th>\n",
       "      <td>5L-10L</td>\n",
       "      <td>1.0</td>\n",
       "      <td>8.0</td>\n",
       "      <td>2599.0</td>\n",
       "      <td>More than 1</td>\n",
       "      <td>Platinum</td>\n",
       "      <td>64212.0</td>\n",
       "      <td>False</td>\n",
       "      <td>True</td>\n",
       "      <td>False</td>\n",
       "      <td>True</td>\n",
       "      <td>True</td>\n",
       "      <td>False</td>\n",
       "      <td>False</td>\n",
       "      <td>False</td>\n",
       "      <td>True</td>\n",
       "      <td>False</td>\n",
       "      <td>False</td>\n",
       "    </tr>\n",
       "    <tr>\n",
       "      <th>3</th>\n",
       "      <td>5L-10L</td>\n",
       "      <td>0.0</td>\n",
       "      <td>7.0</td>\n",
       "      <td>0.0</td>\n",
       "      <td>More than 1</td>\n",
       "      <td>Platinum</td>\n",
       "      <td>97920.0</td>\n",
       "      <td>True</td>\n",
       "      <td>False</td>\n",
       "      <td>True</td>\n",
       "      <td>False</td>\n",
       "      <td>True</td>\n",
       "      <td>False</td>\n",
       "      <td>False</td>\n",
       "      <td>False</td>\n",
       "      <td>False</td>\n",
       "      <td>True</td>\n",
       "      <td>False</td>\n",
       "    </tr>\n",
       "    <tr>\n",
       "      <th>4</th>\n",
       "      <td>More than 10L</td>\n",
       "      <td>1.0</td>\n",
       "      <td>6.0</td>\n",
       "      <td>3508.0</td>\n",
       "      <td>More than 1</td>\n",
       "      <td>Gold</td>\n",
       "      <td>59736.0</td>\n",
       "      <td>False</td>\n",
       "      <td>True</td>\n",
       "      <td>False</td>\n",
       "      <td>True</td>\n",
       "      <td>True</td>\n",
       "      <td>False</td>\n",
       "      <td>False</td>\n",
       "      <td>False</td>\n",
       "      <td>False</td>\n",
       "      <td>True</td>\n",
       "      <td>False</td>\n",
       "    </tr>\n",
       "  </tbody>\n",
       "</table>\n",
       "</div>"
      ],
      "text/plain": [
       "          income  marital_status  vintage  claim_amount num_policies  \\\n",
       "0         5L-10L             1.0      5.0        5790.0  More than 1   \n",
       "1         5L-10L             0.0      8.0        5080.0  More than 1   \n",
       "2         5L-10L             1.0      8.0        2599.0  More than 1   \n",
       "3         5L-10L             0.0      7.0           0.0  More than 1   \n",
       "4  More than 10L             1.0      6.0        3508.0  More than 1   \n",
       "\n",
       "  type_of_policy      cltv  Female   Male  Rural  Urban     A      B      C  \\\n",
       "0       Platinum   64308.0   False   True  False   True  True  False  False   \n",
       "1       Platinum  515400.0   False   True   True  False  True  False  False   \n",
       "2       Platinum   64212.0   False   True  False   True  True  False  False   \n",
       "3       Platinum   97920.0    True  False   True  False  True  False  False   \n",
       "4           Gold   59736.0   False   True  False   True  True  False  False   \n",
       "\n",
       "       D  Bachelor  High School  Others  \n",
       "0  False      True        False   False  \n",
       "1  False     False         True   False  \n",
       "2  False      True        False   False  \n",
       "3  False     False         True   False  \n",
       "4  False     False         True   False  "
      ]
     },
     "execution_count": 369,
     "metadata": {},
     "output_type": "execute_result"
    }
   ],
   "source": [
    "# replace df['gender'] with dummy variables\n",
    "df = df.join(pd.get_dummies(df['gender']))\n",
    "df = df.join(pd.get_dummies(df['area']))\n",
    "df = df.join(pd.get_dummies(df['policy']))\n",
    "df = df.join(pd.get_dummies(df['qualification']))\n",
    "df = df.drop(['gender', 'area', 'policy', 'qualification'], axis=1)\n",
    "df.head()"
   ]
  },
  {
   "cell_type": "code",
   "execution_count": 370,
   "metadata": {},
   "outputs": [
    {
     "data": {
      "text/plain": [
       "income             object\n",
       "marital_status    float64\n",
       "vintage           float64\n",
       "claim_amount      float64\n",
       "num_policies       object\n",
       "type_of_policy     object\n",
       "cltv              float64\n",
       "Female              int32\n",
       "Male                int32\n",
       "Rural               int32\n",
       "Urban               int32\n",
       "A                   int32\n",
       "B                   int32\n",
       "C                   int32\n",
       "D                   int32\n",
       "Bachelor            int32\n",
       "High School         int32\n",
       "Others              int32\n",
       "dtype: object"
      ]
     },
     "execution_count": 370,
     "metadata": {},
     "output_type": "execute_result"
    }
   ],
   "source": [
    "# transform boolean to int\n",
    "for i in range(0, len(df.columns)):\n",
    "    if df.iloc[:, i].dtype == bool:\n",
    "        df.iloc[:, i] = df.iloc[:, i].astype(int)\n",
    "df.dtypes"
   ]
  },
  {
   "cell_type": "code",
   "execution_count": 371,
   "metadata": {},
   "outputs": [
    {
     "data": {
      "text/html": [
       "<div>\n",
       "<style scoped>\n",
       "    .dataframe tbody tr th:only-of-type {\n",
       "        vertical-align: middle;\n",
       "    }\n",
       "\n",
       "    .dataframe tbody tr th {\n",
       "        vertical-align: top;\n",
       "    }\n",
       "\n",
       "    .dataframe thead th {\n",
       "        text-align: right;\n",
       "    }\n",
       "</style>\n",
       "<table border=\"1\" class=\"dataframe\">\n",
       "  <thead>\n",
       "    <tr style=\"text-align: right;\">\n",
       "      <th></th>\n",
       "      <th>income</th>\n",
       "      <th>marital_status</th>\n",
       "      <th>vintage</th>\n",
       "      <th>claim_amount</th>\n",
       "      <th>num_policies</th>\n",
       "      <th>type_of_policy</th>\n",
       "      <th>cltv</th>\n",
       "      <th>Female</th>\n",
       "      <th>Male</th>\n",
       "      <th>Rural</th>\n",
       "      <th>Urban</th>\n",
       "      <th>A</th>\n",
       "      <th>B</th>\n",
       "      <th>C</th>\n",
       "      <th>D</th>\n",
       "      <th>Bachelor</th>\n",
       "      <th>High School</th>\n",
       "      <th>Others</th>\n",
       "    </tr>\n",
       "  </thead>\n",
       "  <tbody>\n",
       "    <tr>\n",
       "      <th>0</th>\n",
       "      <td>5L-10L</td>\n",
       "      <td>1.0</td>\n",
       "      <td>5.0</td>\n",
       "      <td>5790.0</td>\n",
       "      <td>More than 1</td>\n",
       "      <td>Platinum</td>\n",
       "      <td>64308.0</td>\n",
       "      <td>0</td>\n",
       "      <td>1</td>\n",
       "      <td>0</td>\n",
       "      <td>1</td>\n",
       "      <td>1</td>\n",
       "      <td>0</td>\n",
       "      <td>0</td>\n",
       "      <td>0</td>\n",
       "      <td>1</td>\n",
       "      <td>0</td>\n",
       "      <td>0</td>\n",
       "    </tr>\n",
       "    <tr>\n",
       "      <th>1</th>\n",
       "      <td>5L-10L</td>\n",
       "      <td>0.0</td>\n",
       "      <td>8.0</td>\n",
       "      <td>5080.0</td>\n",
       "      <td>More than 1</td>\n",
       "      <td>Platinum</td>\n",
       "      <td>515400.0</td>\n",
       "      <td>0</td>\n",
       "      <td>1</td>\n",
       "      <td>1</td>\n",
       "      <td>0</td>\n",
       "      <td>1</td>\n",
       "      <td>0</td>\n",
       "      <td>0</td>\n",
       "      <td>0</td>\n",
       "      <td>0</td>\n",
       "      <td>1</td>\n",
       "      <td>0</td>\n",
       "    </tr>\n",
       "    <tr>\n",
       "      <th>2</th>\n",
       "      <td>5L-10L</td>\n",
       "      <td>1.0</td>\n",
       "      <td>8.0</td>\n",
       "      <td>2599.0</td>\n",
       "      <td>More than 1</td>\n",
       "      <td>Platinum</td>\n",
       "      <td>64212.0</td>\n",
       "      <td>0</td>\n",
       "      <td>1</td>\n",
       "      <td>0</td>\n",
       "      <td>1</td>\n",
       "      <td>1</td>\n",
       "      <td>0</td>\n",
       "      <td>0</td>\n",
       "      <td>0</td>\n",
       "      <td>1</td>\n",
       "      <td>0</td>\n",
       "      <td>0</td>\n",
       "    </tr>\n",
       "    <tr>\n",
       "      <th>3</th>\n",
       "      <td>5L-10L</td>\n",
       "      <td>0.0</td>\n",
       "      <td>7.0</td>\n",
       "      <td>0.0</td>\n",
       "      <td>More than 1</td>\n",
       "      <td>Platinum</td>\n",
       "      <td>97920.0</td>\n",
       "      <td>1</td>\n",
       "      <td>0</td>\n",
       "      <td>1</td>\n",
       "      <td>0</td>\n",
       "      <td>1</td>\n",
       "      <td>0</td>\n",
       "      <td>0</td>\n",
       "      <td>0</td>\n",
       "      <td>0</td>\n",
       "      <td>1</td>\n",
       "      <td>0</td>\n",
       "    </tr>\n",
       "    <tr>\n",
       "      <th>4</th>\n",
       "      <td>More than 10L</td>\n",
       "      <td>1.0</td>\n",
       "      <td>6.0</td>\n",
       "      <td>3508.0</td>\n",
       "      <td>More than 1</td>\n",
       "      <td>Gold</td>\n",
       "      <td>59736.0</td>\n",
       "      <td>0</td>\n",
       "      <td>1</td>\n",
       "      <td>0</td>\n",
       "      <td>1</td>\n",
       "      <td>1</td>\n",
       "      <td>0</td>\n",
       "      <td>0</td>\n",
       "      <td>0</td>\n",
       "      <td>0</td>\n",
       "      <td>1</td>\n",
       "      <td>0</td>\n",
       "    </tr>\n",
       "  </tbody>\n",
       "</table>\n",
       "</div>"
      ],
      "text/plain": [
       "          income  marital_status  vintage  claim_amount num_policies  \\\n",
       "0         5L-10L             1.0      5.0        5790.0  More than 1   \n",
       "1         5L-10L             0.0      8.0        5080.0  More than 1   \n",
       "2         5L-10L             1.0      8.0        2599.0  More than 1   \n",
       "3         5L-10L             0.0      7.0           0.0  More than 1   \n",
       "4  More than 10L             1.0      6.0        3508.0  More than 1   \n",
       "\n",
       "  type_of_policy      cltv  Female  Male  Rural  Urban  A  B  C  D  Bachelor  \\\n",
       "0       Platinum   64308.0       0     1      0      1  1  0  0  0         1   \n",
       "1       Platinum  515400.0       0     1      1      0  1  0  0  0         0   \n",
       "2       Platinum   64212.0       0     1      0      1  1  0  0  0         1   \n",
       "3       Platinum   97920.0       1     0      1      0  1  0  0  0         0   \n",
       "4           Gold   59736.0       0     1      0      1  1  0  0  0         0   \n",
       "\n",
       "   High School  Others  \n",
       "0            0       0  \n",
       "1            1       0  \n",
       "2            0       0  \n",
       "3            1       0  \n",
       "4            1       0  "
      ]
     },
     "execution_count": 371,
     "metadata": {},
     "output_type": "execute_result"
    }
   ],
   "source": [
    "df.head()"
   ]
  },
  {
   "cell_type": "markdown",
   "metadata": {},
   "source": [
    "#### Ordinal encoding"
   ]
  },
  {
   "cell_type": "code",
   "execution_count": 372,
   "metadata": {},
   "outputs": [
    {
     "data": {
      "text/plain": [
       "type_of_policy\n",
       "Platinum    5395\n",
       "Gold        2285\n",
       "Silver      2272\n",
       "Name: count, dtype: int64"
      ]
     },
     "execution_count": 372,
     "metadata": {},
     "output_type": "execute_result"
    }
   ],
   "source": [
    "# transform type_of_policy to numeric\n",
    "# display value_counts\n",
    "df['type_of_policy'].value_counts()"
   ]
  },
  {
   "cell_type": "code",
   "execution_count": 373,
   "metadata": {},
   "outputs": [
    {
     "data": {
      "text/plain": [
       "type_of_policy\n",
       "2    5395\n",
       "1    2285\n",
       "0    2272\n",
       "Name: count, dtype: int64"
      ]
     },
     "execution_count": 373,
     "metadata": {},
     "output_type": "execute_result"
    }
   ],
   "source": [
    "# silver = 0, gold = 1, platinum = 2\n",
    "df['type_of_policy'] = df['type_of_policy'].map({'Silver': 0, 'Gold': 1, 'Platinum': 2})\n",
    "df['type_of_policy'].value_counts()"
   ]
  },
  {
   "cell_type": "code",
   "execution_count": 374,
   "metadata": {},
   "outputs": [
    {
     "data": {
      "text/plain": [
       "num_policies\n",
       "More than 1    6719\n",
       "1              3233\n",
       "Name: count, dtype: int64"
      ]
     },
     "execution_count": 374,
     "metadata": {},
     "output_type": "execute_result"
    }
   ],
   "source": [
    "# transform num_policies to numeric \n",
    "# display value_counts\n",
    "df['num_policies'].value_counts()"
   ]
  },
  {
   "cell_type": "code",
   "execution_count": 375,
   "metadata": {},
   "outputs": [
    {
     "data": {
      "text/plain": [
       "num_policies\n",
       "1    6719\n",
       "0    3233\n",
       "Name: count, dtype: int64"
      ]
     },
     "execution_count": 375,
     "metadata": {},
     "output_type": "execute_result"
    }
   ],
   "source": [
    "# map more than 1 policy to 1, 1 policy to 0\n",
    "df['num_policies'] = df['num_policies'].map({'1': 0, 'More than 1':1})\n",
    "df['num_policies'].value_counts()"
   ]
  },
  {
   "cell_type": "code",
   "execution_count": 376,
   "metadata": {},
   "outputs": [
    {
     "data": {
      "text/plain": [
       "income\n",
       "5L-10L           5797\n",
       "2L-5L            2417\n",
       "More than 10L    1507\n",
       "<=2L              231\n",
       "Name: count, dtype: int64"
      ]
     },
     "execution_count": 376,
     "metadata": {},
     "output_type": "execute_result"
    }
   ],
   "source": [
    "# transform income column to numeric\n",
    "# discover unique values in income column first\n",
    "df['income'].value_counts()"
   ]
  },
  {
   "cell_type": "markdown",
   "metadata": {},
   "source": [
    "Encoding the df['income'] column to numerical data type, e.g. '<=2L' to 1, '2L-5L' to 2."
   ]
  },
  {
   "cell_type": "code",
   "execution_count": 377,
   "metadata": {},
   "outputs": [
    {
     "data": {
      "text/plain": [
       "income\n",
       "2    5797\n",
       "1    2417\n",
       "3    1507\n",
       "0     231\n",
       "Name: count, dtype: int64"
      ]
     },
     "execution_count": 377,
     "metadata": {},
     "output_type": "execute_result"
    }
   ],
   "source": [
    "# encode income column\n",
    "df['income'] = df['income'].map({'<=2L': 0, '2L-5L': 1, '5L-10L': 2, 'More than 10L': 3})\n",
    "df['income'].value_counts()"
   ]
  },
  {
   "cell_type": "code",
   "execution_count": 378,
   "metadata": {},
   "outputs": [
    {
     "data": {
      "text/html": [
       "<div>\n",
       "<style scoped>\n",
       "    .dataframe tbody tr th:only-of-type {\n",
       "        vertical-align: middle;\n",
       "    }\n",
       "\n",
       "    .dataframe tbody tr th {\n",
       "        vertical-align: top;\n",
       "    }\n",
       "\n",
       "    .dataframe thead th {\n",
       "        text-align: right;\n",
       "    }\n",
       "</style>\n",
       "<table border=\"1\" class=\"dataframe\">\n",
       "  <thead>\n",
       "    <tr style=\"text-align: right;\">\n",
       "      <th></th>\n",
       "      <th>income</th>\n",
       "      <th>marital_status</th>\n",
       "      <th>vintage</th>\n",
       "      <th>claim_amount</th>\n",
       "      <th>num_policies</th>\n",
       "      <th>type_of_policy</th>\n",
       "      <th>Female</th>\n",
       "      <th>Male</th>\n",
       "      <th>Rural</th>\n",
       "      <th>Urban</th>\n",
       "      <th>A</th>\n",
       "      <th>B</th>\n",
       "      <th>C</th>\n",
       "      <th>D</th>\n",
       "      <th>Bachelor</th>\n",
       "      <th>High School</th>\n",
       "      <th>Others</th>\n",
       "      <th>cltv</th>\n",
       "    </tr>\n",
       "  </thead>\n",
       "  <tbody>\n",
       "    <tr>\n",
       "      <th>0</th>\n",
       "      <td>2</td>\n",
       "      <td>1.0</td>\n",
       "      <td>5.0</td>\n",
       "      <td>5790.0</td>\n",
       "      <td>1</td>\n",
       "      <td>2</td>\n",
       "      <td>0</td>\n",
       "      <td>1</td>\n",
       "      <td>0</td>\n",
       "      <td>1</td>\n",
       "      <td>1</td>\n",
       "      <td>0</td>\n",
       "      <td>0</td>\n",
       "      <td>0</td>\n",
       "      <td>1</td>\n",
       "      <td>0</td>\n",
       "      <td>0</td>\n",
       "      <td>64308.0</td>\n",
       "    </tr>\n",
       "    <tr>\n",
       "      <th>1</th>\n",
       "      <td>2</td>\n",
       "      <td>0.0</td>\n",
       "      <td>8.0</td>\n",
       "      <td>5080.0</td>\n",
       "      <td>1</td>\n",
       "      <td>2</td>\n",
       "      <td>0</td>\n",
       "      <td>1</td>\n",
       "      <td>1</td>\n",
       "      <td>0</td>\n",
       "      <td>1</td>\n",
       "      <td>0</td>\n",
       "      <td>0</td>\n",
       "      <td>0</td>\n",
       "      <td>0</td>\n",
       "      <td>1</td>\n",
       "      <td>0</td>\n",
       "      <td>515400.0</td>\n",
       "    </tr>\n",
       "    <tr>\n",
       "      <th>2</th>\n",
       "      <td>2</td>\n",
       "      <td>1.0</td>\n",
       "      <td>8.0</td>\n",
       "      <td>2599.0</td>\n",
       "      <td>1</td>\n",
       "      <td>2</td>\n",
       "      <td>0</td>\n",
       "      <td>1</td>\n",
       "      <td>0</td>\n",
       "      <td>1</td>\n",
       "      <td>1</td>\n",
       "      <td>0</td>\n",
       "      <td>0</td>\n",
       "      <td>0</td>\n",
       "      <td>1</td>\n",
       "      <td>0</td>\n",
       "      <td>0</td>\n",
       "      <td>64212.0</td>\n",
       "    </tr>\n",
       "    <tr>\n",
       "      <th>3</th>\n",
       "      <td>2</td>\n",
       "      <td>0.0</td>\n",
       "      <td>7.0</td>\n",
       "      <td>0.0</td>\n",
       "      <td>1</td>\n",
       "      <td>2</td>\n",
       "      <td>1</td>\n",
       "      <td>0</td>\n",
       "      <td>1</td>\n",
       "      <td>0</td>\n",
       "      <td>1</td>\n",
       "      <td>0</td>\n",
       "      <td>0</td>\n",
       "      <td>0</td>\n",
       "      <td>0</td>\n",
       "      <td>1</td>\n",
       "      <td>0</td>\n",
       "      <td>97920.0</td>\n",
       "    </tr>\n",
       "    <tr>\n",
       "      <th>4</th>\n",
       "      <td>3</td>\n",
       "      <td>1.0</td>\n",
       "      <td>6.0</td>\n",
       "      <td>3508.0</td>\n",
       "      <td>1</td>\n",
       "      <td>1</td>\n",
       "      <td>0</td>\n",
       "      <td>1</td>\n",
       "      <td>0</td>\n",
       "      <td>1</td>\n",
       "      <td>1</td>\n",
       "      <td>0</td>\n",
       "      <td>0</td>\n",
       "      <td>0</td>\n",
       "      <td>0</td>\n",
       "      <td>1</td>\n",
       "      <td>0</td>\n",
       "      <td>59736.0</td>\n",
       "    </tr>\n",
       "  </tbody>\n",
       "</table>\n",
       "</div>"
      ],
      "text/plain": [
       "   income  marital_status  vintage  claim_amount  num_policies  \\\n",
       "0       2             1.0      5.0        5790.0             1   \n",
       "1       2             0.0      8.0        5080.0             1   \n",
       "2       2             1.0      8.0        2599.0             1   \n",
       "3       2             0.0      7.0           0.0             1   \n",
       "4       3             1.0      6.0        3508.0             1   \n",
       "\n",
       "   type_of_policy  Female  Male  Rural  Urban  A  B  C  D  Bachelor  \\\n",
       "0               2       0     1      0      1  1  0  0  0         1   \n",
       "1               2       0     1      1      0  1  0  0  0         0   \n",
       "2               2       0     1      0      1  1  0  0  0         1   \n",
       "3               2       1     0      1      0  1  0  0  0         0   \n",
       "4               1       0     1      0      1  1  0  0  0         0   \n",
       "\n",
       "   High School  Others      cltv  \n",
       "0            0       0   64308.0  \n",
       "1            1       0  515400.0  \n",
       "2            0       0   64212.0  \n",
       "3            1       0   97920.0  \n",
       "4            1       0   59736.0  "
      ]
     },
     "execution_count": 378,
     "metadata": {},
     "output_type": "execute_result"
    }
   ],
   "source": [
    "# rearrange columns: cltv to the end\n",
    "cols = list(df.columns)\n",
    "cols.remove('cltv')\n",
    "cols.append('cltv')\n",
    "df = df[cols]\n",
    "df.head()"
   ]
  },
  {
   "cell_type": "markdown",
   "metadata": {},
   "source": [
    "#### Outlier detection and removal:"
   ]
  },
  {
   "cell_type": "code",
   "execution_count": 379,
   "metadata": {},
   "outputs": [
    {
     "data": {
      "text/plain": [
       "(8367, 18)"
      ]
     },
     "execution_count": 379,
     "metadata": {},
     "output_type": "execute_result"
    }
   ],
   "source": [
    "# outlier detection\n",
    "import numpy as np\n",
    "from scipy.stats import zscore\n",
    "z = np.abs(zscore(df))\n",
    "# threshold = 3\n",
    "threshold = 3\n",
    "df = df[(z < 3).all(axis=1)]\n",
    "df.shape"
   ]
  },
  {
   "cell_type": "code",
   "execution_count": 380,
   "metadata": {},
   "outputs": [
    {
     "data": {
      "image/png": "[encoded data removed]",
      "text/plain": [
       "<Figure size 1800x1000 with 1 Axes>"
      ]
     },
     "metadata": {},
     "output_type": "display_data"
    }
   ],
   "source": [
    "# correlation of numerical columns with cltv\n",
    "# Correlation between churn and selected boolean and numeric variables\n",
    "plt.figure(6)\n",
    "\n",
    "correlations = df.select_dtypes(include = ['float64', 'int64', 'int32']).corr()['cltv'].sort_values(ascending = False)\n",
    "correlations = correlations[correlations!=1]\n",
    "correlations.plot.bar(\n",
    "        figsize = (18, 10),\n",
    "        fontsize = 15,\n",
    "        color = '#e20074',\n",
    "        rot = 45, grid = True)\n",
    "\n",
    "plt.title('Correlation with CLTV \\n', horizontalalignment=\"center\", fontstyle = \"normal\", fontsize = \"22\", fontfamily = \"sans-serif\")\n",
    "plt.show()"
   ]
  },
  {
   "cell_type": "markdown",
   "metadata": {},
   "source": [
    "As per the correlation analysis of numerical columns, column 'Bachelor', 'High School', 'C', 'D' and 'Others' have nearly no correlation with the target column 'cltv'. We can consider to remove these columns from generating the linear regression model of predicting the cltv."
   ]
  },
  {
   "cell_type": "code",
   "execution_count": 381,
   "metadata": {},
   "outputs": [],
   "source": [
    "df = df.drop(['Bachelor', 'High School', 'C', 'D', 'Others'], axis = 1)"
   ]
  },
  {
   "cell_type": "code",
   "execution_count": 382,
   "metadata": {},
   "outputs": [
    {
     "name": "stderr",
     "output_type": "stream",
     "text": [
      "C:\\Users\\kwokt\\AppData\\Local\\Packages\\PythonSoftwareFoundation.Python.3.11_qbz5n2kfra8p0\\LocalCache\\local-packages\\Python311\\site-packages\\statsmodels\\stats\\outliers_influence.py:198: RuntimeWarning: divide by zero encountered in double_scalars\n",
      "  vif = 1. / (1. - r_squared_i)\n"
     ]
    },
    {
     "data": {
      "text/html": [
       "<div>\n",
       "<style scoped>\n",
       "    .dataframe tbody tr th:only-of-type {\n",
       "        vertical-align: middle;\n",
       "    }\n",
       "\n",
       "    .dataframe tbody tr th {\n",
       "        vertical-align: top;\n",
       "    }\n",
       "\n",
       "    .dataframe thead th {\n",
       "        text-align: right;\n",
       "    }\n",
       "</style>\n",
       "<table border=\"1\" class=\"dataframe\">\n",
       "  <thead>\n",
       "    <tr style=\"text-align: right;\">\n",
       "      <th></th>\n",
       "      <th>variables</th>\n",
       "      <th>Variable Inflation Factors</th>\n",
       "    </tr>\n",
       "  </thead>\n",
       "  <tbody>\n",
       "    <tr>\n",
       "      <th>0</th>\n",
       "      <td>income</td>\n",
       "      <td>1.102359</td>\n",
       "    </tr>\n",
       "    <tr>\n",
       "      <th>1</th>\n",
       "      <td>marital_status</td>\n",
       "      <td>1.026743</td>\n",
       "    </tr>\n",
       "    <tr>\n",
       "      <th>2</th>\n",
       "      <td>vintage</td>\n",
       "      <td>1.012656</td>\n",
       "    </tr>\n",
       "    <tr>\n",
       "      <th>3</th>\n",
       "      <td>claim_amount</td>\n",
       "      <td>1.381137</td>\n",
       "    </tr>\n",
       "    <tr>\n",
       "      <th>4</th>\n",
       "      <td>num_policies</td>\n",
       "      <td>1.038719</td>\n",
       "    </tr>\n",
       "    <tr>\n",
       "      <th>5</th>\n",
       "      <td>type_of_policy</td>\n",
       "      <td>1.013380</td>\n",
       "    </tr>\n",
       "    <tr>\n",
       "      <th>6</th>\n",
       "      <td>Female</td>\n",
       "      <td>inf</td>\n",
       "    </tr>\n",
       "    <tr>\n",
       "      <th>7</th>\n",
       "      <td>Male</td>\n",
       "      <td>inf</td>\n",
       "    </tr>\n",
       "    <tr>\n",
       "      <th>8</th>\n",
       "      <td>Rural</td>\n",
       "      <td>inf</td>\n",
       "    </tr>\n",
       "    <tr>\n",
       "      <th>9</th>\n",
       "      <td>Urban</td>\n",
       "      <td>inf</td>\n",
       "    </tr>\n",
       "    <tr>\n",
       "      <th>10</th>\n",
       "      <td>A</td>\n",
       "      <td>inf</td>\n",
       "    </tr>\n",
       "    <tr>\n",
       "      <th>11</th>\n",
       "      <td>B</td>\n",
       "      <td>inf</td>\n",
       "    </tr>\n",
       "  </tbody>\n",
       "</table>\n",
       "</div>"
      ],
      "text/plain": [
       "         variables  Variable Inflation Factors\n",
       "0           income                    1.102359\n",
       "1   marital_status                    1.026743\n",
       "2          vintage                    1.012656\n",
       "3     claim_amount                    1.381137\n",
       "4     num_policies                    1.038719\n",
       "5   type_of_policy                    1.013380\n",
       "6           Female                         inf\n",
       "7             Male                         inf\n",
       "8            Rural                         inf\n",
       "9            Urban                         inf\n",
       "10               A                         inf\n",
       "11               B                         inf"
      ]
     },
     "execution_count": 382,
     "metadata": {},
     "output_type": "execute_result"
    }
   ],
   "source": [
    "# Check multicollinearity\n",
    "from statsmodels.stats.outliers_influence import variance_inflation_factor\n",
    "\n",
    "def calculate_vif(X):\n",
    "# Calculating Variable Inflation Factors\n",
    "    vif = pd.DataFrame()\n",
    "    vif[\"variables\"] = X.columns\n",
    "    vif[\"Variable Inflation Factors\"] = [variance_inflation_factor(X.values, i)\n",
    "    for i in range(X.shape[1])]\n",
    "    return(vif)\n",
    "\n",
    "calculate_vif(df.iloc[:, :-1])"
   ]
  },
  {
   "cell_type": "markdown",
   "metadata": {},
   "source": [
    "As per the multicollearity analysis of numerical columns, column 'Rural' & 'Urban', 'A' & 'B'. 'Female' & 'Male' have high correlation. We can consider to remove one of the columns from each pair to avoid multicollinearity."
   ]
  },
  {
   "cell_type": "code",
   "execution_count": 383,
   "metadata": {},
   "outputs": [],
   "source": [
    "df = df.drop(['Rural', 'A', 'Female'], axis = 1)"
   ]
  },
  {
   "cell_type": "code",
   "execution_count": 384,
   "metadata": {},
   "outputs": [
    {
     "data": {
      "text/html": [
       "<div>\n",
       "<style scoped>\n",
       "    .dataframe tbody tr th:only-of-type {\n",
       "        vertical-align: middle;\n",
       "    }\n",
       "\n",
       "    .dataframe tbody tr th {\n",
       "        vertical-align: top;\n",
       "    }\n",
       "\n",
       "    .dataframe thead th {\n",
       "        text-align: right;\n",
       "    }\n",
       "</style>\n",
       "<table border=\"1\" class=\"dataframe\">\n",
       "  <thead>\n",
       "    <tr style=\"text-align: right;\">\n",
       "      <th></th>\n",
       "      <th>variables</th>\n",
       "      <th>Variable Inflation Factors</th>\n",
       "    </tr>\n",
       "  </thead>\n",
       "  <tbody>\n",
       "    <tr>\n",
       "      <th>0</th>\n",
       "      <td>income</td>\n",
       "      <td>5.523061</td>\n",
       "    </tr>\n",
       "    <tr>\n",
       "      <th>1</th>\n",
       "      <td>marital_status</td>\n",
       "      <td>2.283525</td>\n",
       "    </tr>\n",
       "    <tr>\n",
       "      <th>2</th>\n",
       "      <td>vintage</td>\n",
       "      <td>4.615478</td>\n",
       "    </tr>\n",
       "    <tr>\n",
       "      <th>3</th>\n",
       "      <td>claim_amount</td>\n",
       "      <td>3.961098</td>\n",
       "    </tr>\n",
       "    <tr>\n",
       "      <th>4</th>\n",
       "      <td>num_policies</td>\n",
       "      <td>3.050275</td>\n",
       "    </tr>\n",
       "    <tr>\n",
       "      <th>5</th>\n",
       "      <td>type_of_policy</td>\n",
       "      <td>3.425268</td>\n",
       "    </tr>\n",
       "    <tr>\n",
       "      <th>6</th>\n",
       "      <td>Male</td>\n",
       "      <td>2.242019</td>\n",
       "    </tr>\n",
       "    <tr>\n",
       "      <th>7</th>\n",
       "      <td>Urban</td>\n",
       "      <td>4.112689</td>\n",
       "    </tr>\n",
       "    <tr>\n",
       "      <th>8</th>\n",
       "      <td>B</td>\n",
       "      <td>1.461299</td>\n",
       "    </tr>\n",
       "  </tbody>\n",
       "</table>\n",
       "</div>"
      ],
      "text/plain": [
       "        variables  Variable Inflation Factors\n",
       "0          income                    5.523061\n",
       "1  marital_status                    2.283525\n",
       "2         vintage                    4.615478\n",
       "3    claim_amount                    3.961098\n",
       "4    num_policies                    3.050275\n",
       "5  type_of_policy                    3.425268\n",
       "6            Male                    2.242019\n",
       "7           Urban                    4.112689\n",
       "8               B                    1.461299"
      ]
     },
     "execution_count": 384,
     "metadata": {},
     "output_type": "execute_result"
    }
   ],
   "source": [
    "calculate_vif(df.iloc[:, :-1])"
   ]
  },
  {
   "cell_type": "markdown",
   "metadata": {},
   "source": [
    "## Predict customer lifetime value via linear regression model"
   ]
  },
  {
   "cell_type": "code",
   "execution_count": 385,
   "metadata": {},
   "outputs": [
    {
     "data": {
      "text/plain": [
       "(      income  marital_status  vintage  claim_amount  num_policies  \\\n",
       " 0          2             1.0      5.0        5790.0             1   \n",
       " 2          2             1.0      8.0        2599.0             1   \n",
       " 3          2             0.0      7.0           0.0             1   \n",
       " 4          3             1.0      6.0        3508.0             1   \n",
       " 6          2             1.0      6.0           0.0             1   \n",
       " ...      ...             ...      ...           ...           ...   \n",
       " 9946       2             0.0      7.0        7139.0             0   \n",
       " 9947       2             1.0      5.0           0.0             0   \n",
       " 9948       2             0.0      7.0        4938.0             1   \n",
       " 9951       1             1.0      1.0        5407.0             1   \n",
       " 9952       2             1.0      6.0           0.0             0   \n",
       " \n",
       "       type_of_policy  Male  Urban  B  \n",
       " 0                  2     1      1  0  \n",
       " 2                  2     1      1  0  \n",
       " 3                  2     0      0  0  \n",
       " 4                  1     1      1  0  \n",
       " 6                  1     0      0  0  \n",
       " ...              ...   ...    ... ..  \n",
       " 9946               1     1      1  0  \n",
       " 9947               0     0      0  0  \n",
       " 9948               2     1      1  0  \n",
       " 9951               2     0      1  0  \n",
       " 9952               2     1      1  0  \n",
       " \n",
       " [8367 rows x 9 columns],\n",
       " 0        64308.0\n",
       " 2        64212.0\n",
       " 3        97920.0\n",
       " 4        59736.0\n",
       " 6       238920.0\n",
       "           ...   \n",
       " 9946     51360.0\n",
       " 9947     31272.0\n",
       " 9948     61116.0\n",
       " 9951     61200.0\n",
       " 9952     37692.0\n",
       " Name: cltv, Length: 8367, dtype: float64)"
      ]
     },
     "execution_count": 385,
     "metadata": {},
     "output_type": "execute_result"
    }
   ],
   "source": [
    "# split data into train and test, exclude column id from feature attributes\n",
    "# cltv is the target variable\n",
    "X = df.iloc[:, :-1]\n",
    "y = df.iloc[:, -1]\n",
    "\n",
    "X, y"
   ]
  },
  {
   "cell_type": "code",
   "execution_count": 386,
   "metadata": {},
   "outputs": [
    {
     "data": {
      "text/html": [
       "<style>#sk-container-id-10 {color: black;}#sk-container-id-10 pre{padding: 0;}#sk-container-id-10 div.sk-toggleable {background-color: white;}#sk-container-id-10 label.sk-toggleable__label {cursor: pointer;display: block;width: 100%;margin-bottom: 0;padding: 0.3em;box-sizing: border-box;text-align: center;}#sk-container-id-10 label.sk-toggleable__label-arrow:before {content: \"▸\";float: left;margin-right: 0.25em;color: #696969;}#sk-container-id-10 label.sk-toggleable__label-arrow:hover:before {color: black;}#sk-container-id-10 div.sk-estimator:hover label.sk-toggleable__label-arrow:before {color: black;}#sk-container-id-10 div.sk-toggleable__content {max-height: 0;max-width: 0;overflow: hidden;text-align: left;background-color: #f0f8ff;}#sk-container-id-10 div.sk-toggleable__content pre {margin: 0.2em;color: black;border-radius: 0.25em;background-color: #f0f8ff;}#sk-container-id-10 input.sk-toggleable__control:checked~div.sk-toggleable__content {max-height: 200px;max-width: 100%;overflow: auto;}#sk-container-id-10 input.sk-toggleable__control:checked~label.sk-toggleable__label-arrow:before {content: \"▾\";}#sk-container-id-10 div.sk-estimator input.sk-toggleable__control:checked~label.sk-toggleable__label {background-color: #d4ebff;}#sk-container-id-10 div.sk-label input.sk-toggleable__control:checked~label.sk-toggleable__label {background-color: #d4ebff;}#sk-container-id-10 input.sk-hidden--visually {border: 0;clip: rect(1px 1px 1px 1px);clip: rect(1px, 1px, 1px, 1px);height: 1px;margin: -1px;overflow: hidden;padding: 0;position: absolute;width: 1px;}#sk-container-id-10 div.sk-estimator {font-family: monospace;background-color: #f0f8ff;border: 1px dotted black;border-radius: 0.25em;box-sizing: border-box;margin-bottom: 0.5em;}#sk-container-id-10 div.sk-estimator:hover {background-color: #d4ebff;}#sk-container-id-10 div.sk-parallel-item::after {content: \"\";width: 100%;border-bottom: 1px solid gray;flex-grow: 1;}#sk-container-id-10 div.sk-label:hover label.sk-toggleable__label {background-color: #d4ebff;}#sk-container-id-10 div.sk-serial::before {content: \"\";position: absolute;border-left: 1px solid gray;box-sizing: border-box;top: 0;bottom: 0;left: 50%;z-index: 0;}#sk-container-id-10 div.sk-serial {display: flex;flex-direction: column;align-items: center;background-color: white;padding-right: 0.2em;padding-left: 0.2em;position: relative;}#sk-container-id-10 div.sk-item {position: relative;z-index: 1;}#sk-container-id-10 div.sk-parallel {display: flex;align-items: stretch;justify-content: center;background-color: white;position: relative;}#sk-container-id-10 div.sk-item::before, #sk-container-id-10 div.sk-parallel-item::before {content: \"\";position: absolute;border-left: 1px solid gray;box-sizing: border-box;top: 0;bottom: 0;left: 50%;z-index: -1;}#sk-container-id-10 div.sk-parallel-item {display: flex;flex-direction: column;z-index: 1;position: relative;background-color: white;}#sk-container-id-10 div.sk-parallel-item:first-child::after {align-self: flex-end;width: 50%;}#sk-container-id-10 div.sk-parallel-item:last-child::after {align-self: flex-start;width: 50%;}#sk-container-id-10 div.sk-parallel-item:only-child::after {width: 0;}#sk-container-id-10 div.sk-dashed-wrapped {border: 1px dashed gray;margin: 0 0.4em 0.5em 0.4em;box-sizing: border-box;padding-bottom: 0.4em;background-color: white;}#sk-container-id-10 div.sk-label label {font-family: monospace;font-weight: bold;display: inline-block;line-height: 1.2em;}#sk-container-id-10 div.sk-label-container {text-align: center;}#sk-container-id-10 div.sk-container {/* jupyter's `normalize.less` sets `[hidden] { display: none; }` but bootstrap.min.css set `[hidden] { display: none !important; }` so we also need the `!important` here to be able to override the default hidden behavior on the sphinx rendered scikit-learn.org. See: https://github.com/scikit-learn/scikit-learn/issues/21755 */display: inline-block !important;position: relative;}#sk-container-id-10 div.sk-text-repr-fallback {display: none;}</style><div id=\"sk-container-id-10\" class=\"sk-top-container\"><div class=\"sk-text-repr-fallback\"><pre>LinearRegression()</pre><b>In a Jupyter environment, please rerun this cell to show the HTML representation or trust the notebook. <br />On GitHub, the HTML representation is unable to render, please try loading this page with nbviewer.org.</b></div><div class=\"sk-container\" hidden><div class=\"sk-item\"><div class=\"sk-estimator sk-toggleable\"><input class=\"sk-toggleable__control sk-hidden--visually\" id=\"sk-estimator-id-10\" type=\"checkbox\" checked><label for=\"sk-estimator-id-10\" class=\"sk-toggleable__label sk-toggleable__label-arrow\">LinearRegression</label><div class=\"sk-toggleable__content\"><pre>LinearRegression()</pre></div></div></div></div></div>"
      ],
      "text/plain": [
       "LinearRegression()"
      ]
     },
     "execution_count": 386,
     "metadata": {},
     "output_type": "execute_result"
    }
   ],
   "source": [
    "# split data into train and test, test size = 0.3, random_state = 40\n",
    "from sklearn.model_selection import train_test_split\n",
    "X_train, X_test, y_train, y_test = train_test_split(X, y, test_size=0.3, random_state=40)\n",
    "\n",
    "# train a linear regression model\n",
    "from sklearn.linear_model import LinearRegression\n",
    "model = LinearRegression()\n",
    "model.fit(X_train, y_train)"
   ]
  },
  {
   "cell_type": "code",
   "execution_count": 387,
   "metadata": {},
   "outputs": [
    {
     "data": {
      "text/html": [
       "<div>\n",
       "<style scoped>\n",
       "    .dataframe tbody tr th:only-of-type {\n",
       "        vertical-align: middle;\n",
       "    }\n",
       "\n",
       "    .dataframe tbody tr th {\n",
       "        vertical-align: top;\n",
       "    }\n",
       "\n",
       "    .dataframe thead th {\n",
       "        text-align: right;\n",
       "    }\n",
       "</style>\n",
       "<table border=\"1\" class=\"dataframe\">\n",
       "  <thead>\n",
       "    <tr style=\"text-align: right;\">\n",
       "      <th></th>\n",
       "      <th>feature</th>\n",
       "      <th>coef</th>\n",
       "    </tr>\n",
       "  </thead>\n",
       "  <tbody>\n",
       "    <tr>\n",
       "      <th>0</th>\n",
       "      <td>income</td>\n",
       "      <td>-1945.576183</td>\n",
       "    </tr>\n",
       "    <tr>\n",
       "      <th>1</th>\n",
       "      <td>marital_status</td>\n",
       "      <td>-4738.333930</td>\n",
       "    </tr>\n",
       "    <tr>\n",
       "      <th>2</th>\n",
       "      <td>vintage</td>\n",
       "      <td>84.113094</td>\n",
       "    </tr>\n",
       "    <tr>\n",
       "      <th>3</th>\n",
       "      <td>claim_amount</td>\n",
       "      <td>2.129160</td>\n",
       "    </tr>\n",
       "    <tr>\n",
       "      <th>4</th>\n",
       "      <td>num_policies</td>\n",
       "      <td>51042.759301</td>\n",
       "    </tr>\n",
       "    <tr>\n",
       "      <th>5</th>\n",
       "      <td>type_of_policy</td>\n",
       "      <td>1167.081900</td>\n",
       "    </tr>\n",
       "    <tr>\n",
       "      <th>6</th>\n",
       "      <td>Male</td>\n",
       "      <td>-17.420074</td>\n",
       "    </tr>\n",
       "    <tr>\n",
       "      <th>7</th>\n",
       "      <td>Urban</td>\n",
       "      <td>4103.511769</td>\n",
       "    </tr>\n",
       "    <tr>\n",
       "      <th>8</th>\n",
       "      <td>B</td>\n",
       "      <td>-3850.610187</td>\n",
       "    </tr>\n",
       "  </tbody>\n",
       "</table>\n",
       "</div>"
      ],
      "text/plain": [
       "          feature          coef\n",
       "0          income  -1945.576183\n",
       "1  marital_status  -4738.333930\n",
       "2         vintage     84.113094\n",
       "3    claim_amount      2.129160\n",
       "4    num_policies  51042.759301\n",
       "5  type_of_policy   1167.081900\n",
       "6            Male    -17.420074\n",
       "7           Urban   4103.511769\n",
       "8               B  -3850.610187"
      ]
     },
     "execution_count": 387,
     "metadata": {},
     "output_type": "execute_result"
    }
   ],
   "source": [
    "# find the coefficients of the model\n",
    "coef = pd.DataFrame(list(zip(X, model.coef_)))\n",
    "coef.columns = ['feature', 'coef']\n",
    "coef"
   ]
  },
  {
   "cell_type": "code",
   "execution_count": 388,
   "metadata": {},
   "outputs": [
    {
     "name": "stdout",
     "output_type": "stream",
     "text": [
      "MSE in-sample: 3316216289.8726454\n",
      "MSE out-sample: 3735366623.9683766\n",
      "R2 in-sample: 0.177452007563367\n",
      "R2 out-sample: 0.17569013427933222\n"
     ]
    }
   ],
   "source": [
    "#MSE and R2\n",
    "from sklearn.metrics import mean_squared_error, r2_score\n",
    "import numpy as np\n",
    "y_pred = model.predict(X_test)\n",
    "mse_insample = mean_squared_error(y_train, model.predict(X_train))\n",
    "mse_outsample = mean_squared_error(y_test, y_pred)\n",
    "r2_insample = r2_score(y_train, model.predict(X_train))\n",
    "r2_outsample = r2_score(y_test, y_pred)\n",
    "\n",
    "print('MSE in-sample:', mse_insample)\n",
    "print('MSE out-sample:', mse_outsample)\n",
    "print('R2 in-sample:', r2_insample)\n",
    "print('R2 out-sample:', r2_outsample)"
   ]
  },
  {
   "cell_type": "code",
   "execution_count": 389,
   "metadata": {},
   "outputs": [
    {
     "data": {
      "text/plain": [
       "Text(0.5, 1.0, 'Actual vs Predicted')"
      ]
     },
     "execution_count": 389,
     "metadata": {},
     "output_type": "execute_result"
    },
    {
     "data": {
      "image/png": "[encoded data removed]",
      "text/plain": [
       "<Figure size 640x480 with 1 Axes>"
      ]
     },
     "metadata": {},
     "output_type": "display_data"
    }
   ],
   "source": [
    "# plot the predicted vs actual values\n",
    "import matplotlib.pyplot as plt\n",
    "plt.scatter(y_test, y_pred)\n",
    "plt.xlabel('Actual')\n",
    "plt.ylabel('Predicted')\n",
    "plt.title('Actual vs Predicted')"
   ]
  },
  {
   "cell_type": "markdown",
   "metadata": {},
   "source": [
    "As some features attributes having a higher value than others, we need to scale the features. Let's try using min-max scaling, standard scaling and robust scaling to see which scaling method is the best."
   ]
  },
  {
   "cell_type": "markdown",
   "metadata": {},
   "source": [
    "### Scale the features before training the model"
   ]
  },
  {
   "cell_type": "markdown",
   "metadata": {},
   "source": [
    "#### Min-max scaling"
   ]
  },
  {
   "cell_type": "code",
   "execution_count": 390,
   "metadata": {},
   "outputs": [
    {
     "data": {
      "text/plain": [
       "(array([[0.66666667, 1.        , 0.66666667, ..., 1.        , 1.        ,\n",
       "         0.        ],\n",
       "        [0.66666667, 1.        , 1.        , ..., 1.        , 1.        ,\n",
       "         0.        ],\n",
       "        [0.66666667, 0.        , 0.88888889, ..., 0.        , 0.        ,\n",
       "         0.        ],\n",
       "        ...,\n",
       "        [0.66666667, 0.        , 0.88888889, ..., 1.        , 1.        ,\n",
       "         0.        ],\n",
       "        [0.33333333, 1.        , 0.22222222, ..., 0.        , 1.        ,\n",
       "         0.        ],\n",
       "        [0.66666667, 1.        , 0.77777778, ..., 1.        , 1.        ,\n",
       "         0.        ]]),\n",
       " 0        64308.0\n",
       " 2        64212.0\n",
       " 3        97920.0\n",
       " 4        59736.0\n",
       " 6       238920.0\n",
       "           ...   \n",
       " 9946     51360.0\n",
       " 9947     31272.0\n",
       " 9948     61116.0\n",
       " 9951     61200.0\n",
       " 9952     37692.0\n",
       " Name: cltv, Length: 8367, dtype: float64)"
      ]
     },
     "execution_count": 390,
     "metadata": {},
     "output_type": "execute_result"
    }
   ],
   "source": [
    "# min-max scale the data\n",
    "from sklearn.preprocessing import MinMaxScaler\n",
    "scaler = MinMaxScaler()\n",
    "X_minmax = scaler.fit_transform(df.iloc[:, :-1])\n",
    "\n",
    "# split the min-max scaled data into train and test\n",
    "X_train_minmax, X_test_minmax, y_train_minmax, y_test_minmax = train_test_split(X_minmax, y, test_size=0.3, random_state=40)\n",
    "X_minmax, y"
   ]
  },
  {
   "cell_type": "code",
   "execution_count": 391,
   "metadata": {},
   "outputs": [
    {
     "data": {
      "text/html": [
       "<div>\n",
       "<style scoped>\n",
       "    .dataframe tbody tr th:only-of-type {\n",
       "        vertical-align: middle;\n",
       "    }\n",
       "\n",
       "    .dataframe tbody tr th {\n",
       "        vertical-align: top;\n",
       "    }\n",
       "\n",
       "    .dataframe thead th {\n",
       "        text-align: right;\n",
       "    }\n",
       "</style>\n",
       "<table border=\"1\" class=\"dataframe\">\n",
       "  <thead>\n",
       "    <tr style=\"text-align: right;\">\n",
       "      <th></th>\n",
       "      <th>feature</th>\n",
       "      <th>coef</th>\n",
       "    </tr>\n",
       "  </thead>\n",
       "  <tbody>\n",
       "    <tr>\n",
       "      <th>0</th>\n",
       "      <td>income</td>\n",
       "      <td>-5836.728548</td>\n",
       "    </tr>\n",
       "    <tr>\n",
       "      <th>1</th>\n",
       "      <td>marital_status</td>\n",
       "      <td>-4738.333930</td>\n",
       "    </tr>\n",
       "    <tr>\n",
       "      <th>2</th>\n",
       "      <td>vintage</td>\n",
       "      <td>757.017849</td>\n",
       "    </tr>\n",
       "    <tr>\n",
       "      <th>3</th>\n",
       "      <td>claim_amount</td>\n",
       "      <td>30055.229365</td>\n",
       "    </tr>\n",
       "    <tr>\n",
       "      <th>4</th>\n",
       "      <td>num_policies</td>\n",
       "      <td>51042.759301</td>\n",
       "    </tr>\n",
       "    <tr>\n",
       "      <th>5</th>\n",
       "      <td>type_of_policy</td>\n",
       "      <td>2334.163800</td>\n",
       "    </tr>\n",
       "    <tr>\n",
       "      <th>6</th>\n",
       "      <td>Male</td>\n",
       "      <td>-17.420074</td>\n",
       "    </tr>\n",
       "    <tr>\n",
       "      <th>7</th>\n",
       "      <td>Urban</td>\n",
       "      <td>4103.511769</td>\n",
       "    </tr>\n",
       "    <tr>\n",
       "      <th>8</th>\n",
       "      <td>B</td>\n",
       "      <td>-3850.610187</td>\n",
       "    </tr>\n",
       "  </tbody>\n",
       "</table>\n",
       "</div>"
      ],
      "text/plain": [
       "          feature          coef\n",
       "0          income  -5836.728548\n",
       "1  marital_status  -4738.333930\n",
       "2         vintage    757.017849\n",
       "3    claim_amount  30055.229365\n",
       "4    num_policies  51042.759301\n",
       "5  type_of_policy   2334.163800\n",
       "6            Male    -17.420074\n",
       "7           Urban   4103.511769\n",
       "8               B  -3850.610187"
      ]
     },
     "execution_count": 391,
     "metadata": {},
     "output_type": "execute_result"
    }
   ],
   "source": [
    "# train a linear regression model on scaled data\n",
    "model_minmax = LinearRegression()\n",
    "model_minmax.fit(X_train_minmax, y_train)\n",
    "\n",
    "# find the coefficients of the model after min-max scaling\n",
    "coef_scale_minmax = pd.DataFrame(list(zip(X, model_minmax.coef_)))\n",
    "coef_scale_minmax.columns = ['feature', 'coef']\n",
    "coef_scale_minmax"
   ]
  },
  {
   "cell_type": "code",
   "execution_count": 392,
   "metadata": {},
   "outputs": [
    {
     "name": "stdout",
     "output_type": "stream",
     "text": [
      "MSE in-sample: 3316216289.8726454\n",
      "MSE out-sample: 3735366623.968386\n",
      "R2 in-sample: 0.177452007563367\n",
      "R2 out-sample: 0.1756901342793301\n"
     ]
    }
   ],
   "source": [
    "# check the MSE and R2 of the model on min-max scaled data\n",
    "y_pred = model_minmax.predict(X_test_minmax)\n",
    "mse_insample = mean_squared_error(y_train_minmax, model_minmax.predict(X_train_minmax))\n",
    "mse_outsample = mean_squared_error(y_test_minmax, y_pred)\n",
    "r2_insample = r2_score(y_train_minmax, model_minmax.predict(X_train_minmax))\n",
    "r2_outsample = r2_score(y_test_minmax, y_pred)\n",
    "\n",
    "print('MSE in-sample:', mse_insample)\n",
    "print('MSE out-sample:', mse_outsample)\n",
    "print('R2 in-sample:', r2_insample)\n",
    "print('R2 out-sample:', r2_outsample)"
   ]
  },
  {
   "cell_type": "code",
   "execution_count": 393,
   "metadata": {},
   "outputs": [
    {
     "data": {
      "image/png": "[encoded data removed]",
      "text/plain": [
       "<Figure size 640x480 with 1 Axes>"
      ]
     },
     "metadata": {},
     "output_type": "display_data"
    }
   ],
   "source": [
    "# fitted line plot for model generated from min-max scaled data\n",
    "import matplotlib.pyplot as plt\n",
    "plt.scatter(y_test_minmax, y_pred)\n",
    "plt.xlabel('True Values')\n",
    "plt.ylabel('Predictions')\n",
    "plt.show()"
   ]
  },
  {
   "cell_type": "markdown",
   "metadata": {},
   "source": [
    "#### Standard scaling"
   ]
  },
  {
   "cell_type": "code",
   "execution_count": 394,
   "metadata": {},
   "outputs": [
    {
     "data": {
      "text/plain": [
       "(array([[ 0.18430959,  0.84572581,  0.13978327, ...,  0.88436906,\n",
       "          0.66433701, -0.65948224],\n",
       "        [ 0.18430959,  0.84572581,  1.46532152, ...,  0.88436906,\n",
       "          0.66433701, -0.65948224],\n",
       "        [ 0.18430959, -1.18241631,  1.02347544, ..., -1.13074965,\n",
       "         -1.5052601 , -0.65948224],\n",
       "        ...,\n",
       "        [ 0.18430959, -1.18241631,  1.02347544, ...,  0.88436906,\n",
       "          0.66433701, -0.65948224],\n",
       "        [-1.2815824 ,  0.84572581, -1.62760107, ..., -1.13074965,\n",
       "          0.66433701, -0.65948224],\n",
       "        [ 0.18430959,  0.84572581,  0.58162935, ...,  0.88436906,\n",
       "          0.66433701, -0.65948224]]),\n",
       " 0        64308.0\n",
       " 2        64212.0\n",
       " 3        97920.0\n",
       " 4        59736.0\n",
       " 6       238920.0\n",
       "           ...   \n",
       " 9946     51360.0\n",
       " 9947     31272.0\n",
       " 9948     61116.0\n",
       " 9951     61200.0\n",
       " 9952     37692.0\n",
       " Name: cltv, Length: 8367, dtype: float64)"
      ]
     },
     "execution_count": 394,
     "metadata": {},
     "output_type": "execute_result"
    }
   ],
   "source": [
    "# standardize the data\n",
    "from sklearn.preprocessing import StandardScaler\n",
    "scaler = StandardScaler()\n",
    "X_standard = scaler.fit_transform(df.iloc[:, :-1])\n",
    "\n",
    "# split the standardized data into train and test\n",
    "X_train_standard, X_test_standard, y_train_standard, y_test_standard = train_test_split(X_standard, y, test_size=0.2, random_state=40)\n",
    "X_standard, y"
   ]
  },
  {
   "cell_type": "code",
   "execution_count": 395,
   "metadata": {},
   "outputs": [
    {
     "data": {
      "text/html": [
       "<div>\n",
       "<style scoped>\n",
       "    .dataframe tbody tr th:only-of-type {\n",
       "        vertical-align: middle;\n",
       "    }\n",
       "\n",
       "    .dataframe tbody tr th {\n",
       "        vertical-align: top;\n",
       "    }\n",
       "\n",
       "    .dataframe thead th {\n",
       "        text-align: right;\n",
       "    }\n",
       "</style>\n",
       "<table border=\"1\" class=\"dataframe\">\n",
       "  <thead>\n",
       "    <tr style=\"text-align: right;\">\n",
       "      <th></th>\n",
       "      <th>feature</th>\n",
       "      <th>coef</th>\n",
       "    </tr>\n",
       "  </thead>\n",
       "  <tbody>\n",
       "    <tr>\n",
       "      <th>0</th>\n",
       "      <td>income</td>\n",
       "      <td>-1318.269697</td>\n",
       "    </tr>\n",
       "    <tr>\n",
       "      <th>1</th>\n",
       "      <td>marital_status</td>\n",
       "      <td>-2100.069620</td>\n",
       "    </tr>\n",
       "    <tr>\n",
       "      <th>2</th>\n",
       "      <td>vintage</td>\n",
       "      <td>338.584473</td>\n",
       "    </tr>\n",
       "    <tr>\n",
       "      <th>3</th>\n",
       "      <td>claim_amount</td>\n",
       "      <td>5767.631309</td>\n",
       "    </tr>\n",
       "    <tr>\n",
       "      <th>4</th>\n",
       "      <td>num_policies</td>\n",
       "      <td>24300.126710</td>\n",
       "    </tr>\n",
       "    <tr>\n",
       "      <th>5</th>\n",
       "      <td>type_of_policy</td>\n",
       "      <td>819.779052</td>\n",
       "    </tr>\n",
       "    <tr>\n",
       "      <th>6</th>\n",
       "      <td>Male</td>\n",
       "      <td>-217.222170</td>\n",
       "    </tr>\n",
       "    <tr>\n",
       "      <th>7</th>\n",
       "      <td>Urban</td>\n",
       "      <td>1950.342851</td>\n",
       "    </tr>\n",
       "    <tr>\n",
       "      <th>8</th>\n",
       "      <td>B</td>\n",
       "      <td>-1878.910618</td>\n",
       "    </tr>\n",
       "  </tbody>\n",
       "</table>\n",
       "</div>"
      ],
      "text/plain": [
       "          feature          coef\n",
       "0          income  -1318.269697\n",
       "1  marital_status  -2100.069620\n",
       "2         vintage    338.584473\n",
       "3    claim_amount   5767.631309\n",
       "4    num_policies  24300.126710\n",
       "5  type_of_policy    819.779052\n",
       "6            Male   -217.222170\n",
       "7           Urban   1950.342851\n",
       "8               B  -1878.910618"
      ]
     },
     "execution_count": 395,
     "metadata": {},
     "output_type": "execute_result"
    }
   ],
   "source": [
    "# train a linear regression model on standardized data\n",
    "model_standard = LinearRegression()\n",
    "model_standard.fit(X_train_standard, y_train_standard)\n",
    "\n",
    "# find the coefficients of the model after standardization\n",
    "coef_scale_standard = pd.DataFrame(list(zip(X, model_standard.coef_)))\n",
    "coef_scale_standard.columns = ['feature', 'coef']\n",
    "coef_scale_standard"
   ]
  },
  {
   "cell_type": "code",
   "execution_count": 396,
   "metadata": {},
   "outputs": [
    {
     "name": "stdout",
     "output_type": "stream",
     "text": [
      "MSE in-sample: 3383043639.2027183\n",
      "MSE out-sample: 3674455879.3301353\n",
      "R2 in-sample: 0.17643729753251414\n",
      "R2 out-sample: 0.17926607540989514\n"
     ]
    }
   ],
   "source": [
    "# check the MSE and R2 of the model on standardized data\n",
    "y_pred = model_standard.predict(X_test_standard)\n",
    "mse_insample = mean_squared_error(y_train_standard, model_standard.predict(X_train_standard))\n",
    "mse_outsample = mean_squared_error(y_test_standard, y_pred)\n",
    "r2_insample = r2_score(y_train_standard, model_standard.predict(X_train_standard))\n",
    "r2_outsample = r2_score(y_test_standard, y_pred)\n",
    "\n",
    "print('MSE in-sample:', mse_insample)\n",
    "print('MSE out-sample:', mse_outsample)\n",
    "print('R2 in-sample:', r2_insample)\n",
    "print('R2 out-sample:', r2_outsample)"
   ]
  },
  {
   "cell_type": "code",
   "execution_count": 397,
   "metadata": {},
   "outputs": [
    {
     "data": {
      "image/png": "[encoded data removed]",
      "text/plain": [
       "<Figure size 640x480 with 1 Axes>"
      ]
     },
     "metadata": {},
     "output_type": "display_data"
    }
   ],
   "source": [
    "# fitted line plot\n",
    "plt.scatter(y_test_standard, y_pred)\n",
    "# plot the model coefficients\n",
    "plt.xlabel('True Values')\n",
    "plt.ylabel('Predictions')\n",
    "plt.show()"
   ]
  },
  {
   "cell_type": "markdown",
   "metadata": {},
   "source": [
    "#### Robust scaling"
   ]
  },
  {
   "cell_type": "code",
   "execution_count": 398,
   "metadata": {},
   "outputs": [
    {
     "data": {
      "text/plain": [
       "(array([[ 0.        ,  0.        ,  0.        , ...,  0.        ,\n",
       "          0.        ,  0.        ],\n",
       "        [ 0.        ,  0.        ,  1.        , ...,  0.        ,\n",
       "          0.        ,  0.        ],\n",
       "        [ 0.        , -1.        ,  0.66666667, ..., -1.        ,\n",
       "         -1.        ,  0.        ],\n",
       "        ...,\n",
       "        [ 0.        , -1.        ,  0.66666667, ...,  0.        ,\n",
       "          0.        ,  0.        ],\n",
       "        [-1.        ,  0.        , -1.33333333, ..., -1.        ,\n",
       "          0.        ,  0.        ],\n",
       "        [ 0.        ,  0.        ,  0.33333333, ...,  0.        ,\n",
       "          0.        ,  0.        ]]),\n",
       " 0        64308.0\n",
       " 2        64212.0\n",
       " 3        97920.0\n",
       " 4        59736.0\n",
       " 6       238920.0\n",
       "           ...   \n",
       " 9946     51360.0\n",
       " 9947     31272.0\n",
       " 9948     61116.0\n",
       " 9951     61200.0\n",
       " 9952     37692.0\n",
       " Name: cltv, Length: 8367, dtype: float64)"
      ]
     },
     "execution_count": 398,
     "metadata": {},
     "output_type": "execute_result"
    }
   ],
   "source": [
    "# robust scale the data\n",
    "from sklearn.preprocessing import RobustScaler\n",
    "scaler = RobustScaler()\n",
    "X_robust = scaler.fit_transform(df.iloc[:, :-1])\n",
    "\n",
    "# split the robust scaled data into train and test\n",
    "X_train_robust, X_test_robust, y_train_robust, y_test_robust = train_test_split(X_robust, y, test_size=0.2, random_state=40)\n",
    "X_robust, y"
   ]
  },
  {
   "cell_type": "code",
   "execution_count": 399,
   "metadata": {},
   "outputs": [
    {
     "data": {
      "text/html": [
       "<div>\n",
       "<style scoped>\n",
       "    .dataframe tbody tr th:only-of-type {\n",
       "        vertical-align: middle;\n",
       "    }\n",
       "\n",
       "    .dataframe tbody tr th {\n",
       "        vertical-align: top;\n",
       "    }\n",
       "\n",
       "    .dataframe thead th {\n",
       "        text-align: right;\n",
       "    }\n",
       "</style>\n",
       "<table border=\"1\" class=\"dataframe\">\n",
       "  <thead>\n",
       "    <tr style=\"text-align: right;\">\n",
       "      <th></th>\n",
       "      <th>feature</th>\n",
       "      <th>coef</th>\n",
       "    </tr>\n",
       "  </thead>\n",
       "  <tbody>\n",
       "    <tr>\n",
       "      <th>0</th>\n",
       "      <td>income</td>\n",
       "      <td>-1932.440999</td>\n",
       "    </tr>\n",
       "    <tr>\n",
       "      <th>1</th>\n",
       "      <td>marital_status</td>\n",
       "      <td>-4259.239669</td>\n",
       "    </tr>\n",
       "    <tr>\n",
       "      <th>2</th>\n",
       "      <td>vintage</td>\n",
       "      <td>448.806672</td>\n",
       "    </tr>\n",
       "    <tr>\n",
       "      <th>3</th>\n",
       "      <td>claim_amount</td>\n",
       "      <td>7200.196693</td>\n",
       "    </tr>\n",
       "    <tr>\n",
       "      <th>4</th>\n",
       "      <td>num_policies</td>\n",
       "      <td>51863.399955</td>\n",
       "    </tr>\n",
       "    <tr>\n",
       "      <th>5</th>\n",
       "      <td>type_of_policy</td>\n",
       "      <td>1006.672721</td>\n",
       "    </tr>\n",
       "    <tr>\n",
       "      <th>6</th>\n",
       "      <td>Male</td>\n",
       "      <td>-437.728457</td>\n",
       "    </tr>\n",
       "    <tr>\n",
       "      <th>7</th>\n",
       "      <td>Urban</td>\n",
       "      <td>4231.458217</td>\n",
       "    </tr>\n",
       "    <tr>\n",
       "      <th>8</th>\n",
       "      <td>B</td>\n",
       "      <td>-4088.177506</td>\n",
       "    </tr>\n",
       "  </tbody>\n",
       "</table>\n",
       "</div>"
      ],
      "text/plain": [
       "          feature          coef\n",
       "0          income  -1932.440999\n",
       "1  marital_status  -4259.239669\n",
       "2         vintage    448.806672\n",
       "3    claim_amount   7200.196693\n",
       "4    num_policies  51863.399955\n",
       "5  type_of_policy   1006.672721\n",
       "6            Male   -437.728457\n",
       "7           Urban   4231.458217\n",
       "8               B  -4088.177506"
      ]
     },
     "execution_count": 399,
     "metadata": {},
     "output_type": "execute_result"
    }
   ],
   "source": [
    "# train a linear regression model on robust scaled data\n",
    "model_robust = LinearRegression()\n",
    "model_robust.fit(X_train_robust, y_train_robust)\n",
    "\n",
    "# find the coefficients of the model after robust scaling\n",
    "coef_scale_robust = pd.DataFrame(list(zip(X, model_robust.coef_)))\n",
    "coef_scale_robust.columns = ['feature', 'coef']\n",
    "coef_scale_robust"
   ]
  },
  {
   "cell_type": "code",
   "execution_count": 400,
   "metadata": {},
   "outputs": [
    {
     "name": "stdout",
     "output_type": "stream",
     "text": [
      "MSE in-sample: 3383043639.2027187\n",
      "MSE out-sample: 3674455879.3301363\n",
      "R2 in-sample: 0.17643729753251391\n",
      "R2 out-sample: 0.17926607540989492\n"
     ]
    }
   ],
   "source": [
    "# check the MSE and R2 of the model on robust scaled data\n",
    "y_pred = model_robust.predict(X_test_robust)\n",
    "mse_insample = mean_squared_error(y_train_robust, model_robust.predict(X_train_robust))\n",
    "mse_outsample = mean_squared_error(y_test_robust, y_pred)\n",
    "r2_insample = r2_score(y_train_robust, model_robust.predict(X_train_robust))\n",
    "r2_outsample = r2_score(y_test_robust, y_pred)\n",
    "\n",
    "print('MSE in-sample:', mse_insample)\n",
    "print('MSE out-sample:', mse_outsample)\n",
    "print('R2 in-sample:', r2_insample)\n",
    "print('R2 out-sample:', r2_outsample)"
   ]
  },
  {
   "cell_type": "code",
   "execution_count": 401,
   "metadata": {},
   "outputs": [
    {
     "data": {
      "image/png": "[encoded data removed]",
      "text/plain": [
       "<Figure size 640x480 with 1 Axes>"
      ]
     },
     "metadata": {},
     "output_type": "display_data"
    }
   ],
   "source": [
    "# fitted line plot\n",
    "plt.scatter(y_test_robust, y_pred)\n",
    "# plot the model coefficients\n",
    "plt.xlabel('True Values')\n",
    "plt.ylabel('Predictions')\n",
    "plt.show()"
   ]
  },
  {
   "cell_type": "markdown",
   "metadata": {},
   "source": [
    "## Model evaluation"
   ]
  },
  {
   "cell_type": "markdown",
   "metadata": {},
   "source": [
    "By using the mean squared error, we can compare the model performance of different scaling methods, and model without scaling."
   ]
  },
  {
   "cell_type": "markdown",
   "metadata": {},
   "source": [
    "Model performance without scaling:\n",
    "* MSE in-sample: 3315594005.306047\n",
    "* MSE out-sample: 3739370965.6799006\n",
    "* R2 in-sample: 0.1776063578458088\n",
    "* R2 out-sample: 0.17480646777191466\n",
    "\n",
    "Model performance with min-max scaling:\n",
    "* MSE in-sample: 3317170669.956284\n",
    "* MSE out-sample: 3741801075.2433295\n",
    "* R2 in-sample: 0.17721528493938854\n",
    "* R2 out-sample: 0.1742701982461704\n",
    "\n",
    "Model performance with standard scaling:\n",
    "* MSE in-sample: 3391747636.2748685\n",
    "* MSE out-sample: 3709121817.5573997\n",
    "* R2 in-sample: 0.17431841048419372\n",
    "* R2 out-sample: 0.17152302107335826\n",
    "\n",
    "Model performance with robust scaling:\n",
    "* MSE in-sample: 3384078798.8372493\n",
    "* MSE out-sample: 3684238176.092975\n",
    "* R2 in-sample: 0.176185299935965\n",
    "* R2 out-sample: 0.1770810817462526"
   ]
  }
 ],
 "metadata": {
  "kernelspec": {
   "display_name": "Python 3",
   "language": "python",
   "name": "python3"
  },
  "language_info": {
   "codemirror_mode": {
    "name": "ipython",
    "version": 3
   },
   "file_extension": ".py",
   "mimetype": "text/x-python",
   "name": "python",
   "nbconvert_exporter": "python",
   "pygments_lexer": "ipython3",
   "version": "3.11.8"
  }
 },
 "nbformat": 4,
 "nbformat_minor": 2
}
