{
 "cells": [
  {
   "cell_type": "markdown",
   "metadata": {},
   "source": [
    "## Q3: Conduct a customer lifetime value prediction for an insurance company."
   ]
  },
  {
   "cell_type": "markdown",
   "metadata": {},
   "source": [
    "* Student ID: p233340 \n",
    "* Name: Kwok Tsz Yi\n",
    "* Course: COM6101"
   ]
  },
  {
   "cell_type": "code",
   "execution_count": 18,
   "metadata": {},
   "outputs": [
    {
     "data": {
      "text/html": [
       "<div>\n",
       "<style scoped>\n",
       "    .dataframe tbody tr th:only-of-type {\n",
       "        vertical-align: middle;\n",
       "    }\n",
       "\n",
       "    .dataframe tbody tr th {\n",
       "        vertical-align: top;\n",
       "    }\n",
       "\n",
       "    .dataframe thead th {\n",
       "        text-align: right;\n",
       "    }\n",
       "</style>\n",
       "<table border=\"1\" class=\"dataframe\">\n",
       "  <thead>\n",
       "    <tr style=\"text-align: right;\">\n",
       "      <th></th>\n",
       "      <th>id</th>\n",
       "      <th>gender</th>\n",
       "      <th>area</th>\n",
       "      <th>qualification</th>\n",
       "      <th>income</th>\n",
       "      <th>marital_status</th>\n",
       "      <th>vintage</th>\n",
       "      <th>claim_amount</th>\n",
       "      <th>num_policies</th>\n",
       "      <th>policy</th>\n",
       "      <th>type_of_policy</th>\n",
       "      <th>cltv</th>\n",
       "    </tr>\n",
       "  </thead>\n",
       "  <tbody>\n",
       "    <tr>\n",
       "      <th>0</th>\n",
       "      <td>1</td>\n",
       "      <td>Male</td>\n",
       "      <td>Urban</td>\n",
       "      <td>Bachelor</td>\n",
       "      <td>5L-10L</td>\n",
       "      <td>1.0</td>\n",
       "      <td>5.0</td>\n",
       "      <td>5790.0</td>\n",
       "      <td>More than 1</td>\n",
       "      <td>A</td>\n",
       "      <td>Platinum</td>\n",
       "      <td>64308.0</td>\n",
       "    </tr>\n",
       "    <tr>\n",
       "      <th>1</th>\n",
       "      <td>2</td>\n",
       "      <td>Male</td>\n",
       "      <td>Rural</td>\n",
       "      <td>High School</td>\n",
       "      <td>5L-10L</td>\n",
       "      <td>0.0</td>\n",
       "      <td>8.0</td>\n",
       "      <td>5080.0</td>\n",
       "      <td>More than 1</td>\n",
       "      <td>A</td>\n",
       "      <td>Platinum</td>\n",
       "      <td>515400.0</td>\n",
       "    </tr>\n",
       "    <tr>\n",
       "      <th>2</th>\n",
       "      <td>3</td>\n",
       "      <td>Male</td>\n",
       "      <td>Urban</td>\n",
       "      <td>Bachelor</td>\n",
       "      <td>5L-10L</td>\n",
       "      <td>1.0</td>\n",
       "      <td>8.0</td>\n",
       "      <td>2599.0</td>\n",
       "      <td>More than 1</td>\n",
       "      <td>A</td>\n",
       "      <td>Platinum</td>\n",
       "      <td>64212.0</td>\n",
       "    </tr>\n",
       "    <tr>\n",
       "      <th>3</th>\n",
       "      <td>4</td>\n",
       "      <td>Female</td>\n",
       "      <td>Rural</td>\n",
       "      <td>High School</td>\n",
       "      <td>5L-10L</td>\n",
       "      <td>0.0</td>\n",
       "      <td>7.0</td>\n",
       "      <td>0.0</td>\n",
       "      <td>More than 1</td>\n",
       "      <td>A</td>\n",
       "      <td>Platinum</td>\n",
       "      <td>97920.0</td>\n",
       "    </tr>\n",
       "    <tr>\n",
       "      <th>4</th>\n",
       "      <td>5</td>\n",
       "      <td>Male</td>\n",
       "      <td>Urban</td>\n",
       "      <td>High School</td>\n",
       "      <td>More than 10L</td>\n",
       "      <td>1.0</td>\n",
       "      <td>6.0</td>\n",
       "      <td>3508.0</td>\n",
       "      <td>More than 1</td>\n",
       "      <td>A</td>\n",
       "      <td>Gold</td>\n",
       "      <td>59736.0</td>\n",
       "    </tr>\n",
       "  </tbody>\n",
       "</table>\n",
       "</div>"
      ],
      "text/plain": [
       "   id  gender   area qualification         income  marital_status  vintage  \\\n",
       "0   1    Male  Urban      Bachelor         5L-10L             1.0      5.0   \n",
       "1   2    Male  Rural   High School         5L-10L             0.0      8.0   \n",
       "2   3    Male  Urban      Bachelor         5L-10L             1.0      8.0   \n",
       "3   4  Female  Rural   High School         5L-10L             0.0      7.0   \n",
       "4   5    Male  Urban   High School  More than 10L             1.0      6.0   \n",
       "\n",
       "   claim_amount num_policies policy type_of_policy      cltv  \n",
       "0        5790.0  More than 1      A       Platinum   64308.0  \n",
       "1        5080.0  More than 1      A       Platinum  515400.0  \n",
       "2        2599.0  More than 1      A       Platinum   64212.0  \n",
       "3           0.0  More than 1      A       Platinum   97920.0  \n",
       "4        3508.0  More than 1      A           Gold   59736.0  "
      ]
     },
     "execution_count": 18,
     "metadata": {},
     "output_type": "execute_result"
    }
   ],
   "source": [
    "# import dataset\n",
    "import pandas as pd\n",
    "df = pd.read_csv('Q3.csv')\n",
    "df.head()"
   ]
  },
  {
   "cell_type": "markdown",
   "metadata": {},
   "source": [
    "### Exploratory Data Analysis"
   ]
  },
  {
   "cell_type": "markdown",
   "metadata": {},
   "source": [
    "Find the shape of the data, the data types of the columns, and the first few rows of the data."
   ]
  },
  {
   "cell_type": "code",
   "execution_count": 19,
   "metadata": {},
   "outputs": [
    {
     "data": {
      "text/plain": [
       "(9954, 12)"
      ]
     },
     "execution_count": 19,
     "metadata": {},
     "output_type": "execute_result"
    }
   ],
   "source": [
    "df.shape"
   ]
  },
  {
   "cell_type": "code",
   "execution_count": 20,
   "metadata": {},
   "outputs": [
    {
     "data": {
      "text/plain": [
       "id                  int64\n",
       "gender             object\n",
       "area               object\n",
       "qualification      object\n",
       "income             object\n",
       "marital_status    float64\n",
       "vintage           float64\n",
       "claim_amount      float64\n",
       "num_policies       object\n",
       "policy             object\n",
       "type_of_policy     object\n",
       "cltv              float64\n",
       "dtype: object"
      ]
     },
     "execution_count": 20,
     "metadata": {},
     "output_type": "execute_result"
    }
   ],
   "source": [
    "df.dtypes"
   ]
  },
  {
   "cell_type": "code",
   "execution_count": 21,
   "metadata": {},
   "outputs": [
    {
     "data": {
      "text/html": [
       "<div>\n",
       "<style scoped>\n",
       "    .dataframe tbody tr th:only-of-type {\n",
       "        vertical-align: middle;\n",
       "    }\n",
       "\n",
       "    .dataframe tbody tr th {\n",
       "        vertical-align: top;\n",
       "    }\n",
       "\n",
       "    .dataframe thead th {\n",
       "        text-align: right;\n",
       "    }\n",
       "</style>\n",
       "<table border=\"1\" class=\"dataframe\">\n",
       "  <thead>\n",
       "    <tr style=\"text-align: right;\">\n",
       "      <th></th>\n",
       "      <th>id</th>\n",
       "      <th>marital_status</th>\n",
       "      <th>vintage</th>\n",
       "      <th>claim_amount</th>\n",
       "      <th>cltv</th>\n",
       "    </tr>\n",
       "  </thead>\n",
       "  <tbody>\n",
       "    <tr>\n",
       "      <th>count</th>\n",
       "      <td>9954.000000</td>\n",
       "      <td>9953.000000</td>\n",
       "      <td>9953.000000</td>\n",
       "      <td>9953.000000</td>\n",
       "      <td>9952.000000</td>\n",
       "    </tr>\n",
       "    <tr>\n",
       "      <th>mean</th>\n",
       "      <td>4977.500000</td>\n",
       "      <td>0.579323</td>\n",
       "      <td>4.641515</td>\n",
       "      <td>4361.435346</td>\n",
       "      <td>98710.847267</td>\n",
       "    </tr>\n",
       "    <tr>\n",
       "      <th>std</th>\n",
       "      <td>2873.616624</td>\n",
       "      <td>0.493693</td>\n",
       "      <td>2.269143</td>\n",
       "      <td>3281.160576</td>\n",
       "      <td>91154.356054</td>\n",
       "    </tr>\n",
       "    <tr>\n",
       "      <th>min</th>\n",
       "      <td>1.000000</td>\n",
       "      <td>0.000000</td>\n",
       "      <td>-1.000000</td>\n",
       "      <td>0.000000</td>\n",
       "      <td>27432.000000</td>\n",
       "    </tr>\n",
       "    <tr>\n",
       "      <th>25%</th>\n",
       "      <td>2489.250000</td>\n",
       "      <td>0.000000</td>\n",
       "      <td>3.000000</td>\n",
       "      <td>2415.000000</td>\n",
       "      <td>53280.000000</td>\n",
       "    </tr>\n",
       "    <tr>\n",
       "      <th>50%</th>\n",
       "      <td>4977.500000</td>\n",
       "      <td>1.000000</td>\n",
       "      <td>5.000000</td>\n",
       "      <td>4099.000000</td>\n",
       "      <td>66108.000000</td>\n",
       "    </tr>\n",
       "    <tr>\n",
       "      <th>75%</th>\n",
       "      <td>7465.750000</td>\n",
       "      <td>1.000000</td>\n",
       "      <td>6.000000</td>\n",
       "      <td>6100.000000</td>\n",
       "      <td>103812.000000</td>\n",
       "    </tr>\n",
       "    <tr>\n",
       "      <th>max</th>\n",
       "      <td>9954.000000</td>\n",
       "      <td>1.000000</td>\n",
       "      <td>8.000000</td>\n",
       "      <td>31894.000000</td>\n",
       "      <td>650964.000000</td>\n",
       "    </tr>\n",
       "  </tbody>\n",
       "</table>\n",
       "</div>"
      ],
      "text/plain": [
       "                id  marital_status      vintage  claim_amount           cltv\n",
       "count  9954.000000     9953.000000  9953.000000   9953.000000    9952.000000\n",
       "mean   4977.500000        0.579323     4.641515   4361.435346   98710.847267\n",
       "std    2873.616624        0.493693     2.269143   3281.160576   91154.356054\n",
       "min       1.000000        0.000000    -1.000000      0.000000   27432.000000\n",
       "25%    2489.250000        0.000000     3.000000   2415.000000   53280.000000\n",
       "50%    4977.500000        1.000000     5.000000   4099.000000   66108.000000\n",
       "75%    7465.750000        1.000000     6.000000   6100.000000  103812.000000\n",
       "max    9954.000000        1.000000     8.000000  31894.000000  650964.000000"
      ]
     },
     "execution_count": 21,
     "metadata": {},
     "output_type": "execute_result"
    }
   ],
   "source": [
    "df.describe()"
   ]
  },
  {
   "cell_type": "markdown",
   "metadata": {},
   "source": [
    "Find missing values in each columns:"
   ]
  },
  {
   "cell_type": "code",
   "execution_count": 22,
   "metadata": {},
   "outputs": [
    {
     "data": {
      "text/plain": [
       "id                0\n",
       "gender            0\n",
       "area              0\n",
       "qualification     0\n",
       "income            1\n",
       "marital_status    1\n",
       "vintage           1\n",
       "claim_amount      1\n",
       "num_policies      1\n",
       "policy            1\n",
       "type_of_policy    1\n",
       "cltv              2\n",
       "dtype: int64"
      ]
     },
     "execution_count": 22,
     "metadata": {},
     "output_type": "execute_result"
    }
   ],
   "source": [
    "df.isnull().sum()"
   ]
  },
  {
   "cell_type": "markdown",
   "metadata": {},
   "source": [
    "As the number of missing values is small, we can drop the rows with missing values."
   ]
  },
  {
   "cell_type": "code",
   "execution_count": 23,
   "metadata": {},
   "outputs": [
    {
     "data": {
      "text/plain": [
       "id                0\n",
       "gender            0\n",
       "area              0\n",
       "qualification     0\n",
       "income            0\n",
       "marital_status    0\n",
       "vintage           0\n",
       "claim_amount      0\n",
       "num_policies      0\n",
       "policy            0\n",
       "type_of_policy    0\n",
       "cltv              0\n",
       "dtype: int64"
      ]
     },
     "execution_count": 23,
     "metadata": {},
     "output_type": "execute_result"
    }
   ],
   "source": [
    "df = df.dropna()\n",
    "df.isnull().sum()"
   ]
  },
  {
   "cell_type": "markdown",
   "metadata": {},
   "source": [
    "### Data Preprocessing"
   ]
  },
  {
   "cell_type": "markdown",
   "metadata": {},
   "source": [
    "We need to perform ordinal encoding on the categorical columns with ordinal variables, and standard scaling on the numerical columns. Encode column 'income' first."
   ]
  },
  {
   "cell_type": "code",
   "execution_count": 24,
   "metadata": {},
   "outputs": [
    {
     "data": {
      "text/plain": [
       "income\n",
       "5L-10L           5797\n",
       "2L-5L            2417\n",
       "More than 10L    1507\n",
       "<=2L              231\n",
       "Name: count, dtype: int64"
      ]
     },
     "execution_count": 24,
     "metadata": {},
     "output_type": "execute_result"
    }
   ],
   "source": [
    "# discover unique values in income column first\n",
    "df['income'].value_counts()"
   ]
  },
  {
   "cell_type": "markdown",
   "metadata": {},
   "source": [
    "Encoding the df['income'] column to numerical data type, e.g. '<=2L' to 1, '2L-5L' to 2."
   ]
  },
  {
   "cell_type": "code",
   "execution_count": 25,
   "metadata": {},
   "outputs": [
    {
     "data": {
      "text/plain": [
       "income\n",
       "2    5797\n",
       "1    2417\n",
       "3    1507\n",
       "0     231\n",
       "Name: count, dtype: int64"
      ]
     },
     "execution_count": 25,
     "metadata": {},
     "output_type": "execute_result"
    }
   ],
   "source": [
    "# encode income column\n",
    "df['income'] = df['income'].map({'<=2L': 0, '2L-5L': 1, '5L-10L': 2, 'More than 10L': 3})\n",
    "df['income'].value_counts()"
   ]
  }
 ],
 "metadata": {
  "kernelspec": {
   "display_name": "Python 3",
   "language": "python",
   "name": "python3"
  },
  "language_info": {
   "codemirror_mode": {
    "name": "ipython",
    "version": 3
   },
   "file_extension": ".py",
   "mimetype": "text/x-python",
   "name": "python",
   "nbconvert_exporter": "python",
   "pygments_lexer": "ipython3",
   "version": "3.10.13"
  }
 },
 "nbformat": 4,
 "nbformat_minor": 2
}
