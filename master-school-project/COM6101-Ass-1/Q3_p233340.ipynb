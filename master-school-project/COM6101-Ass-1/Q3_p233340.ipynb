{
 "cells": [
  {
   "cell_type": "markdown",
   "metadata": {},
   "source": [
    "## Q3: Conduct a customer lifetime value prediction for an insurance company."
   ]
  },
  {
   "cell_type": "markdown",
   "metadata": {},
   "source": [
    "* Student ID: p233340 \n",
    "* Name: Kwok Tsz Yi\n",
    "* Course: COM6101"
   ]
  },
  {
   "cell_type": "code",
   "execution_count": 153,
   "metadata": {},
   "outputs": [
    {
     "data": {
      "text/html": [
       "<div>\n",
       "<style scoped>\n",
       "    .dataframe tbody tr th:only-of-type {\n",
       "        vertical-align: middle;\n",
       "    }\n",
       "\n",
       "    .dataframe tbody tr th {\n",
       "        vertical-align: top;\n",
       "    }\n",
       "\n",
       "    .dataframe thead th {\n",
       "        text-align: right;\n",
       "    }\n",
       "</style>\n",
       "<table border=\"1\" class=\"dataframe\">\n",
       "  <thead>\n",
       "    <tr style=\"text-align: right;\">\n",
       "      <th></th>\n",
       "      <th>id</th>\n",
       "      <th>gender</th>\n",
       "      <th>area</th>\n",
       "      <th>qualification</th>\n",
       "      <th>income</th>\n",
       "      <th>marital_status</th>\n",
       "      <th>vintage</th>\n",
       "      <th>claim_amount</th>\n",
       "      <th>num_policies</th>\n",
       "      <th>policy</th>\n",
       "      <th>type_of_policy</th>\n",
       "      <th>cltv</th>\n",
       "    </tr>\n",
       "  </thead>\n",
       "  <tbody>\n",
       "    <tr>\n",
       "      <th>0</th>\n",
       "      <td>1</td>\n",
       "      <td>Male</td>\n",
       "      <td>Urban</td>\n",
       "      <td>Bachelor</td>\n",
       "      <td>5L-10L</td>\n",
       "      <td>1.0</td>\n",
       "      <td>5.0</td>\n",
       "      <td>5790.0</td>\n",
       "      <td>More than 1</td>\n",
       "      <td>A</td>\n",
       "      <td>Platinum</td>\n",
       "      <td>64308.0</td>\n",
       "    </tr>\n",
       "    <tr>\n",
       "      <th>1</th>\n",
       "      <td>2</td>\n",
       "      <td>Male</td>\n",
       "      <td>Rural</td>\n",
       "      <td>High School</td>\n",
       "      <td>5L-10L</td>\n",
       "      <td>0.0</td>\n",
       "      <td>8.0</td>\n",
       "      <td>5080.0</td>\n",
       "      <td>More than 1</td>\n",
       "      <td>A</td>\n",
       "      <td>Platinum</td>\n",
       "      <td>515400.0</td>\n",
       "    </tr>\n",
       "    <tr>\n",
       "      <th>2</th>\n",
       "      <td>3</td>\n",
       "      <td>Male</td>\n",
       "      <td>Urban</td>\n",
       "      <td>Bachelor</td>\n",
       "      <td>5L-10L</td>\n",
       "      <td>1.0</td>\n",
       "      <td>8.0</td>\n",
       "      <td>2599.0</td>\n",
       "      <td>More than 1</td>\n",
       "      <td>A</td>\n",
       "      <td>Platinum</td>\n",
       "      <td>64212.0</td>\n",
       "    </tr>\n",
       "    <tr>\n",
       "      <th>3</th>\n",
       "      <td>4</td>\n",
       "      <td>Female</td>\n",
       "      <td>Rural</td>\n",
       "      <td>High School</td>\n",
       "      <td>5L-10L</td>\n",
       "      <td>0.0</td>\n",
       "      <td>7.0</td>\n",
       "      <td>0.0</td>\n",
       "      <td>More than 1</td>\n",
       "      <td>A</td>\n",
       "      <td>Platinum</td>\n",
       "      <td>97920.0</td>\n",
       "    </tr>\n",
       "    <tr>\n",
       "      <th>4</th>\n",
       "      <td>5</td>\n",
       "      <td>Male</td>\n",
       "      <td>Urban</td>\n",
       "      <td>High School</td>\n",
       "      <td>More than 10L</td>\n",
       "      <td>1.0</td>\n",
       "      <td>6.0</td>\n",
       "      <td>3508.0</td>\n",
       "      <td>More than 1</td>\n",
       "      <td>A</td>\n",
       "      <td>Gold</td>\n",
       "      <td>59736.0</td>\n",
       "    </tr>\n",
       "  </tbody>\n",
       "</table>\n",
       "</div>"
      ],
      "text/plain": [
       "   id  gender   area qualification         income  marital_status  vintage  \\\n",
       "0   1    Male  Urban      Bachelor         5L-10L             1.0      5.0   \n",
       "1   2    Male  Rural   High School         5L-10L             0.0      8.0   \n",
       "2   3    Male  Urban      Bachelor         5L-10L             1.0      8.0   \n",
       "3   4  Female  Rural   High School         5L-10L             0.0      7.0   \n",
       "4   5    Male  Urban   High School  More than 10L             1.0      6.0   \n",
       "\n",
       "   claim_amount num_policies policy type_of_policy      cltv  \n",
       "0        5790.0  More than 1      A       Platinum   64308.0  \n",
       "1        5080.0  More than 1      A       Platinum  515400.0  \n",
       "2        2599.0  More than 1      A       Platinum   64212.0  \n",
       "3           0.0  More than 1      A       Platinum   97920.0  \n",
       "4        3508.0  More than 1      A           Gold   59736.0  "
      ]
     },
     "execution_count": 153,
     "metadata": {},
     "output_type": "execute_result"
    }
   ],
   "source": [
    "# import dataset\n",
    "import pandas as pd\n",
    "df = pd.read_csv('Q3.csv')\n",
    "df.head()"
   ]
  },
  {
   "cell_type": "markdown",
   "metadata": {},
   "source": [
    "### Exploratory Data Analysis"
   ]
  },
  {
   "cell_type": "markdown",
   "metadata": {},
   "source": [
    "Find the shape of the data, the data types of the columns, and the first few rows of the data."
   ]
  },
  {
   "cell_type": "code",
   "execution_count": 154,
   "metadata": {},
   "outputs": [
    {
     "data": {
      "text/plain": [
       "(9954, 12)"
      ]
     },
     "execution_count": 154,
     "metadata": {},
     "output_type": "execute_result"
    }
   ],
   "source": [
    "df.shape"
   ]
  },
  {
   "cell_type": "code",
   "execution_count": 155,
   "metadata": {},
   "outputs": [
    {
     "data": {
      "text/plain": [
       "id                  int64\n",
       "gender             object\n",
       "area               object\n",
       "qualification      object\n",
       "income             object\n",
       "marital_status    float64\n",
       "vintage           float64\n",
       "claim_amount      float64\n",
       "num_policies       object\n",
       "policy             object\n",
       "type_of_policy     object\n",
       "cltv              float64\n",
       "dtype: object"
      ]
     },
     "execution_count": 155,
     "metadata": {},
     "output_type": "execute_result"
    }
   ],
   "source": [
    "df.dtypes"
   ]
  },
  {
   "cell_type": "code",
   "execution_count": 156,
   "metadata": {},
   "outputs": [
    {
     "data": {
      "text/html": [
       "<div>\n",
       "<style scoped>\n",
       "    .dataframe tbody tr th:only-of-type {\n",
       "        vertical-align: middle;\n",
       "    }\n",
       "\n",
       "    .dataframe tbody tr th {\n",
       "        vertical-align: top;\n",
       "    }\n",
       "\n",
       "    .dataframe thead th {\n",
       "        text-align: right;\n",
       "    }\n",
       "</style>\n",
       "<table border=\"1\" class=\"dataframe\">\n",
       "  <thead>\n",
       "    <tr style=\"text-align: right;\">\n",
       "      <th></th>\n",
       "      <th>id</th>\n",
       "      <th>marital_status</th>\n",
       "      <th>vintage</th>\n",
       "      <th>claim_amount</th>\n",
       "      <th>cltv</th>\n",
       "    </tr>\n",
       "  </thead>\n",
       "  <tbody>\n",
       "    <tr>\n",
       "      <th>count</th>\n",
       "      <td>9954.000000</td>\n",
       "      <td>9953.000000</td>\n",
       "      <td>9953.000000</td>\n",
       "      <td>9953.000000</td>\n",
       "      <td>9952.000000</td>\n",
       "    </tr>\n",
       "    <tr>\n",
       "      <th>mean</th>\n",
       "      <td>4977.500000</td>\n",
       "      <td>0.579323</td>\n",
       "      <td>4.641515</td>\n",
       "      <td>4361.435346</td>\n",
       "      <td>98710.847267</td>\n",
       "    </tr>\n",
       "    <tr>\n",
       "      <th>std</th>\n",
       "      <td>2873.616624</td>\n",
       "      <td>0.493693</td>\n",
       "      <td>2.269143</td>\n",
       "      <td>3281.160576</td>\n",
       "      <td>91154.356054</td>\n",
       "    </tr>\n",
       "    <tr>\n",
       "      <th>min</th>\n",
       "      <td>1.000000</td>\n",
       "      <td>0.000000</td>\n",
       "      <td>-1.000000</td>\n",
       "      <td>0.000000</td>\n",
       "      <td>27432.000000</td>\n",
       "    </tr>\n",
       "    <tr>\n",
       "      <th>25%</th>\n",
       "      <td>2489.250000</td>\n",
       "      <td>0.000000</td>\n",
       "      <td>3.000000</td>\n",
       "      <td>2415.000000</td>\n",
       "      <td>53280.000000</td>\n",
       "    </tr>\n",
       "    <tr>\n",
       "      <th>50%</th>\n",
       "      <td>4977.500000</td>\n",
       "      <td>1.000000</td>\n",
       "      <td>5.000000</td>\n",
       "      <td>4099.000000</td>\n",
       "      <td>66108.000000</td>\n",
       "    </tr>\n",
       "    <tr>\n",
       "      <th>75%</th>\n",
       "      <td>7465.750000</td>\n",
       "      <td>1.000000</td>\n",
       "      <td>6.000000</td>\n",
       "      <td>6100.000000</td>\n",
       "      <td>103812.000000</td>\n",
       "    </tr>\n",
       "    <tr>\n",
       "      <th>max</th>\n",
       "      <td>9954.000000</td>\n",
       "      <td>1.000000</td>\n",
       "      <td>8.000000</td>\n",
       "      <td>31894.000000</td>\n",
       "      <td>650964.000000</td>\n",
       "    </tr>\n",
       "  </tbody>\n",
       "</table>\n",
       "</div>"
      ],
      "text/plain": [
       "                id  marital_status      vintage  claim_amount           cltv\n",
       "count  9954.000000     9953.000000  9953.000000   9953.000000    9952.000000\n",
       "mean   4977.500000        0.579323     4.641515   4361.435346   98710.847267\n",
       "std    2873.616624        0.493693     2.269143   3281.160576   91154.356054\n",
       "min       1.000000        0.000000    -1.000000      0.000000   27432.000000\n",
       "25%    2489.250000        0.000000     3.000000   2415.000000   53280.000000\n",
       "50%    4977.500000        1.000000     5.000000   4099.000000   66108.000000\n",
       "75%    7465.750000        1.000000     6.000000   6100.000000  103812.000000\n",
       "max    9954.000000        1.000000     8.000000  31894.000000  650964.000000"
      ]
     },
     "execution_count": 156,
     "metadata": {},
     "output_type": "execute_result"
    }
   ],
   "source": [
    "df.describe()"
   ]
  },
  {
   "cell_type": "markdown",
   "metadata": {},
   "source": [
    "Find missing values in each columns:"
   ]
  },
  {
   "cell_type": "code",
   "execution_count": 157,
   "metadata": {},
   "outputs": [
    {
     "data": {
      "text/plain": [
       "id                0\n",
       "gender            0\n",
       "area              0\n",
       "qualification     0\n",
       "income            1\n",
       "marital_status    1\n",
       "vintage           1\n",
       "claim_amount      1\n",
       "num_policies      1\n",
       "policy            1\n",
       "type_of_policy    1\n",
       "cltv              2\n",
       "dtype: int64"
      ]
     },
     "execution_count": 157,
     "metadata": {},
     "output_type": "execute_result"
    }
   ],
   "source": [
    "df.isnull().sum()"
   ]
  },
  {
   "cell_type": "markdown",
   "metadata": {},
   "source": [
    "As the number of missing values is small, we can drop the rows with missing values."
   ]
  },
  {
   "cell_type": "code",
   "execution_count": 158,
   "metadata": {},
   "outputs": [
    {
     "data": {
      "text/plain": [
       "id                0\n",
       "gender            0\n",
       "area              0\n",
       "qualification     0\n",
       "income            0\n",
       "marital_status    0\n",
       "vintage           0\n",
       "claim_amount      0\n",
       "num_policies      0\n",
       "policy            0\n",
       "type_of_policy    0\n",
       "cltv              0\n",
       "dtype: int64"
      ]
     },
     "execution_count": 158,
     "metadata": {},
     "output_type": "execute_result"
    }
   ],
   "source": [
    "df = df.dropna()\n",
    "df.isnull().sum()"
   ]
  },
  {
   "cell_type": "markdown",
   "metadata": {},
   "source": [
    "### Data Preprocessing"
   ]
  },
  {
   "cell_type": "code",
   "execution_count": 159,
   "metadata": {},
   "outputs": [
    {
     "data": {
      "text/plain": [
       "id                  int64\n",
       "gender             object\n",
       "area               object\n",
       "qualification      object\n",
       "income             object\n",
       "marital_status    float64\n",
       "vintage           float64\n",
       "claim_amount      float64\n",
       "num_policies       object\n",
       "policy             object\n",
       "type_of_policy     object\n",
       "cltv              float64\n",
       "dtype: object"
      ]
     },
     "execution_count": 159,
     "metadata": {},
     "output_type": "execute_result"
    }
   ],
   "source": [
    "df.dtypes"
   ]
  },
  {
   "cell_type": "markdown",
   "metadata": {},
   "source": [
    "As per the dtype, there are 6 columns need to be transformed to numerical data type. For column gender, area, policy and qualification, as they are non-ordinal categorical data, we can use one-hot encoding to transform them. For column income, num_policies and type_of_policy, as they are ordinal categorical data, we can use label encoding to transform them."
   ]
  },
  {
   "cell_type": "markdown",
   "metadata": {},
   "source": [
    "#### One-hot encoding"
   ]
  },
  {
   "cell_type": "markdown",
   "metadata": {},
   "source": [
    "Columns to perform one-hot encoding:\n",
    "* gender\n",
    "* area\n",
    "* policy\n",
    "* qualification"
   ]
  },
  {
   "cell_type": "code",
   "execution_count": 160,
   "metadata": {},
   "outputs": [
    {
     "data": {
      "text/html": [
       "<div>\n",
       "<style scoped>\n",
       "    .dataframe tbody tr th:only-of-type {\n",
       "        vertical-align: middle;\n",
       "    }\n",
       "\n",
       "    .dataframe tbody tr th {\n",
       "        vertical-align: top;\n",
       "    }\n",
       "\n",
       "    .dataframe thead th {\n",
       "        text-align: right;\n",
       "    }\n",
       "</style>\n",
       "<table border=\"1\" class=\"dataframe\">\n",
       "  <thead>\n",
       "    <tr style=\"text-align: right;\">\n",
       "      <th></th>\n",
       "      <th>id</th>\n",
       "      <th>income</th>\n",
       "      <th>marital_status</th>\n",
       "      <th>vintage</th>\n",
       "      <th>claim_amount</th>\n",
       "      <th>num_policies</th>\n",
       "      <th>type_of_policy</th>\n",
       "      <th>cltv</th>\n",
       "      <th>Female</th>\n",
       "      <th>Male</th>\n",
       "      <th>Rural</th>\n",
       "      <th>Urban</th>\n",
       "      <th>A</th>\n",
       "      <th>B</th>\n",
       "      <th>C</th>\n",
       "      <th>D</th>\n",
       "      <th>Bachelor</th>\n",
       "      <th>High School</th>\n",
       "      <th>Others</th>\n",
       "    </tr>\n",
       "  </thead>\n",
       "  <tbody>\n",
       "    <tr>\n",
       "      <th>0</th>\n",
       "      <td>1</td>\n",
       "      <td>5L-10L</td>\n",
       "      <td>1.0</td>\n",
       "      <td>5.0</td>\n",
       "      <td>5790.0</td>\n",
       "      <td>More than 1</td>\n",
       "      <td>Platinum</td>\n",
       "      <td>64308.0</td>\n",
       "      <td>False</td>\n",
       "      <td>True</td>\n",
       "      <td>False</td>\n",
       "      <td>True</td>\n",
       "      <td>True</td>\n",
       "      <td>False</td>\n",
       "      <td>False</td>\n",
       "      <td>False</td>\n",
       "      <td>True</td>\n",
       "      <td>False</td>\n",
       "      <td>False</td>\n",
       "    </tr>\n",
       "    <tr>\n",
       "      <th>1</th>\n",
       "      <td>2</td>\n",
       "      <td>5L-10L</td>\n",
       "      <td>0.0</td>\n",
       "      <td>8.0</td>\n",
       "      <td>5080.0</td>\n",
       "      <td>More than 1</td>\n",
       "      <td>Platinum</td>\n",
       "      <td>515400.0</td>\n",
       "      <td>False</td>\n",
       "      <td>True</td>\n",
       "      <td>True</td>\n",
       "      <td>False</td>\n",
       "      <td>True</td>\n",
       "      <td>False</td>\n",
       "      <td>False</td>\n",
       "      <td>False</td>\n",
       "      <td>False</td>\n",
       "      <td>True</td>\n",
       "      <td>False</td>\n",
       "    </tr>\n",
       "    <tr>\n",
       "      <th>2</th>\n",
       "      <td>3</td>\n",
       "      <td>5L-10L</td>\n",
       "      <td>1.0</td>\n",
       "      <td>8.0</td>\n",
       "      <td>2599.0</td>\n",
       "      <td>More than 1</td>\n",
       "      <td>Platinum</td>\n",
       "      <td>64212.0</td>\n",
       "      <td>False</td>\n",
       "      <td>True</td>\n",
       "      <td>False</td>\n",
       "      <td>True</td>\n",
       "      <td>True</td>\n",
       "      <td>False</td>\n",
       "      <td>False</td>\n",
       "      <td>False</td>\n",
       "      <td>True</td>\n",
       "      <td>False</td>\n",
       "      <td>False</td>\n",
       "    </tr>\n",
       "    <tr>\n",
       "      <th>3</th>\n",
       "      <td>4</td>\n",
       "      <td>5L-10L</td>\n",
       "      <td>0.0</td>\n",
       "      <td>7.0</td>\n",
       "      <td>0.0</td>\n",
       "      <td>More than 1</td>\n",
       "      <td>Platinum</td>\n",
       "      <td>97920.0</td>\n",
       "      <td>True</td>\n",
       "      <td>False</td>\n",
       "      <td>True</td>\n",
       "      <td>False</td>\n",
       "      <td>True</td>\n",
       "      <td>False</td>\n",
       "      <td>False</td>\n",
       "      <td>False</td>\n",
       "      <td>False</td>\n",
       "      <td>True</td>\n",
       "      <td>False</td>\n",
       "    </tr>\n",
       "    <tr>\n",
       "      <th>4</th>\n",
       "      <td>5</td>\n",
       "      <td>More than 10L</td>\n",
       "      <td>1.0</td>\n",
       "      <td>6.0</td>\n",
       "      <td>3508.0</td>\n",
       "      <td>More than 1</td>\n",
       "      <td>Gold</td>\n",
       "      <td>59736.0</td>\n",
       "      <td>False</td>\n",
       "      <td>True</td>\n",
       "      <td>False</td>\n",
       "      <td>True</td>\n",
       "      <td>True</td>\n",
       "      <td>False</td>\n",
       "      <td>False</td>\n",
       "      <td>False</td>\n",
       "      <td>False</td>\n",
       "      <td>True</td>\n",
       "      <td>False</td>\n",
       "    </tr>\n",
       "  </tbody>\n",
       "</table>\n",
       "</div>"
      ],
      "text/plain": [
       "   id         income  marital_status  vintage  claim_amount num_policies  \\\n",
       "0   1         5L-10L             1.0      5.0        5790.0  More than 1   \n",
       "1   2         5L-10L             0.0      8.0        5080.0  More than 1   \n",
       "2   3         5L-10L             1.0      8.0        2599.0  More than 1   \n",
       "3   4         5L-10L             0.0      7.0           0.0  More than 1   \n",
       "4   5  More than 10L             1.0      6.0        3508.0  More than 1   \n",
       "\n",
       "  type_of_policy      cltv  Female   Male  Rural  Urban     A      B      C  \\\n",
       "0       Platinum   64308.0   False   True  False   True  True  False  False   \n",
       "1       Platinum  515400.0   False   True   True  False  True  False  False   \n",
       "2       Platinum   64212.0   False   True  False   True  True  False  False   \n",
       "3       Platinum   97920.0    True  False   True  False  True  False  False   \n",
       "4           Gold   59736.0   False   True  False   True  True  False  False   \n",
       "\n",
       "       D  Bachelor  High School  Others  \n",
       "0  False      True        False   False  \n",
       "1  False     False         True   False  \n",
       "2  False      True        False   False  \n",
       "3  False     False         True   False  \n",
       "4  False     False         True   False  "
      ]
     },
     "execution_count": 160,
     "metadata": {},
     "output_type": "execute_result"
    }
   ],
   "source": [
    "# replace df['gender'] with dummy variables\n",
    "df = df.join(pd.get_dummies(df['gender']))\n",
    "df = df.join(pd.get_dummies(df['area']))\n",
    "df = df.join(pd.get_dummies(df['policy']))\n",
    "df = df.join(pd.get_dummies(df['qualification']))\n",
    "df = df.drop(['gender', 'area', 'policy', 'qualification'], axis=1)\n",
    "df.head()"
   ]
  },
  {
   "cell_type": "code",
   "execution_count": 161,
   "metadata": {},
   "outputs": [
    {
     "data": {
      "text/plain": [
       "id                  int64\n",
       "income             object\n",
       "marital_status    float64\n",
       "vintage           float64\n",
       "claim_amount      float64\n",
       "num_policies       object\n",
       "type_of_policy     object\n",
       "cltv              float64\n",
       "Female              int32\n",
       "Male                int32\n",
       "Rural               int32\n",
       "Urban               int32\n",
       "A                   int32\n",
       "B                   int32\n",
       "C                   int32\n",
       "D                   int32\n",
       "Bachelor            int32\n",
       "High School         int32\n",
       "Others              int32\n",
       "dtype: object"
      ]
     },
     "execution_count": 161,
     "metadata": {},
     "output_type": "execute_result"
    }
   ],
   "source": [
    "# transform boolean to int\n",
    "for i in range(0, len(df.columns)):\n",
    "    if df.iloc[:, i].dtype == bool:\n",
    "        df.iloc[:, i] = df.iloc[:, i].astype(int)\n",
    "df.dtypes"
   ]
  },
  {
   "cell_type": "code",
   "execution_count": 162,
   "metadata": {},
   "outputs": [
    {
     "data": {
      "text/html": [
       "<div>\n",
       "<style scoped>\n",
       "    .dataframe tbody tr th:only-of-type {\n",
       "        vertical-align: middle;\n",
       "    }\n",
       "\n",
       "    .dataframe tbody tr th {\n",
       "        vertical-align: top;\n",
       "    }\n",
       "\n",
       "    .dataframe thead th {\n",
       "        text-align: right;\n",
       "    }\n",
       "</style>\n",
       "<table border=\"1\" class=\"dataframe\">\n",
       "  <thead>\n",
       "    <tr style=\"text-align: right;\">\n",
       "      <th></th>\n",
       "      <th>id</th>\n",
       "      <th>income</th>\n",
       "      <th>marital_status</th>\n",
       "      <th>vintage</th>\n",
       "      <th>claim_amount</th>\n",
       "      <th>num_policies</th>\n",
       "      <th>type_of_policy</th>\n",
       "      <th>cltv</th>\n",
       "      <th>Female</th>\n",
       "      <th>Male</th>\n",
       "      <th>Rural</th>\n",
       "      <th>Urban</th>\n",
       "      <th>A</th>\n",
       "      <th>B</th>\n",
       "      <th>C</th>\n",
       "      <th>D</th>\n",
       "      <th>Bachelor</th>\n",
       "      <th>High School</th>\n",
       "      <th>Others</th>\n",
       "    </tr>\n",
       "  </thead>\n",
       "  <tbody>\n",
       "    <tr>\n",
       "      <th>0</th>\n",
       "      <td>1</td>\n",
       "      <td>5L-10L</td>\n",
       "      <td>1.0</td>\n",
       "      <td>5.0</td>\n",
       "      <td>5790.0</td>\n",
       "      <td>More than 1</td>\n",
       "      <td>Platinum</td>\n",
       "      <td>64308.0</td>\n",
       "      <td>0</td>\n",
       "      <td>1</td>\n",
       "      <td>0</td>\n",
       "      <td>1</td>\n",
       "      <td>1</td>\n",
       "      <td>0</td>\n",
       "      <td>0</td>\n",
       "      <td>0</td>\n",
       "      <td>1</td>\n",
       "      <td>0</td>\n",
       "      <td>0</td>\n",
       "    </tr>\n",
       "    <tr>\n",
       "      <th>1</th>\n",
       "      <td>2</td>\n",
       "      <td>5L-10L</td>\n",
       "      <td>0.0</td>\n",
       "      <td>8.0</td>\n",
       "      <td>5080.0</td>\n",
       "      <td>More than 1</td>\n",
       "      <td>Platinum</td>\n",
       "      <td>515400.0</td>\n",
       "      <td>0</td>\n",
       "      <td>1</td>\n",
       "      <td>1</td>\n",
       "      <td>0</td>\n",
       "      <td>1</td>\n",
       "      <td>0</td>\n",
       "      <td>0</td>\n",
       "      <td>0</td>\n",
       "      <td>0</td>\n",
       "      <td>1</td>\n",
       "      <td>0</td>\n",
       "    </tr>\n",
       "    <tr>\n",
       "      <th>2</th>\n",
       "      <td>3</td>\n",
       "      <td>5L-10L</td>\n",
       "      <td>1.0</td>\n",
       "      <td>8.0</td>\n",
       "      <td>2599.0</td>\n",
       "      <td>More than 1</td>\n",
       "      <td>Platinum</td>\n",
       "      <td>64212.0</td>\n",
       "      <td>0</td>\n",
       "      <td>1</td>\n",
       "      <td>0</td>\n",
       "      <td>1</td>\n",
       "      <td>1</td>\n",
       "      <td>0</td>\n",
       "      <td>0</td>\n",
       "      <td>0</td>\n",
       "      <td>1</td>\n",
       "      <td>0</td>\n",
       "      <td>0</td>\n",
       "    </tr>\n",
       "    <tr>\n",
       "      <th>3</th>\n",
       "      <td>4</td>\n",
       "      <td>5L-10L</td>\n",
       "      <td>0.0</td>\n",
       "      <td>7.0</td>\n",
       "      <td>0.0</td>\n",
       "      <td>More than 1</td>\n",
       "      <td>Platinum</td>\n",
       "      <td>97920.0</td>\n",
       "      <td>1</td>\n",
       "      <td>0</td>\n",
       "      <td>1</td>\n",
       "      <td>0</td>\n",
       "      <td>1</td>\n",
       "      <td>0</td>\n",
       "      <td>0</td>\n",
       "      <td>0</td>\n",
       "      <td>0</td>\n",
       "      <td>1</td>\n",
       "      <td>0</td>\n",
       "    </tr>\n",
       "    <tr>\n",
       "      <th>4</th>\n",
       "      <td>5</td>\n",
       "      <td>More than 10L</td>\n",
       "      <td>1.0</td>\n",
       "      <td>6.0</td>\n",
       "      <td>3508.0</td>\n",
       "      <td>More than 1</td>\n",
       "      <td>Gold</td>\n",
       "      <td>59736.0</td>\n",
       "      <td>0</td>\n",
       "      <td>1</td>\n",
       "      <td>0</td>\n",
       "      <td>1</td>\n",
       "      <td>1</td>\n",
       "      <td>0</td>\n",
       "      <td>0</td>\n",
       "      <td>0</td>\n",
       "      <td>0</td>\n",
       "      <td>1</td>\n",
       "      <td>0</td>\n",
       "    </tr>\n",
       "  </tbody>\n",
       "</table>\n",
       "</div>"
      ],
      "text/plain": [
       "   id         income  marital_status  vintage  claim_amount num_policies  \\\n",
       "0   1         5L-10L             1.0      5.0        5790.0  More than 1   \n",
       "1   2         5L-10L             0.0      8.0        5080.0  More than 1   \n",
       "2   3         5L-10L             1.0      8.0        2599.0  More than 1   \n",
       "3   4         5L-10L             0.0      7.0           0.0  More than 1   \n",
       "4   5  More than 10L             1.0      6.0        3508.0  More than 1   \n",
       "\n",
       "  type_of_policy      cltv  Female  Male  Rural  Urban  A  B  C  D  Bachelor  \\\n",
       "0       Platinum   64308.0       0     1      0      1  1  0  0  0         1   \n",
       "1       Platinum  515400.0       0     1      1      0  1  0  0  0         0   \n",
       "2       Platinum   64212.0       0     1      0      1  1  0  0  0         1   \n",
       "3       Platinum   97920.0       1     0      1      0  1  0  0  0         0   \n",
       "4           Gold   59736.0       0     1      0      1  1  0  0  0         0   \n",
       "\n",
       "   High School  Others  \n",
       "0            0       0  \n",
       "1            1       0  \n",
       "2            0       0  \n",
       "3            1       0  \n",
       "4            1       0  "
      ]
     },
     "execution_count": 162,
     "metadata": {},
     "output_type": "execute_result"
    }
   ],
   "source": [
    "df.head()"
   ]
  },
  {
   "cell_type": "markdown",
   "metadata": {},
   "source": [
    "#### Ordinal encoding"
   ]
  },
  {
   "cell_type": "code",
   "execution_count": 163,
   "metadata": {},
   "outputs": [
    {
     "data": {
      "text/plain": [
       "type_of_policy\n",
       "Platinum    5395\n",
       "Gold        2285\n",
       "Silver      2272\n",
       "Name: count, dtype: int64"
      ]
     },
     "execution_count": 163,
     "metadata": {},
     "output_type": "execute_result"
    }
   ],
   "source": [
    "# transform type_of_policy to numeric\n",
    "# display value_counts\n",
    "df['type_of_policy'].value_counts()"
   ]
  },
  {
   "cell_type": "code",
   "execution_count": 164,
   "metadata": {},
   "outputs": [
    {
     "data": {
      "text/plain": [
       "type_of_policy\n",
       "2    5395\n",
       "1    2285\n",
       "0    2272\n",
       "Name: count, dtype: int64"
      ]
     },
     "execution_count": 164,
     "metadata": {},
     "output_type": "execute_result"
    }
   ],
   "source": [
    "# silver = 0, gold = 1, platinum = 2\n",
    "df['type_of_policy'] = df['type_of_policy'].map({'Silver': 0, 'Gold': 1, 'Platinum': 2})\n",
    "df['type_of_policy'].value_counts()"
   ]
  },
  {
   "cell_type": "code",
   "execution_count": 165,
   "metadata": {},
   "outputs": [
    {
     "data": {
      "text/plain": [
       "num_policies\n",
       "More than 1    6719\n",
       "1              3233\n",
       "Name: count, dtype: int64"
      ]
     },
     "execution_count": 165,
     "metadata": {},
     "output_type": "execute_result"
    }
   ],
   "source": [
    "# transform num_policies to numeric \n",
    "# display value_counts\n",
    "df['num_policies'].value_counts()"
   ]
  },
  {
   "cell_type": "code",
   "execution_count": 166,
   "metadata": {},
   "outputs": [
    {
     "data": {
      "text/plain": [
       "num_policies\n",
       "1    6719\n",
       "0    3233\n",
       "Name: count, dtype: int64"
      ]
     },
     "execution_count": 166,
     "metadata": {},
     "output_type": "execute_result"
    }
   ],
   "source": [
    "# map more than 1 policy to 1, 1 policy to 0\n",
    "df['num_policies'] = df['num_policies'].map({'1': 0, 'More than 1':1})\n",
    "df['num_policies'].value_counts()"
   ]
  },
  {
   "cell_type": "code",
   "execution_count": 167,
   "metadata": {},
   "outputs": [
    {
     "data": {
      "text/plain": [
       "income\n",
       "5L-10L           5797\n",
       "2L-5L            2417\n",
       "More than 10L    1507\n",
       "<=2L              231\n",
       "Name: count, dtype: int64"
      ]
     },
     "execution_count": 167,
     "metadata": {},
     "output_type": "execute_result"
    }
   ],
   "source": [
    "# transform income column to numeric\n",
    "# discover unique values in income column first\n",
    "df['income'].value_counts()"
   ]
  },
  {
   "cell_type": "markdown",
   "metadata": {},
   "source": [
    "Encoding the df['income'] column to numerical data type, e.g. '<=2L' to 1, '2L-5L' to 2."
   ]
  },
  {
   "cell_type": "code",
   "execution_count": 168,
   "metadata": {},
   "outputs": [
    {
     "data": {
      "text/plain": [
       "income\n",
       "2    5797\n",
       "1    2417\n",
       "3    1507\n",
       "0     231\n",
       "Name: count, dtype: int64"
      ]
     },
     "execution_count": 168,
     "metadata": {},
     "output_type": "execute_result"
    }
   ],
   "source": [
    "# encode income column\n",
    "df['income'] = df['income'].map({'<=2L': 0, '2L-5L': 1, '5L-10L': 2, 'More than 10L': 3})\n",
    "df['income'].value_counts()"
   ]
  },
  {
   "cell_type": "code",
   "execution_count": 169,
   "metadata": {},
   "outputs": [
    {
     "data": {
      "text/html": [
       "<div>\n",
       "<style scoped>\n",
       "    .dataframe tbody tr th:only-of-type {\n",
       "        vertical-align: middle;\n",
       "    }\n",
       "\n",
       "    .dataframe tbody tr th {\n",
       "        vertical-align: top;\n",
       "    }\n",
       "\n",
       "    .dataframe thead th {\n",
       "        text-align: right;\n",
       "    }\n",
       "</style>\n",
       "<table border=\"1\" class=\"dataframe\">\n",
       "  <thead>\n",
       "    <tr style=\"text-align: right;\">\n",
       "      <th></th>\n",
       "      <th>id</th>\n",
       "      <th>income</th>\n",
       "      <th>marital_status</th>\n",
       "      <th>vintage</th>\n",
       "      <th>claim_amount</th>\n",
       "      <th>num_policies</th>\n",
       "      <th>type_of_policy</th>\n",
       "      <th>Female</th>\n",
       "      <th>Male</th>\n",
       "      <th>Rural</th>\n",
       "      <th>Urban</th>\n",
       "      <th>A</th>\n",
       "      <th>B</th>\n",
       "      <th>C</th>\n",
       "      <th>D</th>\n",
       "      <th>Bachelor</th>\n",
       "      <th>High School</th>\n",
       "      <th>Others</th>\n",
       "      <th>cltv</th>\n",
       "    </tr>\n",
       "  </thead>\n",
       "  <tbody>\n",
       "    <tr>\n",
       "      <th>0</th>\n",
       "      <td>1</td>\n",
       "      <td>2</td>\n",
       "      <td>1.0</td>\n",
       "      <td>5.0</td>\n",
       "      <td>5790.0</td>\n",
       "      <td>1</td>\n",
       "      <td>2</td>\n",
       "      <td>0</td>\n",
       "      <td>1</td>\n",
       "      <td>0</td>\n",
       "      <td>1</td>\n",
       "      <td>1</td>\n",
       "      <td>0</td>\n",
       "      <td>0</td>\n",
       "      <td>0</td>\n",
       "      <td>1</td>\n",
       "      <td>0</td>\n",
       "      <td>0</td>\n",
       "      <td>64308.0</td>\n",
       "    </tr>\n",
       "    <tr>\n",
       "      <th>1</th>\n",
       "      <td>2</td>\n",
       "      <td>2</td>\n",
       "      <td>0.0</td>\n",
       "      <td>8.0</td>\n",
       "      <td>5080.0</td>\n",
       "      <td>1</td>\n",
       "      <td>2</td>\n",
       "      <td>0</td>\n",
       "      <td>1</td>\n",
       "      <td>1</td>\n",
       "      <td>0</td>\n",
       "      <td>1</td>\n",
       "      <td>0</td>\n",
       "      <td>0</td>\n",
       "      <td>0</td>\n",
       "      <td>0</td>\n",
       "      <td>1</td>\n",
       "      <td>0</td>\n",
       "      <td>515400.0</td>\n",
       "    </tr>\n",
       "    <tr>\n",
       "      <th>2</th>\n",
       "      <td>3</td>\n",
       "      <td>2</td>\n",
       "      <td>1.0</td>\n",
       "      <td>8.0</td>\n",
       "      <td>2599.0</td>\n",
       "      <td>1</td>\n",
       "      <td>2</td>\n",
       "      <td>0</td>\n",
       "      <td>1</td>\n",
       "      <td>0</td>\n",
       "      <td>1</td>\n",
       "      <td>1</td>\n",
       "      <td>0</td>\n",
       "      <td>0</td>\n",
       "      <td>0</td>\n",
       "      <td>1</td>\n",
       "      <td>0</td>\n",
       "      <td>0</td>\n",
       "      <td>64212.0</td>\n",
       "    </tr>\n",
       "    <tr>\n",
       "      <th>3</th>\n",
       "      <td>4</td>\n",
       "      <td>2</td>\n",
       "      <td>0.0</td>\n",
       "      <td>7.0</td>\n",
       "      <td>0.0</td>\n",
       "      <td>1</td>\n",
       "      <td>2</td>\n",
       "      <td>1</td>\n",
       "      <td>0</td>\n",
       "      <td>1</td>\n",
       "      <td>0</td>\n",
       "      <td>1</td>\n",
       "      <td>0</td>\n",
       "      <td>0</td>\n",
       "      <td>0</td>\n",
       "      <td>0</td>\n",
       "      <td>1</td>\n",
       "      <td>0</td>\n",
       "      <td>97920.0</td>\n",
       "    </tr>\n",
       "    <tr>\n",
       "      <th>4</th>\n",
       "      <td>5</td>\n",
       "      <td>3</td>\n",
       "      <td>1.0</td>\n",
       "      <td>6.0</td>\n",
       "      <td>3508.0</td>\n",
       "      <td>1</td>\n",
       "      <td>1</td>\n",
       "      <td>0</td>\n",
       "      <td>1</td>\n",
       "      <td>0</td>\n",
       "      <td>1</td>\n",
       "      <td>1</td>\n",
       "      <td>0</td>\n",
       "      <td>0</td>\n",
       "      <td>0</td>\n",
       "      <td>0</td>\n",
       "      <td>1</td>\n",
       "      <td>0</td>\n",
       "      <td>59736.0</td>\n",
       "    </tr>\n",
       "  </tbody>\n",
       "</table>\n",
       "</div>"
      ],
      "text/plain": [
       "   id  income  marital_status  vintage  claim_amount  num_policies  \\\n",
       "0   1       2             1.0      5.0        5790.0             1   \n",
       "1   2       2             0.0      8.0        5080.0             1   \n",
       "2   3       2             1.0      8.0        2599.0             1   \n",
       "3   4       2             0.0      7.0           0.0             1   \n",
       "4   5       3             1.0      6.0        3508.0             1   \n",
       "\n",
       "   type_of_policy  Female  Male  Rural  Urban  A  B  C  D  Bachelor  \\\n",
       "0               2       0     1      0      1  1  0  0  0         1   \n",
       "1               2       0     1      1      0  1  0  0  0         0   \n",
       "2               2       0     1      0      1  1  0  0  0         1   \n",
       "3               2       1     0      1      0  1  0  0  0         0   \n",
       "4               1       0     1      0      1  1  0  0  0         0   \n",
       "\n",
       "   High School  Others      cltv  \n",
       "0            0       0   64308.0  \n",
       "1            1       0  515400.0  \n",
       "2            0       0   64212.0  \n",
       "3            1       0   97920.0  \n",
       "4            1       0   59736.0  "
      ]
     },
     "execution_count": 169,
     "metadata": {},
     "output_type": "execute_result"
    }
   ],
   "source": [
    "# rearrange columns: cltv to the end\n",
    "cols = list(df.columns)\n",
    "cols.remove('cltv')\n",
    "cols.append('cltv')\n",
    "df = df[cols]\n",
    "df.head()"
   ]
  },
  {
   "cell_type": "markdown",
   "metadata": {},
   "source": [
    "#### Outlier detection and removal:"
   ]
  },
  {
   "cell_type": "code",
   "execution_count": 170,
   "metadata": {},
   "outputs": [],
   "source": [
    "# outlier detection\n",
    "import numpy as np\n",
    "from scipy.stats import zscore\n",
    "z = np.abs(zscore(df))\n",
    "# threshold = 3\n",
    "threshold = 3\n",
    "df = df[(z < 3).all(axis=1)]\n",
    "df.shape"
   ]
  },
  {
   "cell_type": "markdown",
   "metadata": {},
   "source": [
    "### Predict customer lifetime value via linear regression model"
   ]
  },
  {
   "cell_type": "code",
   "execution_count": 171,
   "metadata": {},
   "outputs": [
    {
     "data": {
      "text/plain": [
       "(      income  marital_status  vintage  claim_amount  num_policies  \\\n",
       " 0          2             1.0      5.0        5790.0             1   \n",
       " 1          2             0.0      8.0        5080.0             1   \n",
       " 2          2             1.0      8.0        2599.0             1   \n",
       " 3          2             0.0      7.0           0.0             1   \n",
       " 4          3             1.0      6.0        3508.0             1   \n",
       " ...      ...             ...      ...           ...           ...   \n",
       " 9948       2             0.0      7.0        4938.0             1   \n",
       " 9949       1             0.0      8.0        6662.0             1   \n",
       " 9950       2             0.0      1.0        2222.0             0   \n",
       " 9951       1             1.0      1.0        5407.0             1   \n",
       " 9952       2             1.0      6.0           0.0             0   \n",
       " \n",
       "       type_of_policy  Female  Male  Rural  Urban  A  B  C  D  Bachelor  \\\n",
       " 0                  2       0     1      0      1  1  0  0  0         1   \n",
       " 1                  2       0     1      1      0  1  0  0  0         0   \n",
       " 2                  2       0     1      0      1  1  0  0  0         1   \n",
       " 3                  2       1     0      1      0  1  0  0  0         0   \n",
       " 4                  1       0     1      0      1  1  0  0  0         0   \n",
       " ...              ...     ...   ...    ...    ... .. .. .. ..       ...   \n",
       " 9948               2       0     1      0      1  1  0  0  0         1   \n",
       " 9949               2       0     1      0      1  0  0  1  0         1   \n",
       " 9950               0       1     0      1      0  0  0  1  0         0   \n",
       " 9951               2       1     0      0      1  1  0  0  0         0   \n",
       " 9952               2       0     1      0      1  1  0  0  0         0   \n",
       " \n",
       "       High School  Others  \n",
       " 0               0       0  \n",
       " 1               1       0  \n",
       " 2               0       0  \n",
       " 3               1       0  \n",
       " 4               1       0  \n",
       " ...           ...     ...  \n",
       " 9948            0       0  \n",
       " 9949            0       0  \n",
       " 9950            1       0  \n",
       " 9951            1       0  \n",
       " 9952            1       0  \n",
       " \n",
       " [9952 rows x 17 columns],\n",
       " 0        64308.0\n",
       " 1       515400.0\n",
       " 2        64212.0\n",
       " 3        97920.0\n",
       " 4        59736.0\n",
       "           ...   \n",
       " 9948     61116.0\n",
       " 9949    158784.0\n",
       " 9950     32940.0\n",
       " 9951     61200.0\n",
       " 9952     37692.0\n",
       " Name: cltv, Length: 9952, dtype: float64)"
      ]
     },
     "execution_count": 171,
     "metadata": {},
     "output_type": "execute_result"
    }
   ],
   "source": [
    "# split data into train and test, exclude column id from feature attributes\n",
    "# cltv is the target variable\n",
    "X = df.iloc[:, 1:-1]\n",
    "y = df.iloc[:, -1]\n",
    "\n",
    "X, y"
   ]
  },
  {
   "cell_type": "code",
   "execution_count": 172,
   "metadata": {},
   "outputs": [
    {
     "data": {
      "text/html": [
       "<style>#sk-container-id-4 {color: black;}#sk-container-id-4 pre{padding: 0;}#sk-container-id-4 div.sk-toggleable {background-color: white;}#sk-container-id-4 label.sk-toggleable__label {cursor: pointer;display: block;width: 100%;margin-bottom: 0;padding: 0.3em;box-sizing: border-box;text-align: center;}#sk-container-id-4 label.sk-toggleable__label-arrow:before {content: \"▸\";float: left;margin-right: 0.25em;color: #696969;}#sk-container-id-4 label.sk-toggleable__label-arrow:hover:before {color: black;}#sk-container-id-4 div.sk-estimator:hover label.sk-toggleable__label-arrow:before {color: black;}#sk-container-id-4 div.sk-toggleable__content {max-height: 0;max-width: 0;overflow: hidden;text-align: left;background-color: #f0f8ff;}#sk-container-id-4 div.sk-toggleable__content pre {margin: 0.2em;color: black;border-radius: 0.25em;background-color: #f0f8ff;}#sk-container-id-4 input.sk-toggleable__control:checked~div.sk-toggleable__content {max-height: 200px;max-width: 100%;overflow: auto;}#sk-container-id-4 input.sk-toggleable__control:checked~label.sk-toggleable__label-arrow:before {content: \"▾\";}#sk-container-id-4 div.sk-estimator input.sk-toggleable__control:checked~label.sk-toggleable__label {background-color: #d4ebff;}#sk-container-id-4 div.sk-label input.sk-toggleable__control:checked~label.sk-toggleable__label {background-color: #d4ebff;}#sk-container-id-4 input.sk-hidden--visually {border: 0;clip: rect(1px 1px 1px 1px);clip: rect(1px, 1px, 1px, 1px);height: 1px;margin: -1px;overflow: hidden;padding: 0;position: absolute;width: 1px;}#sk-container-id-4 div.sk-estimator {font-family: monospace;background-color: #f0f8ff;border: 1px dotted black;border-radius: 0.25em;box-sizing: border-box;margin-bottom: 0.5em;}#sk-container-id-4 div.sk-estimator:hover {background-color: #d4ebff;}#sk-container-id-4 div.sk-parallel-item::after {content: \"\";width: 100%;border-bottom: 1px solid gray;flex-grow: 1;}#sk-container-id-4 div.sk-label:hover label.sk-toggleable__label {background-color: #d4ebff;}#sk-container-id-4 div.sk-serial::before {content: \"\";position: absolute;border-left: 1px solid gray;box-sizing: border-box;top: 0;bottom: 0;left: 50%;z-index: 0;}#sk-container-id-4 div.sk-serial {display: flex;flex-direction: column;align-items: center;background-color: white;padding-right: 0.2em;padding-left: 0.2em;position: relative;}#sk-container-id-4 div.sk-item {position: relative;z-index: 1;}#sk-container-id-4 div.sk-parallel {display: flex;align-items: stretch;justify-content: center;background-color: white;position: relative;}#sk-container-id-4 div.sk-item::before, #sk-container-id-4 div.sk-parallel-item::before {content: \"\";position: absolute;border-left: 1px solid gray;box-sizing: border-box;top: 0;bottom: 0;left: 50%;z-index: -1;}#sk-container-id-4 div.sk-parallel-item {display: flex;flex-direction: column;z-index: 1;position: relative;background-color: white;}#sk-container-id-4 div.sk-parallel-item:first-child::after {align-self: flex-end;width: 50%;}#sk-container-id-4 div.sk-parallel-item:last-child::after {align-self: flex-start;width: 50%;}#sk-container-id-4 div.sk-parallel-item:only-child::after {width: 0;}#sk-container-id-4 div.sk-dashed-wrapped {border: 1px dashed gray;margin: 0 0.4em 0.5em 0.4em;box-sizing: border-box;padding-bottom: 0.4em;background-color: white;}#sk-container-id-4 div.sk-label label {font-family: monospace;font-weight: bold;display: inline-block;line-height: 1.2em;}#sk-container-id-4 div.sk-label-container {text-align: center;}#sk-container-id-4 div.sk-container {/* jupyter's `normalize.less` sets `[hidden] { display: none; }` but bootstrap.min.css set `[hidden] { display: none !important; }` so we also need the `!important` here to be able to override the default hidden behavior on the sphinx rendered scikit-learn.org. See: https://github.com/scikit-learn/scikit-learn/issues/21755 */display: inline-block !important;position: relative;}#sk-container-id-4 div.sk-text-repr-fallback {display: none;}</style><div id=\"sk-container-id-4\" class=\"sk-top-container\"><div class=\"sk-text-repr-fallback\"><pre>LinearRegression()</pre><b>In a Jupyter environment, please rerun this cell to show the HTML representation or trust the notebook. <br />On GitHub, the HTML representation is unable to render, please try loading this page with nbviewer.org.</b></div><div class=\"sk-container\" hidden><div class=\"sk-item\"><div class=\"sk-estimator sk-toggleable\"><input class=\"sk-toggleable__control sk-hidden--visually\" id=\"sk-estimator-id-4\" type=\"checkbox\" checked><label for=\"sk-estimator-id-4\" class=\"sk-toggleable__label sk-toggleable__label-arrow\">LinearRegression</label><div class=\"sk-toggleable__content\"><pre>LinearRegression()</pre></div></div></div></div></div>"
      ],
      "text/plain": [
       "LinearRegression()"
      ]
     },
     "execution_count": 172,
     "metadata": {},
     "output_type": "execute_result"
    }
   ],
   "source": [
    "# split data into train and test, test size = 0.3, random_state = 40\n",
    "from sklearn.model_selection import train_test_split\n",
    "X_train, X_test, y_train, y_test = train_test_split(X, y, test_size=0.3, random_state=40)\n",
    "\n",
    "# train a linear regression model\n",
    "from sklearn.linear_model import LinearRegression\n",
    "model = LinearRegression()\n",
    "model.fit(X_train, y_train)"
   ]
  },
  {
   "cell_type": "code",
   "execution_count": 173,
   "metadata": {},
   "outputs": [
    {
     "data": {
      "text/html": [
       "<div>\n",
       "<style scoped>\n",
       "    .dataframe tbody tr th:only-of-type {\n",
       "        vertical-align: middle;\n",
       "    }\n",
       "\n",
       "    .dataframe tbody tr th {\n",
       "        vertical-align: top;\n",
       "    }\n",
       "\n",
       "    .dataframe thead th {\n",
       "        text-align: right;\n",
       "    }\n",
       "</style>\n",
       "<table border=\"1\" class=\"dataframe\">\n",
       "  <thead>\n",
       "    <tr style=\"text-align: right;\">\n",
       "      <th></th>\n",
       "      <th>feature</th>\n",
       "      <th>coef</th>\n",
       "    </tr>\n",
       "  </thead>\n",
       "  <tbody>\n",
       "    <tr>\n",
       "      <th>0</th>\n",
       "      <td>income</td>\n",
       "      <td>-2203.193111</td>\n",
       "    </tr>\n",
       "    <tr>\n",
       "      <th>1</th>\n",
       "      <td>marital_status</td>\n",
       "      <td>-7062.743419</td>\n",
       "    </tr>\n",
       "    <tr>\n",
       "      <th>2</th>\n",
       "      <td>vintage</td>\n",
       "      <td>-450.089445</td>\n",
       "    </tr>\n",
       "    <tr>\n",
       "      <th>3</th>\n",
       "      <td>claim_amount</td>\n",
       "      <td>2.532636</td>\n",
       "    </tr>\n",
       "    <tr>\n",
       "      <th>4</th>\n",
       "      <td>num_policies</td>\n",
       "      <td>66885.382056</td>\n",
       "    </tr>\n",
       "    <tr>\n",
       "      <th>5</th>\n",
       "      <td>type_of_policy</td>\n",
       "      <td>-437.728095</td>\n",
       "    </tr>\n",
       "    <tr>\n",
       "      <th>6</th>\n",
       "      <td>Female</td>\n",
       "      <td>-2314.001411</td>\n",
       "    </tr>\n",
       "    <tr>\n",
       "      <th>7</th>\n",
       "      <td>Male</td>\n",
       "      <td>2314.001411</td>\n",
       "    </tr>\n",
       "    <tr>\n",
       "      <th>8</th>\n",
       "      <td>Rural</td>\n",
       "      <td>-4036.150935</td>\n",
       "    </tr>\n",
       "    <tr>\n",
       "      <th>9</th>\n",
       "      <td>Urban</td>\n",
       "      <td>4036.150935</td>\n",
       "    </tr>\n",
       "    <tr>\n",
       "      <th>10</th>\n",
       "      <td>A</td>\n",
       "      <td>3580.240740</td>\n",
       "    </tr>\n",
       "    <tr>\n",
       "      <th>11</th>\n",
       "      <td>B</td>\n",
       "      <td>-3031.431057</td>\n",
       "    </tr>\n",
       "    <tr>\n",
       "      <th>12</th>\n",
       "      <td>C</td>\n",
       "      <td>13617.283942</td>\n",
       "    </tr>\n",
       "    <tr>\n",
       "      <th>13</th>\n",
       "      <td>D</td>\n",
       "      <td>-14166.093625</td>\n",
       "    </tr>\n",
       "    <tr>\n",
       "      <th>14</th>\n",
       "      <td>Bachelor</td>\n",
       "      <td>4047.523240</td>\n",
       "    </tr>\n",
       "    <tr>\n",
       "      <th>15</th>\n",
       "      <td>High School</td>\n",
       "      <td>4048.443267</td>\n",
       "    </tr>\n",
       "    <tr>\n",
       "      <th>16</th>\n",
       "      <td>Others</td>\n",
       "      <td>-8095.966507</td>\n",
       "    </tr>\n",
       "  </tbody>\n",
       "</table>\n",
       "</div>"
      ],
      "text/plain": [
       "           feature          coef\n",
       "0           income  -2203.193111\n",
       "1   marital_status  -7062.743419\n",
       "2          vintage   -450.089445\n",
       "3     claim_amount      2.532636\n",
       "4     num_policies  66885.382056\n",
       "5   type_of_policy   -437.728095\n",
       "6           Female  -2314.001411\n",
       "7             Male   2314.001411\n",
       "8            Rural  -4036.150935\n",
       "9            Urban   4036.150935\n",
       "10               A   3580.240740\n",
       "11               B  -3031.431057\n",
       "12               C  13617.283942\n",
       "13               D -14166.093625\n",
       "14        Bachelor   4047.523240\n",
       "15     High School   4048.443267\n",
       "16          Others  -8095.966507"
      ]
     },
     "execution_count": 173,
     "metadata": {},
     "output_type": "execute_result"
    }
   ],
   "source": [
    "# find the coefficients of the model\n",
    "coef = pd.DataFrame(list(zip(X, model.coef_)))\n",
    "coef.columns = ['feature', 'coef']\n",
    "coef"
   ]
  },
  {
   "cell_type": "code",
   "execution_count": 174,
   "metadata": {},
   "outputs": [
    {
     "name": "stdout",
     "output_type": "stream",
     "text": [
      "MSE in-sample: 6988810031.547153\n",
      "MSE out-sample: 7099775327.57135\n",
      "R2 in-sample: 0.15621215280155132\n",
      "R2 out-sample: 0.15156075390225066\n"
     ]
    }
   ],
   "source": [
    "#MSE and R2\n",
    "from sklearn.metrics import mean_squared_error, r2_score\n",
    "import numpy as np\n",
    "y_pred = model.predict(X_test)\n",
    "mse_insample = mean_squared_error(y_train, model.predict(X_train))\n",
    "mse_outsample = mean_squared_error(y_test, y_pred)\n",
    "r2_insample = r2_score(y_train, model.predict(X_train))\n",
    "r2_outsample = r2_score(y_test, y_pred)\n",
    "\n",
    "print('MSE in-sample:', mse_insample)\n",
    "print('MSE out-sample:', mse_outsample)\n",
    "print('R2 in-sample:', r2_insample)\n",
    "print('R2 out-sample:', r2_outsample)"
   ]
  },
  {
   "cell_type": "code",
   "execution_count": 175,
   "metadata": {},
   "outputs": [
    {
     "data": {
      "text/plain": [
       "Text(0.5, 1.0, 'Actual vs Predicted')"
      ]
     },
     "execution_count": 175,
     "metadata": {},
     "output_type": "execute_result"
    },
    {
     "data": {
      "image/png": "[encoded data removed]",
      "text/plain": [
       "<Figure size 640x480 with 1 Axes>"
      ]
     },
     "metadata": {},
     "output_type": "display_data"
    }
   ],
   "source": [
    "# plot the predicted vs actual values\n",
    "import matplotlib.pyplot as plt\n",
    "plt.scatter(y_test, y_pred)\n",
    "plt.xlabel('Actual')\n",
    "plt.ylabel('Predicted')\n",
    "plt.title('Actual vs Predicted')"
   ]
  },
  {
   "cell_type": "markdown",
   "metadata": {},
   "source": [
    "As some features attributes having a higher value than others, we need to scale the features. Let's try using min-max scaling, standard scaling and robust scaling to see which scaling method is the best."
   ]
  },
  {
   "cell_type": "markdown",
   "metadata": {},
   "source": [
    "#### Min-max scaling"
   ]
  },
  {
   "cell_type": "code",
   "execution_count": 176,
   "metadata": {},
   "outputs": [
    {
     "data": {
      "text/plain": [
       "(array([[0.66666667, 1.        , 0.66666667, ..., 1.        , 0.        ,\n",
       "         0.        ],\n",
       "        [0.66666667, 0.        , 1.        , ..., 0.        , 1.        ,\n",
       "         0.        ],\n",
       "        [0.66666667, 1.        , 1.        , ..., 1.        , 0.        ,\n",
       "         0.        ],\n",
       "        ...,\n",
       "        [0.66666667, 0.        , 0.22222222, ..., 0.        , 1.        ,\n",
       "         0.        ],\n",
       "        [0.33333333, 1.        , 0.22222222, ..., 0.        , 1.        ,\n",
       "         0.        ],\n",
       "        [0.66666667, 1.        , 0.77777778, ..., 0.        , 1.        ,\n",
       "         0.        ]]),\n",
       " 0        64308.0\n",
       " 1       515400.0\n",
       " 2        64212.0\n",
       " 3        97920.0\n",
       " 4        59736.0\n",
       "           ...   \n",
       " 9948     61116.0\n",
       " 9949    158784.0\n",
       " 9950     32940.0\n",
       " 9951     61200.0\n",
       " 9952     37692.0\n",
       " Name: cltv, Length: 9952, dtype: float64)"
      ]
     },
     "execution_count": 176,
     "metadata": {},
     "output_type": "execute_result"
    }
   ],
   "source": [
    "# min-max scale the data\n",
    "from sklearn.preprocessing import MinMaxScaler\n",
    "scaler = MinMaxScaler()\n",
    "X_minmax = scaler.fit_transform(df.iloc[:, 1:-1])\n",
    "\n",
    "# split the min-max scaled data into train and test\n",
    "X_train_minmax, X_test_minmax, y_train_minmax, y_test_minmax = train_test_split(X_minmax, y, test_size=0.3, random_state=40)\n",
    "X_minmax, y"
   ]
  },
  {
   "cell_type": "code",
   "execution_count": 177,
   "metadata": {},
   "outputs": [
    {
     "data": {
      "text/html": [
       "<div>\n",
       "<style scoped>\n",
       "    .dataframe tbody tr th:only-of-type {\n",
       "        vertical-align: middle;\n",
       "    }\n",
       "\n",
       "    .dataframe tbody tr th {\n",
       "        vertical-align: top;\n",
       "    }\n",
       "\n",
       "    .dataframe thead th {\n",
       "        text-align: right;\n",
       "    }\n",
       "</style>\n",
       "<table border=\"1\" class=\"dataframe\">\n",
       "  <thead>\n",
       "    <tr style=\"text-align: right;\">\n",
       "      <th></th>\n",
       "      <th>feature</th>\n",
       "      <th>coef</th>\n",
       "    </tr>\n",
       "  </thead>\n",
       "  <tbody>\n",
       "    <tr>\n",
       "      <th>0</th>\n",
       "      <td>income</td>\n",
       "      <td>-7.370064e+03</td>\n",
       "    </tr>\n",
       "    <tr>\n",
       "      <th>1</th>\n",
       "      <td>marital_status</td>\n",
       "      <td>-6.646428e+03</td>\n",
       "    </tr>\n",
       "    <tr>\n",
       "      <th>2</th>\n",
       "      <td>vintage</td>\n",
       "      <td>-4.543257e+03</td>\n",
       "    </tr>\n",
       "    <tr>\n",
       "      <th>3</th>\n",
       "      <td>claim_amount</td>\n",
       "      <td>7.957460e+04</td>\n",
       "    </tr>\n",
       "    <tr>\n",
       "      <th>4</th>\n",
       "      <td>num_policies</td>\n",
       "      <td>6.709453e+04</td>\n",
       "    </tr>\n",
       "    <tr>\n",
       "      <th>5</th>\n",
       "      <td>type_of_policy</td>\n",
       "      <td>-1.411106e+03</td>\n",
       "    </tr>\n",
       "    <tr>\n",
       "      <th>6</th>\n",
       "      <td>Female</td>\n",
       "      <td>-1.595017e+18</td>\n",
       "    </tr>\n",
       "    <tr>\n",
       "      <th>7</th>\n",
       "      <td>Male</td>\n",
       "      <td>-1.595017e+18</td>\n",
       "    </tr>\n",
       "    <tr>\n",
       "      <th>8</th>\n",
       "      <td>Rural</td>\n",
       "      <td>-1.236724e+18</td>\n",
       "    </tr>\n",
       "    <tr>\n",
       "      <th>9</th>\n",
       "      <td>Urban</td>\n",
       "      <td>-1.236724e+18</td>\n",
       "    </tr>\n",
       "    <tr>\n",
       "      <th>10</th>\n",
       "      <td>A</td>\n",
       "      <td>-2.418804e+17</td>\n",
       "    </tr>\n",
       "    <tr>\n",
       "      <th>11</th>\n",
       "      <td>B</td>\n",
       "      <td>-2.418804e+17</td>\n",
       "    </tr>\n",
       "    <tr>\n",
       "      <th>12</th>\n",
       "      <td>C</td>\n",
       "      <td>-2.418804e+17</td>\n",
       "    </tr>\n",
       "    <tr>\n",
       "      <th>13</th>\n",
       "      <td>D</td>\n",
       "      <td>-2.418804e+17</td>\n",
       "    </tr>\n",
       "    <tr>\n",
       "      <th>14</th>\n",
       "      <td>Bachelor</td>\n",
       "      <td>-6.679691e+17</td>\n",
       "    </tr>\n",
       "    <tr>\n",
       "      <th>15</th>\n",
       "      <td>High School</td>\n",
       "      <td>-6.679691e+17</td>\n",
       "    </tr>\n",
       "    <tr>\n",
       "      <th>16</th>\n",
       "      <td>Others</td>\n",
       "      <td>-6.679691e+17</td>\n",
       "    </tr>\n",
       "  </tbody>\n",
       "</table>\n",
       "</div>"
      ],
      "text/plain": [
       "           feature          coef\n",
       "0           income -7.370064e+03\n",
       "1   marital_status -6.646428e+03\n",
       "2          vintage -4.543257e+03\n",
       "3     claim_amount  7.957460e+04\n",
       "4     num_policies  6.709453e+04\n",
       "5   type_of_policy -1.411106e+03\n",
       "6           Female -1.595017e+18\n",
       "7             Male -1.595017e+18\n",
       "8            Rural -1.236724e+18\n",
       "9            Urban -1.236724e+18\n",
       "10               A -2.418804e+17\n",
       "11               B -2.418804e+17\n",
       "12               C -2.418804e+17\n",
       "13               D -2.418804e+17\n",
       "14        Bachelor -6.679691e+17\n",
       "15     High School -6.679691e+17\n",
       "16          Others -6.679691e+17"
      ]
     },
     "execution_count": 177,
     "metadata": {},
     "output_type": "execute_result"
    }
   ],
   "source": [
    "# train a linear regression model on scaled data\n",
    "model_minmax = LinearRegression()\n",
    "model_minmax.fit(X_train_minmax, y_train)\n",
    "\n",
    "# find the coefficients of the model after min-max scaling\n",
    "coef_scale_minmax = pd.DataFrame(list(zip(X, model_minmax.coef_)))\n",
    "coef_scale_minmax.columns = ['feature', 'coef']\n",
    "coef_scale_minmax"
   ]
  },
  {
   "cell_type": "code",
   "execution_count": 178,
   "metadata": {},
   "outputs": [
    {
     "name": "stdout",
     "output_type": "stream",
     "text": [
      "MSE in-sample: 6990721014.479472\n",
      "MSE out-sample: 7102718105.371735\n",
      "R2 in-sample: 0.15598143195390834\n",
      "R2 out-sample: 0.15120908528413313\n"
     ]
    }
   ],
   "source": [
    "# check the MSE and R2 of the model on min-max scaled data\n",
    "y_pred = model_minmax.predict(X_test_minmax)\n",
    "mse_insample = mean_squared_error(y_train_minmax, model_minmax.predict(X_train_minmax))\n",
    "mse_outsample = mean_squared_error(y_test_minmax, y_pred)\n",
    "r2_insample = r2_score(y_train_minmax, model_minmax.predict(X_train_minmax))\n",
    "r2_outsample = r2_score(y_test_minmax, y_pred)\n",
    "\n",
    "print('MSE in-sample:', mse_insample)\n",
    "print('MSE out-sample:', mse_outsample)\n",
    "print('R2 in-sample:', r2_insample)\n",
    "print('R2 out-sample:', r2_outsample)"
   ]
  },
  {
   "cell_type": "code",
   "execution_count": 179,
   "metadata": {},
   "outputs": [
    {
     "data": {
      "image/png": "[encoded data removed]",
      "text/plain": [
       "<Figure size 640x480 with 1 Axes>"
      ]
     },
     "metadata": {},
     "output_type": "display_data"
    }
   ],
   "source": [
    "# fitted line plot for model generated from min-max scaled data\n",
    "import matplotlib.pyplot as plt\n",
    "plt.scatter(y_test_minmax, y_pred)\n",
    "plt.xlabel('True Values')\n",
    "plt.ylabel('Predictions')\n",
    "plt.show()"
   ]
  },
  {
   "cell_type": "markdown",
   "metadata": {},
   "source": [
    "#### Standard scaling"
   ]
  },
  {
   "cell_type": "code",
   "execution_count": 180,
   "metadata": {},
   "outputs": [
    {
     "data": {
      "text/plain": [
       "(array([[ 0.20149273,  0.85204453,  0.15781017, ...,  1.11556018,\n",
       "         -1.03414366, -0.19787954],\n",
       "        [ 0.20149273, -1.17364758,  1.48017351, ..., -0.89641063,\n",
       "          0.96698364, -0.19787954],\n",
       "        [ 0.20149273,  0.85204453,  1.48017351, ...,  1.11556018,\n",
       "         -1.03414366, -0.19787954],\n",
       "        ...,\n",
       "        [ 0.20149273, -1.17364758, -1.60534094, ..., -0.89641063,\n",
       "          0.96698364, -0.19787954],\n",
       "        [-1.2600639 ,  0.85204453, -1.60534094, ..., -0.89641063,\n",
       "          0.96698364, -0.19787954],\n",
       "        [ 0.20149273,  0.85204453,  0.59859795, ..., -0.89641063,\n",
       "          0.96698364, -0.19787954]]),\n",
       " 0        64308.0\n",
       " 1       515400.0\n",
       " 2        64212.0\n",
       " 3        97920.0\n",
       " 4        59736.0\n",
       "           ...   \n",
       " 9948     61116.0\n",
       " 9949    158784.0\n",
       " 9950     32940.0\n",
       " 9951     61200.0\n",
       " 9952     37692.0\n",
       " Name: cltv, Length: 9952, dtype: float64)"
      ]
     },
     "execution_count": 180,
     "metadata": {},
     "output_type": "execute_result"
    }
   ],
   "source": [
    "# standardize the data\n",
    "from sklearn.preprocessing import StandardScaler\n",
    "scaler = StandardScaler()\n",
    "X_standard = scaler.fit_transform(df.iloc[:, 1:-1])\n",
    "\n",
    "# split the standardized data into train and test\n",
    "X_train_standard, X_test_standard, y_train_standard, y_test_standard = train_test_split(X_standard, y, test_size=0.2, random_state=40)\n",
    "X_standard, y"
   ]
  },
  {
   "cell_type": "code",
   "execution_count": 181,
   "metadata": {},
   "outputs": [
    {
     "data": {
      "text/html": [
       "<div>\n",
       "<style scoped>\n",
       "    .dataframe tbody tr th:only-of-type {\n",
       "        vertical-align: middle;\n",
       "    }\n",
       "\n",
       "    .dataframe tbody tr th {\n",
       "        vertical-align: top;\n",
       "    }\n",
       "\n",
       "    .dataframe thead th {\n",
       "        text-align: right;\n",
       "    }\n",
       "</style>\n",
       "<table border=\"1\" class=\"dataframe\">\n",
       "  <thead>\n",
       "    <tr style=\"text-align: right;\">\n",
       "      <th></th>\n",
       "      <th>feature</th>\n",
       "      <th>coef</th>\n",
       "    </tr>\n",
       "  </thead>\n",
       "  <tbody>\n",
       "    <tr>\n",
       "      <th>0</th>\n",
       "      <td>income</td>\n",
       "      <td>-5.548418e+03</td>\n",
       "    </tr>\n",
       "    <tr>\n",
       "      <th>1</th>\n",
       "      <td>marital_status</td>\n",
       "      <td>-3.719069e+03</td>\n",
       "    </tr>\n",
       "    <tr>\n",
       "      <th>2</th>\n",
       "      <td>vintage</td>\n",
       "      <td>8.022574e+01</td>\n",
       "    </tr>\n",
       "    <tr>\n",
       "      <th>3</th>\n",
       "      <td>claim_amount</td>\n",
       "      <td>8.818168e+03</td>\n",
       "    </tr>\n",
       "    <tr>\n",
       "      <th>4</th>\n",
       "      <td>num_policies</td>\n",
       "      <td>3.100867e+04</td>\n",
       "    </tr>\n",
       "    <tr>\n",
       "      <th>5</th>\n",
       "      <td>type_of_policy</td>\n",
       "      <td>-1.591951e+03</td>\n",
       "    </tr>\n",
       "    <tr>\n",
       "      <th>6</th>\n",
       "      <td>Female</td>\n",
       "      <td>-3.598727e+16</td>\n",
       "    </tr>\n",
       "    <tr>\n",
       "      <th>7</th>\n",
       "      <td>Male</td>\n",
       "      <td>-3.598727e+16</td>\n",
       "    </tr>\n",
       "    <tr>\n",
       "      <th>8</th>\n",
       "      <td>Rural</td>\n",
       "      <td>5.632690e+18</td>\n",
       "    </tr>\n",
       "    <tr>\n",
       "      <th>9</th>\n",
       "      <td>Urban</td>\n",
       "      <td>5.632690e+18</td>\n",
       "    </tr>\n",
       "    <tr>\n",
       "      <th>10</th>\n",
       "      <td>A</td>\n",
       "      <td>3.123420e+16</td>\n",
       "    </tr>\n",
       "    <tr>\n",
       "      <th>11</th>\n",
       "      <td>B</td>\n",
       "      <td>2.901025e+16</td>\n",
       "    </tr>\n",
       "    <tr>\n",
       "      <th>12</th>\n",
       "      <td>C</td>\n",
       "      <td>1.840036e+16</td>\n",
       "    </tr>\n",
       "    <tr>\n",
       "      <th>13</th>\n",
       "      <td>D</td>\n",
       "      <td>9.200886e+14</td>\n",
       "    </tr>\n",
       "    <tr>\n",
       "      <th>14</th>\n",
       "      <td>Bachelor</td>\n",
       "      <td>-1.058462e+18</td>\n",
       "    </tr>\n",
       "    <tr>\n",
       "      <th>15</th>\n",
       "      <td>High School</td>\n",
       "      <td>-1.064198e+18</td>\n",
       "    </tr>\n",
       "    <tr>\n",
       "      <th>16</th>\n",
       "      <td>Others</td>\n",
       "      <td>-4.055244e+17</td>\n",
       "    </tr>\n",
       "  </tbody>\n",
       "</table>\n",
       "</div>"
      ],
      "text/plain": [
       "           feature          coef\n",
       "0           income -5.548418e+03\n",
       "1   marital_status -3.719069e+03\n",
       "2          vintage  8.022574e+01\n",
       "3     claim_amount  8.818168e+03\n",
       "4     num_policies  3.100867e+04\n",
       "5   type_of_policy -1.591951e+03\n",
       "6           Female -3.598727e+16\n",
       "7             Male -3.598727e+16\n",
       "8            Rural  5.632690e+18\n",
       "9            Urban  5.632690e+18\n",
       "10               A  3.123420e+16\n",
       "11               B  2.901025e+16\n",
       "12               C  1.840036e+16\n",
       "13               D  9.200886e+14\n",
       "14        Bachelor -1.058462e+18\n",
       "15     High School -1.064198e+18\n",
       "16          Others -4.055244e+17"
      ]
     },
     "execution_count": 181,
     "metadata": {},
     "output_type": "execute_result"
    }
   ],
   "source": [
    "# train a linear regression model on standardized data\n",
    "model_standard = LinearRegression()\n",
    "model_standard.fit(X_train_standard, y_train_standard)\n",
    "\n",
    "# find the coefficients of the model after standardization\n",
    "coef_scale_standard = pd.DataFrame(list(zip(X, model_standard.coef_)))\n",
    "coef_scale_standard.columns = ['feature', 'coef']\n",
    "coef_scale_standard"
   ]
  },
  {
   "cell_type": "code",
   "execution_count": 182,
   "metadata": {},
   "outputs": [
    {
     "name": "stdout",
     "output_type": "stream",
     "text": [
      "MSE in-sample: 7115257195.481537\n",
      "MSE out-sample: 6759581967.422377\n",
      "R2 in-sample: 0.15341168171579422\n",
      "R2 out-sample: 0.14669382919048446\n"
     ]
    }
   ],
   "source": [
    "# check the MSE and R2 of the model on standardized data\n",
    "y_pred = model_standard.predict(X_test_standard)\n",
    "mse_insample = mean_squared_error(y_train_standard, model_standard.predict(X_train_standard))\n",
    "mse_outsample = mean_squared_error(y_test_standard, y_pred)\n",
    "r2_insample = r2_score(y_train_standard, model_standard.predict(X_train_standard))\n",
    "r2_outsample = r2_score(y_test_standard, y_pred)\n",
    "\n",
    "print('MSE in-sample:', mse_insample)\n",
    "print('MSE out-sample:', mse_outsample)\n",
    "print('R2 in-sample:', r2_insample)\n",
    "print('R2 out-sample:', r2_outsample)"
   ]
  },
  {
   "cell_type": "code",
   "execution_count": 183,
   "metadata": {},
   "outputs": [
    {
     "data": {
      "image/png": "[encoded data removed]",
      "text/plain": [
       "<Figure size 640x480 with 1 Axes>"
      ]
     },
     "metadata": {},
     "output_type": "display_data"
    }
   ],
   "source": [
    "# fitted line plot\n",
    "plt.scatter(y_test_standard, y_pred)\n",
    "# plot the model coefficients\n",
    "plt.xlabel('True Values')\n",
    "plt.ylabel('Predictions')\n",
    "plt.show()"
   ]
  },
  {
   "cell_type": "markdown",
   "metadata": {},
   "source": [
    "#### Robust scaling"
   ]
  },
  {
   "cell_type": "code",
   "execution_count": 184,
   "metadata": {},
   "outputs": [
    {
     "data": {
      "text/plain": [
       "(array([[ 0.        ,  0.        ,  0.        , ...,  1.        ,\n",
       "         -1.        ,  0.        ],\n",
       "        [ 0.        , -1.        ,  1.        , ...,  0.        ,\n",
       "          0.        ,  0.        ],\n",
       "        [ 0.        ,  0.        ,  1.        , ...,  1.        ,\n",
       "         -1.        ,  0.        ],\n",
       "        ...,\n",
       "        [ 0.        , -1.        , -1.33333333, ...,  0.        ,\n",
       "          0.        ,  0.        ],\n",
       "        [-1.        ,  0.        , -1.33333333, ...,  0.        ,\n",
       "          0.        ,  0.        ],\n",
       "        [ 0.        ,  0.        ,  0.33333333, ...,  0.        ,\n",
       "          0.        ,  0.        ]]),\n",
       " 0        64308.0\n",
       " 1       515400.0\n",
       " 2        64212.0\n",
       " 3        97920.0\n",
       " 4        59736.0\n",
       "           ...   \n",
       " 9948     61116.0\n",
       " 9949    158784.0\n",
       " 9950     32940.0\n",
       " 9951     61200.0\n",
       " 9952     37692.0\n",
       " Name: cltv, Length: 9952, dtype: float64)"
      ]
     },
     "execution_count": 184,
     "metadata": {},
     "output_type": "execute_result"
    }
   ],
   "source": [
    "# robust scale the data\n",
    "from sklearn.preprocessing import RobustScaler\n",
    "scaler = RobustScaler()\n",
    "X_robust = scaler.fit_transform(df.iloc[:, 1:-1])\n",
    "\n",
    "# split the robust scaled data into train and test\n",
    "X_train_robust, X_test_robust, y_train_robust, y_test_robust = train_test_split(X_robust, y, test_size=0.2, random_state=40)\n",
    "X_robust, y"
   ]
  },
  {
   "cell_type": "code",
   "execution_count": 185,
   "metadata": {},
   "outputs": [
    {
     "data": {
      "text/html": [
       "<div>\n",
       "<style scoped>\n",
       "    .dataframe tbody tr th:only-of-type {\n",
       "        vertical-align: middle;\n",
       "    }\n",
       "\n",
       "    .dataframe tbody tr th {\n",
       "        vertical-align: top;\n",
       "    }\n",
       "\n",
       "    .dataframe thead th {\n",
       "        text-align: right;\n",
       "    }\n",
       "</style>\n",
       "<table border=\"1\" class=\"dataframe\">\n",
       "  <thead>\n",
       "    <tr style=\"text-align: right;\">\n",
       "      <th></th>\n",
       "      <th>feature</th>\n",
       "      <th>coef</th>\n",
       "    </tr>\n",
       "  </thead>\n",
       "  <tbody>\n",
       "    <tr>\n",
       "      <th>0</th>\n",
       "      <td>income</td>\n",
       "      <td>-3.257172e+03</td>\n",
       "    </tr>\n",
       "    <tr>\n",
       "      <th>1</th>\n",
       "      <td>marital_status</td>\n",
       "      <td>-5.438771e+03</td>\n",
       "    </tr>\n",
       "    <tr>\n",
       "      <th>2</th>\n",
       "      <td>vintage</td>\n",
       "      <td>-5.808460e+02</td>\n",
       "    </tr>\n",
       "    <tr>\n",
       "      <th>3</th>\n",
       "      <td>claim_amount</td>\n",
       "      <td>9.650085e+03</td>\n",
       "    </tr>\n",
       "    <tr>\n",
       "      <th>4</th>\n",
       "      <td>num_policies</td>\n",
       "      <td>6.809062e+04</td>\n",
       "    </tr>\n",
       "    <tr>\n",
       "      <th>5</th>\n",
       "      <td>type_of_policy</td>\n",
       "      <td>-5.568723e+02</td>\n",
       "    </tr>\n",
       "    <tr>\n",
       "      <th>6</th>\n",
       "      <td>Female</td>\n",
       "      <td>1.009213e+17</td>\n",
       "    </tr>\n",
       "    <tr>\n",
       "      <th>7</th>\n",
       "      <td>Male</td>\n",
       "      <td>1.009213e+17</td>\n",
       "    </tr>\n",
       "    <tr>\n",
       "      <th>8</th>\n",
       "      <td>Rural</td>\n",
       "      <td>-7.438247e+16</td>\n",
       "    </tr>\n",
       "    <tr>\n",
       "      <th>9</th>\n",
       "      <td>Urban</td>\n",
       "      <td>-7.438247e+16</td>\n",
       "    </tr>\n",
       "    <tr>\n",
       "      <th>10</th>\n",
       "      <td>A</td>\n",
       "      <td>3.769020e+17</td>\n",
       "    </tr>\n",
       "    <tr>\n",
       "      <th>11</th>\n",
       "      <td>B</td>\n",
       "      <td>3.769020e+17</td>\n",
       "    </tr>\n",
       "    <tr>\n",
       "      <th>12</th>\n",
       "      <td>C</td>\n",
       "      <td>3.769020e+17</td>\n",
       "    </tr>\n",
       "    <tr>\n",
       "      <th>13</th>\n",
       "      <td>D</td>\n",
       "      <td>3.769020e+17</td>\n",
       "    </tr>\n",
       "    <tr>\n",
       "      <th>14</th>\n",
       "      <td>Bachelor</td>\n",
       "      <td>-1.392642e+18</td>\n",
       "    </tr>\n",
       "    <tr>\n",
       "      <th>15</th>\n",
       "      <td>High School</td>\n",
       "      <td>-1.392642e+18</td>\n",
       "    </tr>\n",
       "    <tr>\n",
       "      <th>16</th>\n",
       "      <td>Others</td>\n",
       "      <td>-1.392642e+18</td>\n",
       "    </tr>\n",
       "  </tbody>\n",
       "</table>\n",
       "</div>"
      ],
      "text/plain": [
       "           feature          coef\n",
       "0           income -3.257172e+03\n",
       "1   marital_status -5.438771e+03\n",
       "2          vintage -5.808460e+02\n",
       "3     claim_amount  9.650085e+03\n",
       "4     num_policies  6.809062e+04\n",
       "5   type_of_policy -5.568723e+02\n",
       "6           Female  1.009213e+17\n",
       "7             Male  1.009213e+17\n",
       "8            Rural -7.438247e+16\n",
       "9            Urban -7.438247e+16\n",
       "10               A  3.769020e+17\n",
       "11               B  3.769020e+17\n",
       "12               C  3.769020e+17\n",
       "13               D  3.769020e+17\n",
       "14        Bachelor -1.392642e+18\n",
       "15     High School -1.392642e+18\n",
       "16          Others -1.392642e+18"
      ]
     },
     "execution_count": 185,
     "metadata": {},
     "output_type": "execute_result"
    }
   ],
   "source": [
    "# train a linear regression model on robust scaled data\n",
    "model_robust = LinearRegression()\n",
    "model_robust.fit(X_train_robust, y_train_robust)\n",
    "\n",
    "# find the coefficients of the model after robust scaling\n",
    "coef_scale_robust = pd.DataFrame(list(zip(X, model_robust.coef_)))\n",
    "coef_scale_robust.columns = ['feature', 'coef']\n",
    "coef_scale_robust"
   ]
  },
  {
   "cell_type": "code",
   "execution_count": 186,
   "metadata": {},
   "outputs": [
    {
     "name": "stdout",
     "output_type": "stream",
     "text": [
      "MSE in-sample: 7097157739.268666\n",
      "MSE out-sample: 6726267950.056809\n",
      "R2 in-sample: 0.15556519321596085\n",
      "R2 out-sample: 0.1508992751381033\n"
     ]
    }
   ],
   "source": [
    "# check the MSE and R2 of the model on robust scaled data\n",
    "y_pred = model_robust.predict(X_test_robust)\n",
    "mse_insample = mean_squared_error(y_train_robust, model_robust.predict(X_train_robust))\n",
    "mse_outsample = mean_squared_error(y_test_robust, y_pred)\n",
    "r2_insample = r2_score(y_train_robust, model_robust.predict(X_train_robust))\n",
    "r2_outsample = r2_score(y_test_robust, y_pred)\n",
    "\n",
    "print('MSE in-sample:', mse_insample)\n",
    "print('MSE out-sample:', mse_outsample)\n",
    "print('R2 in-sample:', r2_insample)\n",
    "print('R2 out-sample:', r2_outsample)"
   ]
  },
  {
   "cell_type": "code",
   "execution_count": 187,
   "metadata": {},
   "outputs": [
    {
     "data": {
      "image/png": "[encoded data removed]",
      "text/plain": [
       "<Figure size 640x480 with 1 Axes>"
      ]
     },
     "metadata": {},
     "output_type": "display_data"
    }
   ],
   "source": [
    "# fitted line plot\n",
    "plt.scatter(y_test_robust, y_pred)\n",
    "# plot the model coefficients\n",
    "plt.xlabel('True Values')\n",
    "plt.ylabel('Predictions')\n",
    "plt.show()"
   ]
  }
 ],
 "metadata": {
  "kernelspec": {
   "display_name": "Python 3",
   "language": "python",
   "name": "python3"
  },
  "language_info": {
   "codemirror_mode": {
    "name": "ipython",
    "version": 3
   },
   "file_extension": ".py",
   "mimetype": "text/x-python",
   "name": "python",
   "nbconvert_exporter": "python",
   "pygments_lexer": "ipython3",
   "version": "3.11.8"
  }
 },
 "nbformat": 4,
 "nbformat_minor": 2
}
