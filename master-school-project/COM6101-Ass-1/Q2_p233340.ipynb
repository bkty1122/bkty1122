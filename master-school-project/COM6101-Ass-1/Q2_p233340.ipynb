{
 "cells": [
  {
   "cell_type": "markdown",
   "metadata": {},
   "source": [
    "## Q2: Conduct a customer segmentation for the wholesale distributor dataset."
   ]
  },
  {
   "cell_type": "markdown",
   "metadata": {},
   "source": [
    "* Student ID: p233340 \n",
    "* Name: Kwok Tsz Yi\n",
    "* Course: COM6101 "
   ]
  },
  {
   "cell_type": "code",
   "execution_count": 26,
   "metadata": {},
   "outputs": [
    {
     "data": {
      "text/html": [
       "<div>\n",
       "<style scoped>\n",
       "    .dataframe tbody tr th:only-of-type {\n",
       "        vertical-align: middle;\n",
       "    }\n",
       "\n",
       "    .dataframe tbody tr th {\n",
       "        vertical-align: top;\n",
       "    }\n",
       "\n",
       "    .dataframe thead th {\n",
       "        text-align: right;\n",
       "    }\n",
       "</style>\n",
       "<table border=\"1\" class=\"dataframe\">\n",
       "  <thead>\n",
       "    <tr style=\"text-align: right;\">\n",
       "      <th></th>\n",
       "      <th>CustID</th>\n",
       "      <th>Channel</th>\n",
       "      <th>Region</th>\n",
       "      <th>Fresh</th>\n",
       "      <th>Milk</th>\n",
       "      <th>Grocery</th>\n",
       "      <th>Frozen</th>\n",
       "      <th>Detergents_Paper</th>\n",
       "      <th>Delicatessen</th>\n",
       "    </tr>\n",
       "  </thead>\n",
       "  <tbody>\n",
       "    <tr>\n",
       "      <th>0</th>\n",
       "      <td>1</td>\n",
       "      <td>online</td>\n",
       "      <td>Shenzhen</td>\n",
       "      <td>12669</td>\n",
       "      <td>9656</td>\n",
       "      <td>7561</td>\n",
       "      <td>214</td>\n",
       "      <td>2674.0</td>\n",
       "      <td>1338</td>\n",
       "    </tr>\n",
       "    <tr>\n",
       "      <th>1</th>\n",
       "      <td>2</td>\n",
       "      <td>online</td>\n",
       "      <td>Shenzhen</td>\n",
       "      <td>7057</td>\n",
       "      <td>9810</td>\n",
       "      <td>9568</td>\n",
       "      <td>1762</td>\n",
       "      <td>3293.0</td>\n",
       "      <td>1776</td>\n",
       "    </tr>\n",
       "    <tr>\n",
       "      <th>2</th>\n",
       "      <td>3</td>\n",
       "      <td>online</td>\n",
       "      <td>Shenzhen</td>\n",
       "      <td>6353</td>\n",
       "      <td>8808</td>\n",
       "      <td>7684</td>\n",
       "      <td>2405</td>\n",
       "      <td>3516.0</td>\n",
       "      <td>7844</td>\n",
       "    </tr>\n",
       "    <tr>\n",
       "      <th>3</th>\n",
       "      <td>4</td>\n",
       "      <td>offline</td>\n",
       "      <td>Shenzhen</td>\n",
       "      <td>13265</td>\n",
       "      <td>1196</td>\n",
       "      <td>4221</td>\n",
       "      <td>6404</td>\n",
       "      <td>507.0</td>\n",
       "      <td>1788</td>\n",
       "    </tr>\n",
       "    <tr>\n",
       "      <th>4</th>\n",
       "      <td>5</td>\n",
       "      <td>online</td>\n",
       "      <td>Shenzhen</td>\n",
       "      <td>22615</td>\n",
       "      <td>5410</td>\n",
       "      <td>7198</td>\n",
       "      <td>3915</td>\n",
       "      <td>1777.0</td>\n",
       "      <td>5185</td>\n",
       "    </tr>\n",
       "  </tbody>\n",
       "</table>\n",
       "</div>"
      ],
      "text/plain": [
       "   CustID  Channel    Region  Fresh  Milk  Grocery  Frozen  Detergents_Paper  \\\n",
       "0       1   online  Shenzhen  12669  9656     7561     214            2674.0   \n",
       "1       2   online  Shenzhen   7057  9810     9568    1762            3293.0   \n",
       "2       3   online  Shenzhen   6353  8808     7684    2405            3516.0   \n",
       "3       4  offline  Shenzhen  13265  1196     4221    6404             507.0   \n",
       "4       5   online  Shenzhen  22615  5410     7198    3915            1777.0   \n",
       "\n",
       "   Delicatessen  \n",
       "0          1338  \n",
       "1          1776  \n",
       "2          7844  \n",
       "3          1788  \n",
       "4          5185  "
      ]
     },
     "execution_count": 26,
     "metadata": {},
     "output_type": "execute_result"
    }
   ],
   "source": [
    "# import dataset\n",
    "import pandas as pd\n",
    "df = pd.read_csv('Q2.csv')\n",
    "df.head()"
   ]
  },
  {
   "cell_type": "markdown",
   "metadata": {},
   "source": [
    "### Exploratory Data Analysis"
   ]
  },
  {
   "cell_type": "markdown",
   "metadata": {},
   "source": [
    "Size of the dataset:"
   ]
  },
  {
   "cell_type": "code",
   "execution_count": 27,
   "metadata": {},
   "outputs": [
    {
     "data": {
      "text/plain": [
       "(440, 9)"
      ]
     },
     "execution_count": 27,
     "metadata": {},
     "output_type": "execute_result"
    }
   ],
   "source": [
    "df.shape"
   ]
  },
  {
   "cell_type": "markdown",
   "metadata": {},
   "source": [
    "Data types of the dataset:"
   ]
  },
  {
   "cell_type": "code",
   "execution_count": 28,
   "metadata": {},
   "outputs": [
    {
     "data": {
      "text/plain": [
       "CustID                int64\n",
       "Channel              object\n",
       "Region               object\n",
       "Fresh                object\n",
       "Milk                  int64\n",
       "Grocery               int64\n",
       "Frozen                int64\n",
       "Detergents_Paper    float64\n",
       "Delicatessen          int64\n",
       "dtype: object"
      ]
     },
     "execution_count": 28,
     "metadata": {},
     "output_type": "execute_result"
    }
   ],
   "source": [
    "df.dtypes"
   ]
  },
  {
   "cell_type": "markdown",
   "metadata": {},
   "source": [
    "Missing values in the dataset:"
   ]
  },
  {
   "cell_type": "code",
   "execution_count": 29,
   "metadata": {},
   "outputs": [
    {
     "data": {
      "text/plain": [
       "CustID              0\n",
       "Channel             0\n",
       "Region              0\n",
       "Fresh               0\n",
       "Milk                0\n",
       "Grocery             0\n",
       "Frozen              0\n",
       "Detergents_Paper    1\n",
       "Delicatessen        0\n",
       "dtype: int64"
      ]
     },
     "execution_count": 29,
     "metadata": {},
     "output_type": "execute_result"
    }
   ],
   "source": [
    "# find rows with missing values\n",
    "df.isnull().sum()"
   ]
  },
  {
   "cell_type": "markdown",
   "metadata": {},
   "source": [
    "Handle the only missing value in the dataset: fill in the Detergents_Paper NaN with median value."
   ]
  },
  {
   "cell_type": "code",
   "execution_count": 31,
   "metadata": {},
   "outputs": [
    {
     "data": {
      "text/plain": [
       "CustID              0\n",
       "Channel             0\n",
       "Region              0\n",
       "Fresh               0\n",
       "Milk                0\n",
       "Grocery             0\n",
       "Frozen              0\n",
       "Detergents_Paper    0\n",
       "Delicatessen        0\n",
       "dtype: int64"
      ]
     },
     "execution_count": 31,
     "metadata": {},
     "output_type": "execute_result"
    }
   ],
   "source": [
    "median_detergents_paper = df['Detergents_Paper'].median()\n",
    "df['Detergents_Paper'] = df['Detergents_Paper'].fillna(median_detergents_paper)\n",
    "df.isnull().sum() # check if the missing values are filled"
   ]
  },
  {
   "cell_type": "markdown",
   "metadata": {},
   "source": [
    "Find the correlation between the features:"
   ]
  },
  {
   "cell_type": "code",
   "execution_count": 43,
   "metadata": {},
   "outputs": [
    {
     "data": {
      "image/png": "[encoded data removed]",
      "text/plain": [
       "<Figure size 1000x600 with 2 Axes>"
      ]
     },
     "metadata": {},
     "output_type": "display_data"
    }
   ],
   "source": [
    "# generate a heatmap to check the correlation between the features\n",
    "import seaborn as sns\n",
    "import matplotlib.pyplot as plt\n",
    "plt.figure(figsize=(10, 6))\n",
    "sns.heatmap(df.corr(numeric_only=True), annot=True, cmap='coolwarm')\n",
    "plt.show()"
   ]
  },
  {
   "cell_type": "markdown",
   "metadata": {},
   "source": [
    "As per the heatmap, the highest correlation are between Detergents_Paper and Milk, Grocery and Detegents_Paper, the correlation of them is 1, which means they have a linear positive relationship."
   ]
  },
  {
   "cell_type": "code",
   "execution_count": 41,
   "metadata": {},
   "outputs": [
    {
     "data": {
      "text/html": [
       "<div>\n",
       "<style scoped>\n",
       "    .dataframe tbody tr th:only-of-type {\n",
       "        vertical-align: middle;\n",
       "    }\n",
       "\n",
       "    .dataframe tbody tr th {\n",
       "        vertical-align: top;\n",
       "    }\n",
       "\n",
       "    .dataframe thead th {\n",
       "        text-align: right;\n",
       "    }\n",
       "</style>\n",
       "<table border=\"1\" class=\"dataframe\">\n",
       "  <thead>\n",
       "    <tr style=\"text-align: right;\">\n",
       "      <th></th>\n",
       "      <th>CustID</th>\n",
       "      <th>Milk</th>\n",
       "      <th>Grocery</th>\n",
       "      <th>Frozen</th>\n",
       "      <th>Detergents_Paper</th>\n",
       "      <th>Delicatessen</th>\n",
       "    </tr>\n",
       "    <tr>\n",
       "      <th>Region</th>\n",
       "      <th></th>\n",
       "      <th></th>\n",
       "      <th></th>\n",
       "      <th></th>\n",
       "      <th></th>\n",
       "      <th></th>\n",
       "    </tr>\n",
       "  </thead>\n",
       "  <tbody>\n",
       "    <tr>\n",
       "      <th>Beijing</th>\n",
       "      <td>317.000000</td>\n",
       "      <td>5088.170213</td>\n",
       "      <td>9218.595745</td>\n",
       "      <td>4045.361702</td>\n",
       "      <td>3687.468085</td>\n",
       "      <td>1159.702128</td>\n",
       "    </tr>\n",
       "    <tr>\n",
       "      <th>HK</th>\n",
       "      <td>235.000000</td>\n",
       "      <td>5486.415584</td>\n",
       "      <td>7403.077922</td>\n",
       "      <td>3000.337662</td>\n",
       "      <td>2651.116883</td>\n",
       "      <td>1354.896104</td>\n",
       "    </tr>\n",
       "    <tr>\n",
       "      <th>Shenzhen</th>\n",
       "      <td>202.613924</td>\n",
       "      <td>35021.085443</td>\n",
       "      <td>156932.091772</td>\n",
       "      <td>5286.132911</td>\n",
       "      <td>13387.240506</td>\n",
       "      <td>1968.667722</td>\n",
       "    </tr>\n",
       "  </tbody>\n",
       "</table>\n",
       "</div>"
      ],
      "text/plain": [
       "              CustID          Milk        Grocery       Frozen  \\\n",
       "Region                                                           \n",
       "Beijing   317.000000   5088.170213    9218.595745  4045.361702   \n",
       "HK        235.000000   5486.415584    7403.077922  3000.337662   \n",
       "Shenzhen  202.613924  35021.085443  156932.091772  5286.132911   \n",
       "\n",
       "          Detergents_Paper  Delicatessen  \n",
       "Region                                    \n",
       "Beijing        3687.468085   1159.702128  \n",
       "HK             2651.116883   1354.896104  \n",
       "Shenzhen      13387.240506   1968.667722  "
      ]
     },
     "execution_count": 41,
     "metadata": {},
     "output_type": "execute_result"
    }
   ],
   "source": [
    "# generate a table group by region and find the mean of each product\n",
    "df.groupby('Region').mean(numeric_only=True)"
   ]
  },
  {
   "cell_type": "code",
   "execution_count": 44,
   "metadata": {},
   "outputs": [
    {
     "data": {
      "text/html": [
       "<div>\n",
       "<style scoped>\n",
       "    .dataframe tbody tr th:only-of-type {\n",
       "        vertical-align: middle;\n",
       "    }\n",
       "\n",
       "    .dataframe tbody tr th {\n",
       "        vertical-align: top;\n",
       "    }\n",
       "\n",
       "    .dataframe thead th {\n",
       "        text-align: right;\n",
       "    }\n",
       "</style>\n",
       "<table border=\"1\" class=\"dataframe\">\n",
       "  <thead>\n",
       "    <tr style=\"text-align: right;\">\n",
       "      <th></th>\n",
       "      <th></th>\n",
       "      <th>CustID</th>\n",
       "      <th>Milk</th>\n",
       "      <th>Grocery</th>\n",
       "      <th>Frozen</th>\n",
       "      <th>Detergents_Paper</th>\n",
       "      <th>Delicatessen</th>\n",
       "    </tr>\n",
       "    <tr>\n",
       "      <th>Region</th>\n",
       "      <th>Channel</th>\n",
       "      <th></th>\n",
       "      <th></th>\n",
       "      <th></th>\n",
       "      <th></th>\n",
       "      <th></th>\n",
       "      <th></th>\n",
       "    </tr>\n",
       "  </thead>\n",
       "  <tbody>\n",
       "    <tr>\n",
       "      <th rowspan=\"2\" valign=\"top\">Beijing</th>\n",
       "      <th>offline</th>\n",
       "      <td>321.000000</td>\n",
       "      <td>2304.250000</td>\n",
       "      <td>4395.500000</td>\n",
       "      <td>5745.035714</td>\n",
       "      <td>482.714286</td>\n",
       "      <td>1105.892857</td>\n",
       "    </tr>\n",
       "    <tr>\n",
       "      <th>online</th>\n",
       "      <td>311.105263</td>\n",
       "      <td>9190.789474</td>\n",
       "      <td>16326.315789</td>\n",
       "      <td>1540.578947</td>\n",
       "      <td>8410.263158</td>\n",
       "      <td>1239.000000</td>\n",
       "    </tr>\n",
       "    <tr>\n",
       "      <th rowspan=\"2\" valign=\"top\">HK</th>\n",
       "      <th>offline</th>\n",
       "      <td>237.728814</td>\n",
       "      <td>3870.203390</td>\n",
       "      <td>4026.135593</td>\n",
       "      <td>3127.322034</td>\n",
       "      <td>950.525424</td>\n",
       "      <td>1197.152542</td>\n",
       "    </tr>\n",
       "    <tr>\n",
       "      <th>online</th>\n",
       "      <td>226.055556</td>\n",
       "      <td>10784.000000</td>\n",
       "      <td>18471.944444</td>\n",
       "      <td>2584.111111</td>\n",
       "      <td>8225.277778</td>\n",
       "      <td>1871.944444</td>\n",
       "    </tr>\n",
       "    <tr>\n",
       "      <th rowspan=\"2\" valign=\"top\">Shenzhen</th>\n",
       "      <th>offline</th>\n",
       "      <td>227.582938</td>\n",
       "      <td>46984.156398</td>\n",
       "      <td>227087.161137</td>\n",
       "      <td>7163.658768</td>\n",
       "      <td>16615.867299</td>\n",
       "      <td>2039.559242</td>\n",
       "    </tr>\n",
       "    <tr>\n",
       "      <th>online</th>\n",
       "      <td>152.438095</td>\n",
       "      <td>10981.009524</td>\n",
       "      <td>15953.809524</td>\n",
       "      <td>1513.200000</td>\n",
       "      <td>6899.238095</td>\n",
       "      <td>1826.209524</td>\n",
       "    </tr>\n",
       "  </tbody>\n",
       "</table>\n",
       "</div>"
      ],
      "text/plain": [
       "                      CustID          Milk        Grocery       Frozen  \\\n",
       "Region   Channel                                                         \n",
       "Beijing  offline  321.000000   2304.250000    4395.500000  5745.035714   \n",
       "         online   311.105263   9190.789474   16326.315789  1540.578947   \n",
       "HK       offline  237.728814   3870.203390    4026.135593  3127.322034   \n",
       "         online   226.055556  10784.000000   18471.944444  2584.111111   \n",
       "Shenzhen offline  227.582938  46984.156398  227087.161137  7163.658768   \n",
       "         online   152.438095  10981.009524   15953.809524  1513.200000   \n",
       "\n",
       "                  Detergents_Paper  Delicatessen  \n",
       "Region   Channel                                  \n",
       "Beijing  offline        482.714286   1105.892857  \n",
       "         online        8410.263158   1239.000000  \n",
       "HK       offline        950.525424   1197.152542  \n",
       "         online        8225.277778   1871.944444  \n",
       "Shenzhen offline      16615.867299   2039.559242  \n",
       "         online        6899.238095   1826.209524  "
      ]
     },
     "execution_count": 44,
     "metadata": {},
     "output_type": "execute_result"
    }
   ],
   "source": [
    "# generate a table, group by region, sub-group by channel, and find the mean of each product\n",
    "df.groupby(['Region', 'Channel']).mean(numeric_only=True)"
   ]
  },
  {
   "cell_type": "code",
   "execution_count": 45,
   "metadata": {},
   "outputs": [
    {
     "data": {
      "text/html": [
       "<div>\n",
       "<style scoped>\n",
       "    .dataframe tbody tr th:only-of-type {\n",
       "        vertical-align: middle;\n",
       "    }\n",
       "\n",
       "    .dataframe tbody tr th {\n",
       "        vertical-align: top;\n",
       "    }\n",
       "\n",
       "    .dataframe thead th {\n",
       "        text-align: right;\n",
       "    }\n",
       "</style>\n",
       "<table border=\"1\" class=\"dataframe\">\n",
       "  <thead>\n",
       "    <tr style=\"text-align: right;\">\n",
       "      <th></th>\n",
       "      <th></th>\n",
       "      <th>CustID</th>\n",
       "      <th>Milk</th>\n",
       "      <th>Grocery</th>\n",
       "      <th>Frozen</th>\n",
       "      <th>Detergents_Paper</th>\n",
       "      <th>Delicatessen</th>\n",
       "    </tr>\n",
       "    <tr>\n",
       "      <th>Channel</th>\n",
       "      <th>Region</th>\n",
       "      <th></th>\n",
       "      <th></th>\n",
       "      <th></th>\n",
       "      <th></th>\n",
       "      <th></th>\n",
       "      <th></th>\n",
       "    </tr>\n",
       "  </thead>\n",
       "  <tbody>\n",
       "    <tr>\n",
       "      <th rowspan=\"3\" valign=\"top\">offline</th>\n",
       "      <th>Beijing</th>\n",
       "      <td>321.000000</td>\n",
       "      <td>2304.250000</td>\n",
       "      <td>4395.500000</td>\n",
       "      <td>5745.035714</td>\n",
       "      <td>482.714286</td>\n",
       "      <td>1105.892857</td>\n",
       "    </tr>\n",
       "    <tr>\n",
       "      <th>HK</th>\n",
       "      <td>237.728814</td>\n",
       "      <td>3870.203390</td>\n",
       "      <td>4026.135593</td>\n",
       "      <td>3127.322034</td>\n",
       "      <td>950.525424</td>\n",
       "      <td>1197.152542</td>\n",
       "    </tr>\n",
       "    <tr>\n",
       "      <th>Shenzhen</th>\n",
       "      <td>227.582938</td>\n",
       "      <td>46984.156398</td>\n",
       "      <td>227087.161137</td>\n",
       "      <td>7163.658768</td>\n",
       "      <td>16615.867299</td>\n",
       "      <td>2039.559242</td>\n",
       "    </tr>\n",
       "    <tr>\n",
       "      <th rowspan=\"3\" valign=\"top\">online</th>\n",
       "      <th>Beijing</th>\n",
       "      <td>311.105263</td>\n",
       "      <td>9190.789474</td>\n",
       "      <td>16326.315789</td>\n",
       "      <td>1540.578947</td>\n",
       "      <td>8410.263158</td>\n",
       "      <td>1239.000000</td>\n",
       "    </tr>\n",
       "    <tr>\n",
       "      <th>HK</th>\n",
       "      <td>226.055556</td>\n",
       "      <td>10784.000000</td>\n",
       "      <td>18471.944444</td>\n",
       "      <td>2584.111111</td>\n",
       "      <td>8225.277778</td>\n",
       "      <td>1871.944444</td>\n",
       "    </tr>\n",
       "    <tr>\n",
       "      <th>Shenzhen</th>\n",
       "      <td>152.438095</td>\n",
       "      <td>10981.009524</td>\n",
       "      <td>15953.809524</td>\n",
       "      <td>1513.200000</td>\n",
       "      <td>6899.238095</td>\n",
       "      <td>1826.209524</td>\n",
       "    </tr>\n",
       "  </tbody>\n",
       "</table>\n",
       "</div>"
      ],
      "text/plain": [
       "                      CustID          Milk        Grocery       Frozen  \\\n",
       "Channel Region                                                           \n",
       "offline Beijing   321.000000   2304.250000    4395.500000  5745.035714   \n",
       "        HK        237.728814   3870.203390    4026.135593  3127.322034   \n",
       "        Shenzhen  227.582938  46984.156398  227087.161137  7163.658768   \n",
       "online  Beijing   311.105263   9190.789474   16326.315789  1540.578947   \n",
       "        HK        226.055556  10784.000000   18471.944444  2584.111111   \n",
       "        Shenzhen  152.438095  10981.009524   15953.809524  1513.200000   \n",
       "\n",
       "                  Detergents_Paper  Delicatessen  \n",
       "Channel Region                                    \n",
       "offline Beijing         482.714286   1105.892857  \n",
       "        HK              950.525424   1197.152542  \n",
       "        Shenzhen      16615.867299   2039.559242  \n",
       "online  Beijing        8410.263158   1239.000000  \n",
       "        HK             8225.277778   1871.944444  \n",
       "        Shenzhen       6899.238095   1826.209524  "
      ]
     },
     "execution_count": 45,
     "metadata": {},
     "output_type": "execute_result"
    }
   ],
   "source": [
    "# generate a table, group by channel, sub-group by region, and find the mean of each product\n",
    "df.groupby(['Channel', 'Region']).mean(numeric_only=True)\n",
    "# generate a pie chart to show the proportion of each channel\n",
    "df['Channel'].value_counts().plot.pie(autopct='%1.1f%%')"
   ]
  }
 ],
 "metadata": {
  "kernelspec": {
   "display_name": "Python 3",
   "language": "python",
   "name": "python3"
  },
  "language_info": {
   "codemirror_mode": {
    "name": "ipython",
    "version": 3
   },
   "file_extension": ".py",
   "mimetype": "text/x-python",
   "name": "python",
   "nbconvert_exporter": "python",
   "pygments_lexer": "ipython3",
   "version": "3.11.8"
  }
 },
 "nbformat": 4,
 "nbformat_minor": 2
}
