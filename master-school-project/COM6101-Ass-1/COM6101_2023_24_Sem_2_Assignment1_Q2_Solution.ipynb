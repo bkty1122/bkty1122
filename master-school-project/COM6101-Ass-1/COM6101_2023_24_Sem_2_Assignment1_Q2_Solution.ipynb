{
 "cells": [
  {
   "cell_type": "markdown",
   "id": "c642d0ac",
   "metadata": {
    "id": "c642d0ac"
   },
   "source": [
    "**Import libraries**"
   ]
  },
  {
   "cell_type": "code",
   "execution_count": 85,
   "id": "5a20ef41",
   "metadata": {
    "id": "5a20ef41"
   },
   "outputs": [],
   "source": [
    "import numpy as np\n",
    "import pandas as pd\n",
    "import seaborn as sns\n",
    "%matplotlib inline\n",
    "import matplotlib.pyplot as plt"
   ]
  },
  {
   "cell_type": "markdown",
   "id": "ac975a53",
   "metadata": {
    "id": "ac975a53"
   },
   "source": [
    "**Load dataset**"
   ]
  },
  {
   "cell_type": "code",
   "execution_count": 86,
   "id": "b67e812d",
   "metadata": {
    "id": "b67e812d"
   },
   "outputs": [],
   "source": [
    "df = pd.read_csv('/content/Q2.csv')"
   ]
  },
  {
   "cell_type": "code",
   "execution_count": 87,
   "id": "895ee858",
   "metadata": {
    "colab": {
     "base_uri": "https://localhost:8080/"
    },
    "id": "895ee858",
    "outputId": "a1e0a635-3e5f-4a07-f9a8-5315a680af5c"
   },
   "outputs": [
    {
     "name": "stdout",
     "output_type": "stream",
     "text": [
      "<class 'pandas.core.frame.DataFrame'>\n",
      "RangeIndex: 440 entries, 0 to 439\n",
      "Data columns (total 9 columns):\n",
      " #   Column            Non-Null Count  Dtype  \n",
      "---  ------            --------------  -----  \n",
      " 0   CustID            440 non-null    int64  \n",
      " 1   Channel           440 non-null    object \n",
      " 2   Region            440 non-null    object \n",
      " 3   Fresh             440 non-null    object \n",
      " 4   Milk              440 non-null    int64  \n",
      " 5   Grocery           440 non-null    int64  \n",
      " 6   Frozen            440 non-null    int64  \n",
      " 7   Detergents_Paper  439 non-null    float64\n",
      " 8   Delicatessen      440 non-null    int64  \n",
      "dtypes: float64(1), int64(5), object(3)\n",
      "memory usage: 31.1+ KB\n"
     ]
    }
   ],
   "source": [
    "df.info()"
   ]
  },
  {
   "cell_type": "markdown",
   "id": "b9f6520d",
   "metadata": {
    "id": "b9f6520d"
   },
   "source": [
    "**Data cleaning**"
   ]
  },
  {
   "cell_type": "code",
   "execution_count": 88,
   "id": "90907673",
   "metadata": {
    "colab": {
     "base_uri": "https://localhost:8080/"
    },
    "id": "90907673",
    "outputId": "d586049e-83f3-46de-bf5a-4dd4983df3d2"
   },
   "outputs": [
    {
     "data": {
      "text/plain": [
       "(1, 9)"
      ]
     },
     "execution_count": 88,
     "metadata": {},
     "output_type": "execute_result"
    }
   ],
   "source": [
    "# Remove data records with negative milk quantity\n",
    "df.loc[df['Milk'] < 0].shape"
   ]
  },
  {
   "cell_type": "code",
   "execution_count": 89,
   "id": "63f1bba6",
   "metadata": {
    "id": "63f1bba6"
   },
   "outputs": [],
   "source": [
    "df = df.loc[df['Milk'] >= 0]"
   ]
  },
  {
   "cell_type": "code",
   "execution_count": 90,
   "id": "a559dbac",
   "metadata": {
    "colab": {
     "base_uri": "https://localhost:8080/"
    },
    "id": "a559dbac",
    "outputId": "ac8cc0a1-52b6-4ce1-c1e0-3e4abdcd6776"
   },
   "outputs": [
    {
     "data": {
      "text/plain": [
       "(439, 9)"
      ]
     },
     "execution_count": 90,
     "metadata": {},
     "output_type": "execute_result"
    }
   ],
   "source": [
    "df.shape"
   ]
  },
  {
   "cell_type": "code",
   "execution_count": 91,
   "id": "70c8c47e",
   "metadata": {
    "colab": {
     "base_uri": "https://localhost:8080/"
    },
    "id": "70c8c47e",
    "outputId": "de75d349-5682-42ac-d92d-8b6f19fe3595"
   },
   "outputs": [
    {
     "data": {
      "text/plain": [
       "(438, 9)"
      ]
     },
     "execution_count": 91,
     "metadata": {},
     "output_type": "execute_result"
    }
   ],
   "source": [
    "# Remove a very few records with missing values\n",
    "df = df.dropna()\n",
    "df.shape"
   ]
  },
  {
   "cell_type": "code",
   "execution_count": 92,
   "id": "EhRFo9eUvYtE",
   "metadata": {
    "id": "EhRFo9eUvYtE"
   },
   "outputs": [],
   "source": [
    "# Remove records that contains alphabets in the Fresh column\n",
    "df = df[~df['Fresh'].str.contains(\"[a-zA-Z]\").fillna(False)]"
   ]
  },
  {
   "cell_type": "code",
   "execution_count": 93,
   "id": "acfrjmXrzuMI",
   "metadata": {
    "id": "acfrjmXrzuMI"
   },
   "outputs": [],
   "source": [
    "# Change the type of \"Fresh\" from categorical to numerical (integer)\n",
    "df['Fresh'] = df['Fresh'].astype(str).astype(int)"
   ]
  },
  {
   "cell_type": "code",
   "execution_count": 94,
   "id": "IYiUQ6c2v6JS",
   "metadata": {
    "colab": {
     "base_uri": "https://localhost:8080/"
    },
    "id": "IYiUQ6c2v6JS",
    "outputId": "d14b051f-4f4c-48cc-a1d1-9778ba14f9bf"
   },
   "outputs": [
    {
     "name": "stdout",
     "output_type": "stream",
     "text": [
      "<class 'pandas.core.frame.DataFrame'>\n",
      "Int64Index: 437 entries, 0 to 439\n",
      "Data columns (total 9 columns):\n",
      " #   Column            Non-Null Count  Dtype  \n",
      "---  ------            --------------  -----  \n",
      " 0   CustID            437 non-null    int64  \n",
      " 1   Channel           437 non-null    object \n",
      " 2   Region            437 non-null    object \n",
      " 3   Fresh             437 non-null    int64  \n",
      " 4   Milk              437 non-null    int64  \n",
      " 5   Grocery           437 non-null    int64  \n",
      " 6   Frozen            437 non-null    int64  \n",
      " 7   Detergents_Paper  437 non-null    float64\n",
      " 8   Delicatessen      437 non-null    int64  \n",
      "dtypes: float64(1), int64(6), object(2)\n",
      "memory usage: 34.1+ KB\n"
     ]
    }
   ],
   "source": [
    "df.info()"
   ]
  },
  {
   "cell_type": "code",
   "execution_count": 95,
   "id": "Et8XfpcTyctF",
   "metadata": {
    "colab": {
     "base_uri": "https://localhost:8080/",
     "height": 323
    },
    "id": "Et8XfpcTyctF",
    "outputId": "a421b18d-a4c8-49d8-efbc-780560888e08"
   },
   "outputs": [
    {
     "data": {
      "text/plain": [
       "<Axes: >"
      ]
     },
     "execution_count": 95,
     "metadata": {},
     "output_type": "execute_result"
    },
    {
     "data": {
      "image/png": "[encoded data removed]",
      "text/plain": [
       "<Figure size 600x300 with 1 Axes>"
      ]
     },
     "metadata": {},
     "output_type": "display_data"
    }
   ],
   "source": [
    "sns.boxplot(df['Fresh'])"
   ]
  },
  {
   "cell_type": "code",
   "execution_count": 96,
   "id": "aFnMWuxpzFkV",
   "metadata": {
    "id": "aFnMWuxpzFkV"
   },
   "outputs": [],
   "source": [
    "# Remove outlier using the interquartile range approach\n",
    "percentile_low = df['Fresh'].quantile(0.01)\n",
    "percentile_up = df['Fresh'].quantile(0.99)"
   ]
  },
  {
   "cell_type": "code",
   "execution_count": 97,
   "id": "8E8JxqiV1Zv8",
   "metadata": {
    "id": "8E8JxqiV1Zv8"
   },
   "outputs": [],
   "source": [
    "iqr = percentile_up - percentile_low"
   ]
  },
  {
   "cell_type": "code",
   "execution_count": 98,
   "id": "-u9ljWNtzJ3D",
   "metadata": {
    "id": "-u9ljWNtzJ3D"
   },
   "outputs": [],
   "source": [
    "upper_limit = percentile_up + 1.5 * iqr\n",
    "lower_limit = percentile_low - 1.5 * iqr"
   ]
  },
  {
   "cell_type": "code",
   "execution_count": 99,
   "id": "7uXouOea1HKT",
   "metadata": {
    "colab": {
     "base_uri": "https://localhost:8080/",
     "height": 423
    },
    "id": "7uXouOea1HKT",
    "outputId": "0cf90c68-71da-4baf-cfa8-c0d665453dc0"
   },
   "outputs": [
    {
     "data": {
      "text/html": [
       "\n",
       "  <div id=\"df-dc161f89-10f8-4398-b178-282c8d1bfbd7\">\n",
       "    <div class=\"colab-df-container\">\n",
       "      <div>\n",
       "<style scoped>\n",
       "    .dataframe tbody tr th:only-of-type {\n",
       "        vertical-align: middle;\n",
       "    }\n",
       "\n",
       "    .dataframe tbody tr th {\n",
       "        vertical-align: top;\n",
       "    }\n",
       "\n",
       "    .dataframe thead th {\n",
       "        text-align: right;\n",
       "    }\n",
       "</style>\n",
       "<table border=\"1\" class=\"dataframe\">\n",
       "  <thead>\n",
       "    <tr style=\"text-align: right;\">\n",
       "      <th></th>\n",
       "      <th>CustID</th>\n",
       "      <th>Channel</th>\n",
       "      <th>Region</th>\n",
       "      <th>Fresh</th>\n",
       "      <th>Milk</th>\n",
       "      <th>Grocery</th>\n",
       "      <th>Frozen</th>\n",
       "      <th>Detergents_Paper</th>\n",
       "      <th>Delicatessen</th>\n",
       "    </tr>\n",
       "  </thead>\n",
       "  <tbody>\n",
       "    <tr>\n",
       "      <th>0</th>\n",
       "      <td>1</td>\n",
       "      <td>online</td>\n",
       "      <td>Shenzhen</td>\n",
       "      <td>12669</td>\n",
       "      <td>9656</td>\n",
       "      <td>7561</td>\n",
       "      <td>214</td>\n",
       "      <td>2674.0</td>\n",
       "      <td>1338</td>\n",
       "    </tr>\n",
       "    <tr>\n",
       "      <th>1</th>\n",
       "      <td>2</td>\n",
       "      <td>online</td>\n",
       "      <td>Shenzhen</td>\n",
       "      <td>7057</td>\n",
       "      <td>9810</td>\n",
       "      <td>9568</td>\n",
       "      <td>1762</td>\n",
       "      <td>3293.0</td>\n",
       "      <td>1776</td>\n",
       "    </tr>\n",
       "    <tr>\n",
       "      <th>2</th>\n",
       "      <td>3</td>\n",
       "      <td>online</td>\n",
       "      <td>Shenzhen</td>\n",
       "      <td>6353</td>\n",
       "      <td>8808</td>\n",
       "      <td>7684</td>\n",
       "      <td>2405</td>\n",
       "      <td>3516.0</td>\n",
       "      <td>7844</td>\n",
       "    </tr>\n",
       "    <tr>\n",
       "      <th>3</th>\n",
       "      <td>4</td>\n",
       "      <td>offline</td>\n",
       "      <td>Shenzhen</td>\n",
       "      <td>13265</td>\n",
       "      <td>1196</td>\n",
       "      <td>4221</td>\n",
       "      <td>6404</td>\n",
       "      <td>507.0</td>\n",
       "      <td>1788</td>\n",
       "    </tr>\n",
       "    <tr>\n",
       "      <th>4</th>\n",
       "      <td>5</td>\n",
       "      <td>online</td>\n",
       "      <td>Shenzhen</td>\n",
       "      <td>22615</td>\n",
       "      <td>5410</td>\n",
       "      <td>7198</td>\n",
       "      <td>3915</td>\n",
       "      <td>1777.0</td>\n",
       "      <td>5185</td>\n",
       "    </tr>\n",
       "    <tr>\n",
       "      <th>...</th>\n",
       "      <td>...</td>\n",
       "      <td>...</td>\n",
       "      <td>...</td>\n",
       "      <td>...</td>\n",
       "      <td>...</td>\n",
       "      <td>...</td>\n",
       "      <td>...</td>\n",
       "      <td>...</td>\n",
       "      <td>...</td>\n",
       "    </tr>\n",
       "    <tr>\n",
       "      <th>435</th>\n",
       "      <td>436</td>\n",
       "      <td>offline</td>\n",
       "      <td>Shenzhen</td>\n",
       "      <td>29703</td>\n",
       "      <td>12051</td>\n",
       "      <td>16027</td>\n",
       "      <td>13135</td>\n",
       "      <td>182.0</td>\n",
       "      <td>2204</td>\n",
       "    </tr>\n",
       "    <tr>\n",
       "      <th>436</th>\n",
       "      <td>437</td>\n",
       "      <td>offline</td>\n",
       "      <td>Shenzhen</td>\n",
       "      <td>39228</td>\n",
       "      <td>1431</td>\n",
       "      <td>764</td>\n",
       "      <td>4510</td>\n",
       "      <td>93.0</td>\n",
       "      <td>2346</td>\n",
       "    </tr>\n",
       "    <tr>\n",
       "      <th>437</th>\n",
       "      <td>438</td>\n",
       "      <td>online</td>\n",
       "      <td>Shenzhen</td>\n",
       "      <td>14531</td>\n",
       "      <td>15488</td>\n",
       "      <td>30243</td>\n",
       "      <td>437</td>\n",
       "      <td>14841.0</td>\n",
       "      <td>1867</td>\n",
       "    </tr>\n",
       "    <tr>\n",
       "      <th>438</th>\n",
       "      <td>439</td>\n",
       "      <td>offline</td>\n",
       "      <td>Shenzhen</td>\n",
       "      <td>10290</td>\n",
       "      <td>1981</td>\n",
       "      <td>2232</td>\n",
       "      <td>1038</td>\n",
       "      <td>168.0</td>\n",
       "      <td>2125</td>\n",
       "    </tr>\n",
       "    <tr>\n",
       "      <th>439</th>\n",
       "      <td>440</td>\n",
       "      <td>offline</td>\n",
       "      <td>Shenzhen</td>\n",
       "      <td>2787</td>\n",
       "      <td>1698</td>\n",
       "      <td>2510</td>\n",
       "      <td>65</td>\n",
       "      <td>477.0</td>\n",
       "      <td>52</td>\n",
       "    </tr>\n",
       "  </tbody>\n",
       "</table>\n",
       "<p>437 rows × 9 columns</p>\n",
       "</div>\n",
       "      <button class=\"colab-df-convert\" onclick=\"convertToInteractive('df-dc161f89-10f8-4398-b178-282c8d1bfbd7')\"\n",
       "              title=\"Convert this dataframe to an interactive table.\"\n",
       "              style=\"display:none;\">\n",
       "        \n",
       "  <svg xmlns=\"http://www.w3.org/2000/svg\" height=\"24px\"viewBox=\"0 0 24 24\"\n",
       "       width=\"24px\">\n",
       "    <path d=\"M0 0h24v24H0V0z\" fill=\"none\"/>\n",
       "    <path d=\"M18.56 5.44l.94 2.06.94-2.06 2.06-.94-2.06-.94-.94-2.06-.94 2.06-2.06.94zm-11 1L8.5 8.5l.94-2.06 2.06-.94-2.06-.94L8.5 2.5l-.94 2.06-2.06.94zm10 10l.94 2.06.94-2.06 2.06-.94-2.06-.94-.94-2.06-.94 2.06-2.06.94z\"/><path d=\"M17.41 7.96l-1.37-1.37c-.4-.4-.92-.59-1.43-.59-.52 0-1.04.2-1.43.59L10.3 9.45l-7.72 7.72c-.78.78-.78 2.05 0 2.83L4 21.41c.39.39.9.59 1.41.59.51 0 1.02-.2 1.41-.59l7.78-7.78 2.81-2.81c.8-.78.8-2.07 0-2.86zM5.41 20L4 18.59l7.72-7.72 1.47 1.35L5.41 20z\"/>\n",
       "  </svg>\n",
       "      </button>\n",
       "      \n",
       "  <style>\n",
       "    .colab-df-container {\n",
       "      display:flex;\n",
       "      flex-wrap:wrap;\n",
       "      gap: 12px;\n",
       "    }\n",
       "\n",
       "    .colab-df-convert {\n",
       "      background-color: #E8F0FE;\n",
       "      border: none;\n",
       "      border-radius: 50%;\n",
       "      cursor: pointer;\n",
       "      display: none;\n",
       "      fill: #1967D2;\n",
       "      height: 32px;\n",
       "      padding: 0 0 0 0;\n",
       "      width: 32px;\n",
       "    }\n",
       "\n",
       "    .colab-df-convert:hover {\n",
       "      background-color: #E2EBFA;\n",
       "      box-shadow: 0px 1px 2px rgba(60, 64, 67, 0.3), 0px 1px 3px 1px rgba(60, 64, 67, 0.15);\n",
       "      fill: #174EA6;\n",
       "    }\n",
       "\n",
       "    [theme=dark] .colab-df-convert {\n",
       "      background-color: #3B4455;\n",
       "      fill: #D2E3FC;\n",
       "    }\n",
       "\n",
       "    [theme=dark] .colab-df-convert:hover {\n",
       "      background-color: #434B5C;\n",
       "      box-shadow: 0px 1px 3px 1px rgba(0, 0, 0, 0.15);\n",
       "      filter: drop-shadow(0px 1px 2px rgba(0, 0, 0, 0.3));\n",
       "      fill: #FFFFFF;\n",
       "    }\n",
       "  </style>\n",
       "\n",
       "      <script>\n",
       "        const buttonEl =\n",
       "          document.querySelector('#df-dc161f89-10f8-4398-b178-282c8d1bfbd7 button.colab-df-convert');\n",
       "        buttonEl.style.display =\n",
       "          google.colab.kernel.accessAllowed ? 'block' : 'none';\n",
       "\n",
       "        async function convertToInteractive(key) {\n",
       "          const element = document.querySelector('#df-dc161f89-10f8-4398-b178-282c8d1bfbd7');\n",
       "          const dataTable =\n",
       "            await google.colab.kernel.invokeFunction('convertToInteractive',\n",
       "                                                     [key], {});\n",
       "          if (!dataTable) return;\n",
       "\n",
       "          const docLinkHtml = 'Like what you see? Visit the ' +\n",
       "            '<a target=\"_blank\" href=https://colab.research.google.com/notebooks/data_table.ipynb>data table notebook</a>'\n",
       "            + ' to learn more about interactive tables.';\n",
       "          element.innerHTML = '';\n",
       "          dataTable['output_type'] = 'display_data';\n",
       "          await google.colab.output.renderOutput(dataTable, element);\n",
       "          const docLink = document.createElement('div');\n",
       "          docLink.innerHTML = docLinkHtml;\n",
       "          element.appendChild(docLink);\n",
       "        }\n",
       "      </script>\n",
       "    </div>\n",
       "  </div>\n",
       "  "
      ],
      "text/plain": [
       "     CustID  Channel    Region  Fresh   Milk  Grocery  Frozen  \\\n",
       "0         1   online  Shenzhen  12669   9656     7561     214   \n",
       "1         2   online  Shenzhen   7057   9810     9568    1762   \n",
       "2         3   online  Shenzhen   6353   8808     7684    2405   \n",
       "3         4  offline  Shenzhen  13265   1196     4221    6404   \n",
       "4         5   online  Shenzhen  22615   5410     7198    3915   \n",
       "..      ...      ...       ...    ...    ...      ...     ...   \n",
       "435     436  offline  Shenzhen  29703  12051    16027   13135   \n",
       "436     437  offline  Shenzhen  39228   1431      764    4510   \n",
       "437     438   online  Shenzhen  14531  15488    30243     437   \n",
       "438     439  offline  Shenzhen  10290   1981     2232    1038   \n",
       "439     440  offline  Shenzhen   2787   1698     2510      65   \n",
       "\n",
       "     Detergents_Paper  Delicatessen  \n",
       "0              2674.0          1338  \n",
       "1              3293.0          1776  \n",
       "2              3516.0          7844  \n",
       "3               507.0          1788  \n",
       "4              1777.0          5185  \n",
       "..                ...           ...  \n",
       "435             182.0          2204  \n",
       "436              93.0          2346  \n",
       "437           14841.0          1867  \n",
       "438             168.0          2125  \n",
       "439             477.0            52  \n",
       "\n",
       "[437 rows x 9 columns]"
      ]
     },
     "execution_count": 99,
     "metadata": {},
     "output_type": "execute_result"
    }
   ],
   "source": [
    "df[df['Fresh'] > upper_limit]\n",
    "df[df['Fresh'] < lower_limit]\n",
    "df"
   ]
  },
  {
   "cell_type": "code",
   "execution_count": 100,
   "id": "2cmOLQHM19dj",
   "metadata": {
    "colab": {
     "base_uri": "https://localhost:8080/"
    },
    "id": "2cmOLQHM19dj",
    "outputId": "4c53a098-c200-434a-faca-0dbcd57422a1"
   },
   "outputs": [
    {
     "data": {
      "text/plain": [
       "140247.68"
      ]
     },
     "execution_count": 100,
     "metadata": {},
     "output_type": "execute_result"
    }
   ],
   "source": [
    "upper_limit"
   ]
  },
  {
   "cell_type": "code",
   "execution_count": 101,
   "id": "tejE2q3i1MbK",
   "metadata": {
    "colab": {
     "base_uri": "https://localhost:8080/"
    },
    "id": "tejE2q3i1MbK",
    "outputId": "b56ec419-db8a-4b17-eeda-6f4c80b389de"
   },
   "outputs": [
    {
     "data": {
      "text/plain": [
       "(436, 9)"
      ]
     },
     "execution_count": 101,
     "metadata": {},
     "output_type": "execute_result"
    }
   ],
   "source": [
    "df = df[df['Fresh'] < upper_limit]\n",
    "df.shape"
   ]
  },
  {
   "cell_type": "markdown",
   "id": "A8paynT5KODI",
   "metadata": {
    "id": "A8paynT5KODI"
   },
   "source": [
    "**Some EDA**"
   ]
  },
  {
   "cell_type": "code",
   "execution_count": 102,
   "id": "11448c6d",
   "metadata": {
    "colab": {
     "base_uri": "https://localhost:8080/",
     "height": 807
    },
    "id": "11448c6d",
    "outputId": "85714aa1-4f5f-4b3c-8964-ea7efdd4afa7"
   },
   "outputs": [
    {
     "data": {
      "image/png": "[encoded data removed]",
      "text/plain": [
       "<Figure size 800x800 with 6 Axes>"
      ]
     },
     "metadata": {},
     "output_type": "display_data"
    }
   ],
   "source": [
    "# Remove CustID, Channel and Region from the data\n",
    "df1 = df.drop(['CustID', 'Channel', 'Region'], axis=1)\n",
    "\n",
    "from pylab import rcParams\n",
    "rcParams['figure.figsize'] = (8, 8)\n",
    "df1.hist(bins=20)\n",
    "plt.tight_layout() \n",
    "plt.show()\n",
    "\n",
    "# You can see there are many low spending customers, which is expected"
   ]
  },
  {
   "cell_type": "code",
   "execution_count": 103,
   "id": "1aab8b7e",
   "metadata": {
    "id": "1aab8b7e"
   },
   "outputs": [],
   "source": [
    "# Model construction using K-Means\n",
    "from sklearn.cluster import KMeans\n",
    "clusters=4\n",
    "algorithm = KMeans(n_clusters=clusters, random_state=183)"
   ]
  },
  {
   "cell_type": "code",
   "execution_count": 104,
   "id": "wT1IxJ-G3fVs",
   "metadata": {
    "colab": {
     "base_uri": "https://localhost:8080/"
    },
    "id": "wT1IxJ-G3fVs",
    "outputId": "797c1c81-b351-45da-ce9c-d13579f200ab"
   },
   "outputs": [
    {
     "name": "stdout",
     "output_type": "stream",
     "text": [
      "[3 2 3 3 0 3 3 3 3 2 2 3 0 2 0 3 2 3 3 3]\n"
     ]
    },
    {
     "name": "stderr",
     "output_type": "stream",
     "text": [
      "/usr/local/lib/python3.9/dist-packages/sklearn/cluster/_kmeans.py:870: FutureWarning: The default value of `n_init` will change from 10 to 'auto' in 1.4. Set the value of `n_init` explicitly to suppress the warning\n",
      "  warnings.warn(\n"
     ]
    }
   ],
   "source": [
    "# Training\n",
    "y_pred = algorithm.fit_predict(df1)\n",
    "print(y_pred[:20])"
   ]
  },
  {
   "cell_type": "code",
   "execution_count": 105,
   "id": "sb7dSNg-3oy8",
   "metadata": {
    "colab": {
     "base_uri": "https://localhost:8080/",
     "height": 174
    },
    "id": "sb7dSNg-3oy8",
    "outputId": "dc28a414-14b4-4b44-f580-244ae487d87d"
   },
   "outputs": [
    {
     "data": {
      "text/html": [
       "\n",
       "  <div id=\"df-b129fdf4-28dd-43c6-96cf-a09e9d2cbb24\">\n",
       "    <div class=\"colab-df-container\">\n",
       "      <div>\n",
       "<style scoped>\n",
       "    .dataframe tbody tr th:only-of-type {\n",
       "        vertical-align: middle;\n",
       "    }\n",
       "\n",
       "    .dataframe tbody tr th {\n",
       "        vertical-align: top;\n",
       "    }\n",
       "\n",
       "    .dataframe thead th {\n",
       "        text-align: right;\n",
       "    }\n",
       "</style>\n",
       "<table border=\"1\" class=\"dataframe\">\n",
       "  <thead>\n",
       "    <tr style=\"text-align: right;\">\n",
       "      <th></th>\n",
       "      <th>Fresh</th>\n",
       "      <th>Milk</th>\n",
       "      <th>Grocery</th>\n",
       "      <th>Frozen</th>\n",
       "      <th>Detergents_Paper</th>\n",
       "      <th>Delicatessen</th>\n",
       "    </tr>\n",
       "  </thead>\n",
       "  <tbody>\n",
       "    <tr>\n",
       "      <th>0</th>\n",
       "      <td>36144.482759</td>\n",
       "      <td>5471.465517</td>\n",
       "      <td>6128.793103</td>\n",
       "      <td>6298.655172</td>\n",
       "      <td>1064.000000</td>\n",
       "      <td>2316.724138</td>\n",
       "    </tr>\n",
       "    <tr>\n",
       "      <th>1</th>\n",
       "      <td>19888.272727</td>\n",
       "      <td>36142.363636</td>\n",
       "      <td>45517.454545</td>\n",
       "      <td>6328.909091</td>\n",
       "      <td>21417.090909</td>\n",
       "      <td>8414.000000</td>\n",
       "    </tr>\n",
       "    <tr>\n",
       "      <th>2</th>\n",
       "      <td>4808.842105</td>\n",
       "      <td>10525.010526</td>\n",
       "      <td>16909.789474</td>\n",
       "      <td>1462.589474</td>\n",
       "      <td>7302.400000</td>\n",
       "      <td>1650.884211</td>\n",
       "    </tr>\n",
       "    <tr>\n",
       "      <th>3</th>\n",
       "      <td>9209.507353</td>\n",
       "      <td>3047.580882</td>\n",
       "      <td>3738.959559</td>\n",
       "      <td>2829.555147</td>\n",
       "      <td>1001.573529</td>\n",
       "      <td>1051.261029</td>\n",
       "    </tr>\n",
       "  </tbody>\n",
       "</table>\n",
       "</div>\n",
       "      <button class=\"colab-df-convert\" onclick=\"convertToInteractive('df-b129fdf4-28dd-43c6-96cf-a09e9d2cbb24')\"\n",
       "              title=\"Convert this dataframe to an interactive table.\"\n",
       "              style=\"display:none;\">\n",
       "        \n",
       "  <svg xmlns=\"http://www.w3.org/2000/svg\" height=\"24px\"viewBox=\"0 0 24 24\"\n",
       "       width=\"24px\">\n",
       "    <path d=\"M0 0h24v24H0V0z\" fill=\"none\"/>\n",
       "    <path d=\"M18.56 5.44l.94 2.06.94-2.06 2.06-.94-2.06-.94-.94-2.06-.94 2.06-2.06.94zm-11 1L8.5 8.5l.94-2.06 2.06-.94-2.06-.94L8.5 2.5l-.94 2.06-2.06.94zm10 10l.94 2.06.94-2.06 2.06-.94-2.06-.94-.94-2.06-.94 2.06-2.06.94z\"/><path d=\"M17.41 7.96l-1.37-1.37c-.4-.4-.92-.59-1.43-.59-.52 0-1.04.2-1.43.59L10.3 9.45l-7.72 7.72c-.78.78-.78 2.05 0 2.83L4 21.41c.39.39.9.59 1.41.59.51 0 1.02-.2 1.41-.59l7.78-7.78 2.81-2.81c.8-.78.8-2.07 0-2.86zM5.41 20L4 18.59l7.72-7.72 1.47 1.35L5.41 20z\"/>\n",
       "  </svg>\n",
       "      </button>\n",
       "      \n",
       "  <style>\n",
       "    .colab-df-container {\n",
       "      display:flex;\n",
       "      flex-wrap:wrap;\n",
       "      gap: 12px;\n",
       "    }\n",
       "\n",
       "    .colab-df-convert {\n",
       "      background-color: #E8F0FE;\n",
       "      border: none;\n",
       "      border-radius: 50%;\n",
       "      cursor: pointer;\n",
       "      display: none;\n",
       "      fill: #1967D2;\n",
       "      height: 32px;\n",
       "      padding: 0 0 0 0;\n",
       "      width: 32px;\n",
       "    }\n",
       "\n",
       "    .colab-df-convert:hover {\n",
       "      background-color: #E2EBFA;\n",
       "      box-shadow: 0px 1px 2px rgba(60, 64, 67, 0.3), 0px 1px 3px 1px rgba(60, 64, 67, 0.15);\n",
       "      fill: #174EA6;\n",
       "    }\n",
       "\n",
       "    [theme=dark] .colab-df-convert {\n",
       "      background-color: #3B4455;\n",
       "      fill: #D2E3FC;\n",
       "    }\n",
       "\n",
       "    [theme=dark] .colab-df-convert:hover {\n",
       "      background-color: #434B5C;\n",
       "      box-shadow: 0px 1px 3px 1px rgba(0, 0, 0, 0.15);\n",
       "      filter: drop-shadow(0px 1px 2px rgba(0, 0, 0, 0.3));\n",
       "      fill: #FFFFFF;\n",
       "    }\n",
       "  </style>\n",
       "\n",
       "      <script>\n",
       "        const buttonEl =\n",
       "          document.querySelector('#df-b129fdf4-28dd-43c6-96cf-a09e9d2cbb24 button.colab-df-convert');\n",
       "        buttonEl.style.display =\n",
       "          google.colab.kernel.accessAllowed ? 'block' : 'none';\n",
       "\n",
       "        async function convertToInteractive(key) {\n",
       "          const element = document.querySelector('#df-b129fdf4-28dd-43c6-96cf-a09e9d2cbb24');\n",
       "          const dataTable =\n",
       "            await google.colab.kernel.invokeFunction('convertToInteractive',\n",
       "                                                     [key], {});\n",
       "          if (!dataTable) return;\n",
       "\n",
       "          const docLinkHtml = 'Like what you see? Visit the ' +\n",
       "            '<a target=\"_blank\" href=https://colab.research.google.com/notebooks/data_table.ipynb>data table notebook</a>'\n",
       "            + ' to learn more about interactive tables.';\n",
       "          element.innerHTML = '';\n",
       "          dataTable['output_type'] = 'display_data';\n",
       "          await google.colab.output.renderOutput(dataTable, element);\n",
       "          const docLink = document.createElement('div');\n",
       "          docLink.innerHTML = docLinkHtml;\n",
       "          element.appendChild(docLink);\n",
       "        }\n",
       "      </script>\n",
       "    </div>\n",
       "  </div>\n",
       "  "
      ],
      "text/plain": [
       "          Fresh          Milk       Grocery       Frozen  Detergents_Paper  \\\n",
       "0  36144.482759   5471.465517   6128.793103  6298.655172       1064.000000   \n",
       "1  19888.272727  36142.363636  45517.454545  6328.909091      21417.090909   \n",
       "2   4808.842105  10525.010526  16909.789474  1462.589474       7302.400000   \n",
       "3   9209.507353   3047.580882   3738.959559  2829.555147       1001.573529   \n",
       "\n",
       "   Delicatessen  \n",
       "0   2316.724138  \n",
       "1   8414.000000  \n",
       "2   1650.884211  \n",
       "3   1051.261029  "
      ]
     },
     "metadata": {},
     "output_type": "display_data"
    }
   ],
   "source": [
    "# Calculate the means of each cluster\n",
    "df_cluster = df1.groupby(y_pred).mean()\n",
    "display(df_cluster)"
   ]
  },
  {
   "cell_type": "code",
   "execution_count": 106,
   "id": "n8kWP_L33srz",
   "metadata": {
    "colab": {
     "base_uri": "https://localhost:8080/",
     "height": 517
    },
    "id": "n8kWP_L33srz",
    "outputId": "8250ccc7-051e-48de-f184-64c4e936fa1e"
   },
   "outputs": [
    {
     "data": {
      "image/png": "[encoded data removed]",
      "text/plain": [
       "<Figure size 1000x600 with 1 Axes>"
      ]
     },
     "metadata": {},
     "output_type": "display_data"
    }
   ],
   "source": [
    "# Create a plot\n",
    "df_cluster.plot(kind='bar',stacked=True,\n",
    "    figsize=(10, 6),colormap='jet')\n",
    "plt.show()"
   ]
  },
  {
   "cell_type": "markdown",
   "id": "L1h3M_jyCPLR",
   "metadata": {
    "id": "L1h3M_jyCPLR"
   },
   "source": [
    "**Some interpretations of the results**"
   ]
  },
  {
   "cell_type": "markdown",
   "id": "EmnHcH2cCS6P",
   "metadata": {
    "id": "EmnHcH2cCS6P"
   },
   "source": [
    "Suggested answers:\n",
    "\n",
    "1.   Cluster #1 is so-called \"large quantity cluster\" because the customers in this cluster have higher spendings.\n",
    "2.   Cluster #3 is so-called \"small quantity cluster\" because the customers in this cluster have lower spendings.\n",
    "3.   Cluster #0 is so-called \"fresh cluster\" because the customers in this cluster spend twice or even more than the other clusters. So they love fresh food a lot.\n",
    "4.   Cluster #2 is so-called \"Grocery cluster\" because the customers in this cluster tend to have a high spending on grocery.\n",
    "5.   Now we can apply different promotion strategies for different clusters based on their characteristics. E.g., give discounts on fresh products for customers in cluster #0, and so forth.\n",
    "\n",
    "\n"
   ]
  },
  {
   "cell_type": "markdown",
   "id": "735a80d2",
   "metadata": {
    "id": "735a80d2"
   },
   "source": [
    "**Relationships between clusters and \"Channel\" & \"Region\"**"
   ]
  },
  {
   "cell_type": "code",
   "execution_count": 107,
   "id": "mynqj9jgEoOo",
   "metadata": {
    "id": "mynqj9jgEoOo"
   },
   "outputs": [],
   "source": [
    "# Simple encoding\n",
    "# Sales channel OFFLINE = 0, Sales channel ONLINE = 1\n",
    "df2 = df[['Region', 'Channel']]\n",
    "mymap = {'offline':0, 'online':1}\n",
    "df2 = df2.applymap(lambda s: mymap.get(s) if s in mymap else s)"
   ]
  },
  {
   "cell_type": "code",
   "execution_count": 108,
   "id": "jqrffKCMFyU3",
   "metadata": {
    "id": "jqrffKCMFyU3"
   },
   "outputs": [],
   "source": [
    "# Region BEIJING = 0, HK = 1, SHENZHEN = 2\n",
    "mymap = {'Beijing':0, 'HK':1, 'Shenzhen':2}\n",
    "df2 = df2.applymap(lambda s: mymap.get(s) if s in mymap else s)"
   ]
  },
  {
   "cell_type": "code",
   "execution_count": 109,
   "id": "YUDQVUcqF6kP",
   "metadata": {
    "colab": {
     "base_uri": "https://localhost:8080/",
     "height": 423
    },
    "id": "YUDQVUcqF6kP",
    "outputId": "94506761-ac23-48df-ff9a-2cf8966959d9"
   },
   "outputs": [
    {
     "data": {
      "text/html": [
       "\n",
       "  <div id=\"df-0e547ec5-459b-4789-ac2a-e9f8bc8f6825\">\n",
       "    <div class=\"colab-df-container\">\n",
       "      <div>\n",
       "<style scoped>\n",
       "    .dataframe tbody tr th:only-of-type {\n",
       "        vertical-align: middle;\n",
       "    }\n",
       "\n",
       "    .dataframe tbody tr th {\n",
       "        vertical-align: top;\n",
       "    }\n",
       "\n",
       "    .dataframe thead th {\n",
       "        text-align: right;\n",
       "    }\n",
       "</style>\n",
       "<table border=\"1\" class=\"dataframe\">\n",
       "  <thead>\n",
       "    <tr style=\"text-align: right;\">\n",
       "      <th></th>\n",
       "      <th>Region</th>\n",
       "      <th>Channel</th>\n",
       "    </tr>\n",
       "  </thead>\n",
       "  <tbody>\n",
       "    <tr>\n",
       "      <th>0</th>\n",
       "      <td>2</td>\n",
       "      <td>1</td>\n",
       "    </tr>\n",
       "    <tr>\n",
       "      <th>1</th>\n",
       "      <td>2</td>\n",
       "      <td>1</td>\n",
       "    </tr>\n",
       "    <tr>\n",
       "      <th>2</th>\n",
       "      <td>2</td>\n",
       "      <td>1</td>\n",
       "    </tr>\n",
       "    <tr>\n",
       "      <th>3</th>\n",
       "      <td>2</td>\n",
       "      <td>0</td>\n",
       "    </tr>\n",
       "    <tr>\n",
       "      <th>4</th>\n",
       "      <td>2</td>\n",
       "      <td>1</td>\n",
       "    </tr>\n",
       "    <tr>\n",
       "      <th>...</th>\n",
       "      <td>...</td>\n",
       "      <td>...</td>\n",
       "    </tr>\n",
       "    <tr>\n",
       "      <th>435</th>\n",
       "      <td>2</td>\n",
       "      <td>0</td>\n",
       "    </tr>\n",
       "    <tr>\n",
       "      <th>436</th>\n",
       "      <td>2</td>\n",
       "      <td>0</td>\n",
       "    </tr>\n",
       "    <tr>\n",
       "      <th>437</th>\n",
       "      <td>2</td>\n",
       "      <td>1</td>\n",
       "    </tr>\n",
       "    <tr>\n",
       "      <th>438</th>\n",
       "      <td>2</td>\n",
       "      <td>0</td>\n",
       "    </tr>\n",
       "    <tr>\n",
       "      <th>439</th>\n",
       "      <td>2</td>\n",
       "      <td>0</td>\n",
       "    </tr>\n",
       "  </tbody>\n",
       "</table>\n",
       "<p>436 rows × 2 columns</p>\n",
       "</div>\n",
       "      <button class=\"colab-df-convert\" onclick=\"convertToInteractive('df-0e547ec5-459b-4789-ac2a-e9f8bc8f6825')\"\n",
       "              title=\"Convert this dataframe to an interactive table.\"\n",
       "              style=\"display:none;\">\n",
       "        \n",
       "  <svg xmlns=\"http://www.w3.org/2000/svg\" height=\"24px\"viewBox=\"0 0 24 24\"\n",
       "       width=\"24px\">\n",
       "    <path d=\"M0 0h24v24H0V0z\" fill=\"none\"/>\n",
       "    <path d=\"M18.56 5.44l.94 2.06.94-2.06 2.06-.94-2.06-.94-.94-2.06-.94 2.06-2.06.94zm-11 1L8.5 8.5l.94-2.06 2.06-.94-2.06-.94L8.5 2.5l-.94 2.06-2.06.94zm10 10l.94 2.06.94-2.06 2.06-.94-2.06-.94-.94-2.06-.94 2.06-2.06.94z\"/><path d=\"M17.41 7.96l-1.37-1.37c-.4-.4-.92-.59-1.43-.59-.52 0-1.04.2-1.43.59L10.3 9.45l-7.72 7.72c-.78.78-.78 2.05 0 2.83L4 21.41c.39.39.9.59 1.41.59.51 0 1.02-.2 1.41-.59l7.78-7.78 2.81-2.81c.8-.78.8-2.07 0-2.86zM5.41 20L4 18.59l7.72-7.72 1.47 1.35L5.41 20z\"/>\n",
       "  </svg>\n",
       "      </button>\n",
       "      \n",
       "  <style>\n",
       "    .colab-df-container {\n",
       "      display:flex;\n",
       "      flex-wrap:wrap;\n",
       "      gap: 12px;\n",
       "    }\n",
       "\n",
       "    .colab-df-convert {\n",
       "      background-color: #E8F0FE;\n",
       "      border: none;\n",
       "      border-radius: 50%;\n",
       "      cursor: pointer;\n",
       "      display: none;\n",
       "      fill: #1967D2;\n",
       "      height: 32px;\n",
       "      padding: 0 0 0 0;\n",
       "      width: 32px;\n",
       "    }\n",
       "\n",
       "    .colab-df-convert:hover {\n",
       "      background-color: #E2EBFA;\n",
       "      box-shadow: 0px 1px 2px rgba(60, 64, 67, 0.3), 0px 1px 3px 1px rgba(60, 64, 67, 0.15);\n",
       "      fill: #174EA6;\n",
       "    }\n",
       "\n",
       "    [theme=dark] .colab-df-convert {\n",
       "      background-color: #3B4455;\n",
       "      fill: #D2E3FC;\n",
       "    }\n",
       "\n",
       "    [theme=dark] .colab-df-convert:hover {\n",
       "      background-color: #434B5C;\n",
       "      box-shadow: 0px 1px 3px 1px rgba(0, 0, 0, 0.15);\n",
       "      filter: drop-shadow(0px 1px 2px rgba(0, 0, 0, 0.3));\n",
       "      fill: #FFFFFF;\n",
       "    }\n",
       "  </style>\n",
       "\n",
       "      <script>\n",
       "        const buttonEl =\n",
       "          document.querySelector('#df-0e547ec5-459b-4789-ac2a-e9f8bc8f6825 button.colab-df-convert');\n",
       "        buttonEl.style.display =\n",
       "          google.colab.kernel.accessAllowed ? 'block' : 'none';\n",
       "\n",
       "        async function convertToInteractive(key) {\n",
       "          const element = document.querySelector('#df-0e547ec5-459b-4789-ac2a-e9f8bc8f6825');\n",
       "          const dataTable =\n",
       "            await google.colab.kernel.invokeFunction('convertToInteractive',\n",
       "                                                     [key], {});\n",
       "          if (!dataTable) return;\n",
       "\n",
       "          const docLinkHtml = 'Like what you see? Visit the ' +\n",
       "            '<a target=\"_blank\" href=https://colab.research.google.com/notebooks/data_table.ipynb>data table notebook</a>'\n",
       "            + ' to learn more about interactive tables.';\n",
       "          element.innerHTML = '';\n",
       "          dataTable['output_type'] = 'display_data';\n",
       "          await google.colab.output.renderOutput(dataTable, element);\n",
       "          const docLink = document.createElement('div');\n",
       "          docLink.innerHTML = docLinkHtml;\n",
       "          element.appendChild(docLink);\n",
       "        }\n",
       "      </script>\n",
       "    </div>\n",
       "  </div>\n",
       "  "
      ],
      "text/plain": [
       "     Region  Channel\n",
       "0         2        1\n",
       "1         2        1\n",
       "2         2        1\n",
       "3         2        0\n",
       "4         2        1\n",
       "..      ...      ...\n",
       "435       2        0\n",
       "436       2        0\n",
       "437       2        1\n",
       "438       2        0\n",
       "439       2        0\n",
       "\n",
       "[436 rows x 2 columns]"
      ]
     },
     "execution_count": 109,
     "metadata": {},
     "output_type": "execute_result"
    }
   ],
   "source": [
    "df2"
   ]
  },
  {
   "cell_type": "code",
   "execution_count": 84,
   "id": "a2aae429",
   "metadata": {
    "colab": {
     "base_uri": "https://localhost:8080/",
     "height": 1000
    },
    "id": "a2aae429",
    "outputId": "eafd19f5-6b14-4f06-ec0c-b576f24c375a"
   },
   "outputs": [
    {
     "name": "stdout",
     "output_type": "stream",
     "text": [
      "==== Cluster0 ====\n"
     ]
    },
    {
     "name": "stderr",
     "output_type": "stream",
     "text": [
      "<ipython-input-84-accaa493703a>:6: UserWarning: To output multiple subplots, the figure containing the passed axes is being cleared.\n",
      "  w.hist(ax=ax)\n"
     ]
    },
    {
     "data": {
      "image/png": "[encoded data removed]",
      "text/plain": [
       "<Figure size 600x300 with 2 Axes>"
      ]
     },
     "metadata": {},
     "output_type": "display_data"
    },
    {
     "name": "stdout",
     "output_type": "stream",
     "text": [
      "==== Cluster1 ====\n"
     ]
    },
    {
     "data": {
      "image/png": "[encoded data removed]",
      "text/plain": [
       "<Figure size 600x300 with 2 Axes>"
      ]
     },
     "metadata": {},
     "output_type": "display_data"
    },
    {
     "name": "stdout",
     "output_type": "stream",
     "text": [
      "==== Cluster2 ====\n"
     ]
    },
    {
     "data": {
      "image/png": "[encoded data removed]",
      "text/plain": [
       "<Figure size 600x300 with 2 Axes>"
      ]
     },
     "metadata": {},
     "output_type": "display_data"
    },
    {
     "name": "stdout",
     "output_type": "stream",
     "text": [
      "==== Cluster3 ====\n"
     ]
    },
    {
     "data": {
      "image/png": "[encoded data removed]",
      "text/plain": [
       "<Figure size 600x300 with 2 Axes>"
      ]
     },
     "metadata": {},
     "output_type": "display_data"
    }
   ],
   "source": [
    "rcParams['figure.figsize'] = (6,3)\n",
    "for i in range(clusters):\n",
    "    fig, ax = plt.subplots()\n",
    "    w = df2[y_pred==i]\n",
    "    print(f'==== Cluster{i} ====')\n",
    "    w.hist(ax=ax)\n",
    "    plt.tight_layout()\n",
    "    plt.show()"
   ]
  },
  {
   "cell_type": "markdown",
   "id": "DAbjSr1NGRAR",
   "metadata": {
    "id": "DAbjSr1NGRAR"
   },
   "source": [
    "**Analysis Results**\n",
    "1.   Cluster #0 (fresh) and group 3 (small quantity) are closely related to sales channel 0 (offline). As a result, it is possible for customers in cluster #0 switching to cluster #3, and vice versa.\n",
    "2.   Cluster #1 (large quantity) and cluster #2 (grocery) are closely related to sales channel 1 (online). As a result, it is possible for customers in cluster #1 switching to cluster #2, and vice versa.\n",
    "3.   The proportion of each cluster in the three regions is similar. Hence, no special correlation was found between regions and clusters."
   ]
  }
 ],
 "metadata": {
  "colab": {
   "provenance": []
  },
  "kernelspec": {
   "display_name": "Python 3 (ipykernel)",
   "language": "python",
   "name": "python3"
  },
  "language_info": {
   "codemirror_mode": {
    "name": "ipython",
    "version": 3
   },
   "file_extension": ".py",
   "mimetype": "text/x-python",
   "name": "python",
   "nbconvert_exporter": "python",
   "pygments_lexer": "ipython3",
   "version": "3.8.16"
  }
 },
 "nbformat": 4,
 "nbformat_minor": 5
}
