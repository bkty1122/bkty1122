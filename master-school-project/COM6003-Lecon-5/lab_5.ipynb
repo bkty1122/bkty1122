{
 "cells": [
  {
   "cell_type": "code",
   "execution_count": 22,
   "metadata": {},
   "outputs": [
    {
     "name": "stdout",
     "output_type": "stream",
     "text": [
      "p233340, Kwok Tsz Yi Becky\n",
      "[[1.         2.         3.         4.        ]\n",
      " [4.33333333 2.5        3.33333333 9.        ]\n",
      " [4.33333333 2.         7.         5.5       ]]\n"
     ]
    }
   ],
   "source": [
    "# input nan value with strategy mean via simpleimputer, using input data as the pattern to fillna in X\n",
    "import numpy as np\n",
    "from sklearn.impute import SimpleImputer\n",
    "\n",
    "Input_data = np.array([[5,3,2,2],[3,np.nan,1,9],[5,2,7,np.nan]])\n",
    "X= np.array([[1,2,3,4],[np.nan,np.nan,np.nan,9],[np.nan,2,7,np.nan]])\n",
    "\n",
    "strategy = SimpleImputer(missing_values=np.nan, strategy='mean')\n",
    "strategy.fit(Input_data)\n",
    "print('p233340, Kwok Tsz Yi Becky')\n",
    "print(strategy.transform(X))\n"
   ]
  }
 ],
 "metadata": {
  "kernelspec": {
   "display_name": "Python 3",
   "language": "python",
   "name": "python3"
  },
  "language_info": {
   "codemirror_mode": {
    "name": "ipython",
    "version": 3
   },
   "file_extension": ".py",
   "mimetype": "text/x-python",
   "name": "python",
   "nbconvert_exporter": "python",
   "pygments_lexer": "ipython3",
   "version": "3.10.13"
  }
 },
 "nbformat": 4,
 "nbformat_minor": 2
}
