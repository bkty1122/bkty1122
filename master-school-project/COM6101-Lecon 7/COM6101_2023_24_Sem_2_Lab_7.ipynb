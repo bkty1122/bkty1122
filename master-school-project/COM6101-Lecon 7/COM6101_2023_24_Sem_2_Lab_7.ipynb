{
  "nbformat": 4,
  "nbformat_minor": 0,
  "metadata": {
    "colab": {
      "provenance": []
    },
    "kernelspec": {
      "name": "python3",
      "display_name": "Python 3"
    },
    "language_info": {
      "name": "python"
    }
  },
  "cells": [
    {
      "cell_type": "markdown",
      "source": [
        "**Name: XXXX    Student ID: pxxxxxx**"
      ],
      "metadata": {
        "id": "iq4InRIhg8Du"
      }
    },
    {
      "cell_type": "code",
      "source": [
        "#Import Python libaries\n",
        "import numpy as np\n",
        "import pandas as pd\n",
        "from sklearn.metrics import pairwise_distances\n",
        "from scipy.spatial.distance import cosine, correlation"
      ],
      "metadata": {
        "id": "cAj0ngMgW8L4"
      },
      "execution_count": null,
      "outputs": []
    },
    {
      "cell_type": "code",
      "source": [
        "#Load movielens data\n",
        "\n",
        "#Users\n",
        "users_cols = ['user_id', 'age', 'sex', 'occupation', 'zip_code']\n",
        "users = pd.read_csv('/content/u.user', sep='|', names=users_cols, parse_dates=True) \n",
        "users"
      ],
      "metadata": {
        "id": "9Xdcg1-gf69s"
      },
      "execution_count": null,
      "outputs": []
    },
    {
      "cell_type": "code",
      "source": [
        "#Movies\n",
        "movie_cols = ['movie_id', 'title', 'release_date', 'video_release_date', 'imdb_url']\n",
        "movies = pd.read_csv('/content/u.item', sep='|', names=movie_cols, usecols=range(5),encoding='latin-1')\n",
        "movies"
      ],
      "metadata": {
        "id": "FOR-veX1hYV9"
      },
      "execution_count": null,
      "outputs": []
    },
    {
      "cell_type": "code",
      "source": [
        "#Ratings\n",
        "rating_cols = ['user_id', 'movie_id', 'rating', 'unix_timestamp']\n",
        "ratings = pd.read_csv('/content/u.data', sep='\\t', names=rating_cols)\n",
        "ratings"
      ],
      "metadata": {
        "id": "mE_GXCmthWim"
      },
      "execution_count": null,
      "outputs": []
    },
    {
      "cell_type": "code",
      "source": [
        "#Merging movie data with their ratings\n",
        "movie_ratings = pd.merge(movies, ratings)\n",
        "movie_ratings"
      ],
      "metadata": {
        "id": "9WUgJJSMgJc1"
      },
      "execution_count": null,
      "outputs": []
    },
    {
      "cell_type": "code",
      "source": [
        "#merging movie_ratings data with the User's dataframe\n",
        "df = pd.merge(movie_ratings, users)\n",
        "df"
      ],
      "metadata": {
        "id": "bMKI-9KIgREM"
      },
      "execution_count": null,
      "outputs": []
    },
    {
      "cell_type": "code",
      "source": [
        "#pre-processing\n",
        "#dropping colums that aren't needed\n",
        "df.drop(columns=['video_release_date','imdb_url','unix_timestamp'], axis=1, inplace=True)\n",
        "df"
      ],
      "metadata": {
        "id": "T20-jpxigUH8"
      },
      "execution_count": null,
      "outputs": []
    },
    {
      "cell_type": "code",
      "source": [
        "ratings.drop(columns=['unix_timestamp'], inplace = True, axis = 1 ) \n",
        "ratings"
      ],
      "metadata": {
        "id": "ir6HlTscgZ7t"
      },
      "execution_count": null,
      "outputs": []
    },
    {
      "cell_type": "code",
      "source": [
        "movies.drop(columns=['video_release_date','imdb_url'], inplace = True, axis = 1 )\n",
        "movies"
      ],
      "metadata": {
        "id": "0qT7304Ggb-9"
      },
      "execution_count": null,
      "outputs": []
    },
    {
      "cell_type": "code",
      "source": [
        "#Pivot Table(This creates a matrix of users and movie_ratings)\n",
        "ratings_matrix = ratings.pivot_table(index=['movie_id'],columns=['user_id'],values='rating').reset_index(drop=True)\n",
        "ratings_matrix.fillna( 0, inplace = True )\n",
        "ratings_matrix"
      ],
      "metadata": {
        "id": "Wz2hkpKVgiQt"
      },
      "execution_count": null,
      "outputs": []
    },
    {
      "cell_type": "code",
      "source": [
        "#Pearson Correlation Similarity (Creates a matrix of similaraties ..... which is the pairwise distances\n",
        "# between two items )\n",
        "\n",
        "movie_similarity = 1 - pairwise_distances( ratings_matrix, metric=\"correlation\" )\n",
        "np.fill_diagonal( movie_similarity, 0 ) \n",
        "ratings_matrix = pd.DataFrame( movie_similarity )\n",
        "ratings_matrix"
      ],
      "metadata": {
        "id": "sVewhdw8gA_N"
      },
      "execution_count": null,
      "outputs": []
    },
    {
      "cell_type": "code",
      "source": [
        "#Recommender\n",
        "try:\n",
        "    #user_inp=input('Enter the reference movie title based on which recommendations are to be made: ')\n",
        "    user_inp=\"Mission: Impossible (1996)\"\n",
        "    inp=movies[movies['title']==user_inp].index.tolist()\n",
        "    inp=inp[0]\n",
        "    \n",
        "    movies['similarity'] = ratings_matrix.iloc[inp]\n",
        "    \n",
        "except:\n",
        "    print(\"No such movies is found!\")\n",
        "    \n",
        "print(\"We recommend the following 5 movies based on your choice of \",user_inp ,\": \\n\", movies.sort_values( [\"similarity\"], ascending = False )[1:6])"
      ],
      "metadata": {
        "id": "68sKYO6dg2KG"
      },
      "execution_count": null,
      "outputs": []
    },
    {
      "cell_type": "markdown",
      "source": [
        "#Collaborative Filtering Performance Evaluation"
      ],
      "metadata": {
        "id": "TszPqGS_hh48"
      }
    },
    {
      "cell_type": "code",
      "source": [
        "!pip install scikit-surprise"
      ],
      "metadata": {
        "id": "aiHYMRzMVTMo"
      },
      "execution_count": null,
      "outputs": []
    },
    {
      "cell_type": "code",
      "execution_count": null,
      "metadata": {
        "id": "gPS5WWT9U6y3"
      },
      "outputs": [],
      "source": [
        "#Import Python libraries\n",
        "import pandas as pd\n",
        "from surprise import KNNWithMeans\n",
        "from surprise import Dataset\n",
        "from surprise.model_selection import train_test_split\n",
        "from surprise import accuracy"
      ]
    },
    {
      "cell_type": "code",
      "source": [
        "#Load Movieslen dataset\n",
        "data = Dataset.load_builtin('ml-100k')"
      ],
      "metadata": {
        "id": "zkTZdJ9zkCJ8"
      },
      "execution_count": null,
      "outputs": []
    },
    {
      "cell_type": "code",
      "source": [
        "data.raw_ratings"
      ],
      "metadata": {
        "id": "zfmh4QyOztFM"
      },
      "execution_count": null,
      "outputs": []
    },
    {
      "cell_type": "code",
      "source": [
        "train_set, test_set = train_test_split(data, test_size=0.30)\n",
        "\n",
        "K = [10, 20, 50, 100, 200]\n",
        "\n",
        "result = pd.DataFrame(index=['10','20','50','100','200'],columns=['user-based'])\n",
        "\n",
        "for x in K:\n",
        "    algo = KNNWithMeans(k=x, sim_options={\n",
        "        \"name\": \"pearson\",\n",
        "      \"user_based\": True,\n",
        "    })\n",
        "\n",
        "    algo.fit(train_set)\n",
        "    predictions = algo.test(test_set)\n",
        "\n",
        "    result.at[str(x), 'user-based'] = accuracy.rmse(predictions, verbose=True)\n",
        "\n",
        "result.plot()"
      ],
      "metadata": {
        "id": "ALhtoHTdV5kH"
      },
      "execution_count": null,
      "outputs": []
    },
    {
      "cell_type": "markdown",
      "source": [
        "**Question 1: Add item-based collaborative filtering using the previous code block.**"
      ],
      "metadata": {
        "id": "Jb8ScJP-ld3e"
      }
    },
    {
      "cell_type": "code",
      "source": [],
      "metadata": {
        "id": "w_0lPXSQmaFU"
      },
      "execution_count": null,
      "outputs": []
    },
    {
      "cell_type": "markdown",
      "source": [
        "**Question 2: Which one performs better? user-based or item-based CF? Why?**"
      ],
      "metadata": {
        "id": "rUlegDfZlnnj"
      }
    },
    {
      "cell_type": "markdown",
      "source": [
        "Answer 2:"
      ],
      "metadata": {
        "id": "LJ8BBK7Vltlk"
      }
    }
  ]
}