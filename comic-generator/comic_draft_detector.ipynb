{
 "cells": [
  {
   "cell_type": "markdown",
   "metadata": {},
   "source": [
    "# Comic draft detector"
   ]
  },
  {
   "cell_type": "markdown",
   "metadata": {},
   "source": [
    "Reference: https://github.com/phillipi/pix2pix\n",
    "\n",
    "This is a notebook to detect draft comic strips in a comic strip dataset. The dataset is a collection of comic strips from various comic strips. The comic strips are in the form of images. The goal is to detect the draft comic strips in the dataset."
   ]
  },
  {
   "cell_type": "code",
   "execution_count": null,
   "metadata": {},
   "outputs": [],
   "source": []
  }
 ],
 "metadata": {
  "language_info": {
   "name": "python"
  }
 },
 "nbformat": 4,
 "nbformat_minor": 2
}
