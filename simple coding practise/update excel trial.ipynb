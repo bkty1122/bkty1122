{
 "cells": [
  {
   "cell_type": "code",
   "execution_count": 12,
   "id": "be4f1776",
   "metadata": {},
   "outputs": [
    {
     "name": "stderr",
     "output_type": "stream",
     "text": [
      "<ipython-input-12-0410137ba87d>:3: DeprecationWarning: Call to deprecated function get_sheet_by_name (Use wb[sheetname]).\n",
      "  sheet = wb.get_sheet_by_name('Sheet')\n"
     ]
    }
   ],
   "source": [
    "import openpyxl\n",
    "wb = openpyxl.load_workbook('product_sale.xlsx')\n",
    "sheet = wb.get_sheet_by_name('Sheet')\n",
    "price_update = {'Celery':1.20,'Garlic':3.00,'Lemon':0.99}\n",
    "#basic requirement: prepare parameter\n",
    "\n",
    "for rownumber in range(2, sheet.max_row):\n",
    "    #更新一下openpyxl 裏面的attribute\n",
    "    # max_row 等於含有data 的橫行最大值\n",
    "    produceName = sheet.cell(row = rownumber, column = 1).value\n",
    "    if produceName in price_update:\n",
    "        #instead of using if cellA1 = celery, use dictionary\n",
    "        sheet.cell(row = rownumber, column = 2).value = price_update[produceName]\n",
    "        \n",
    "wb.save('new_product_sale.xlsx')"
   ]
  },
  {
   "cell_type": "code",
   "execution_count": null,
   "id": "67db87c4",
   "metadata": {},
   "outputs": [],
   "source": []
  }
 ],
 "metadata": {
  "kernelspec": {
   "display_name": "Python 3",
   "language": "python",
   "name": "python3"
  },
  "language_info": {
   "codemirror_mode": {
    "name": "ipython",
    "version": 3
   },
   "file_extension": ".py",
   "mimetype": "text/x-python",
   "name": "python",
   "nbconvert_exporter": "python",
   "pygments_lexer": "ipython3",
   "version": "3.8.8"
  }
 },
 "nbformat": 4,
 "nbformat_minor": 5
}
