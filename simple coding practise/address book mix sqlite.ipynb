{
 "cells": [
  {
   "cell_type": "markdown",
   "id": "615ef370",
   "metadata": {},
   "source": []
  },
  {
   "cell_type": "code",
   "execution_count": null,
   "id": "ce5a60cb",
   "metadata": {},
   "outputs": [],
   "source": []
  },
  {
   "cell_type": "code",
   "execution_count": null,
   "id": "17656ab9",
   "metadata": {},
   "outputs": [],
   "source": []
  },
  {
   "cell_type": "code",
   "execution_count": 1,
   "id": "53dda315",
   "metadata": {},
   "outputs": [
    {
     "name": "stdout",
     "output_type": "stream",
     "text": [
      "nameabc\n",
      "phone no123\n",
      "addressas\n",
      "update which name?a\n",
      "phone1234\n",
      "addressggggg\n",
      "ALL CONTACT\n",
      "NAME\tPHONE\tADDRESS\n",
      "\n",
      "a\t1234\tggggg\n",
      "abc\t123\tas\n"
     ]
    }
   ],
   "source": [
    "import sqlite3 as sq\n",
    "from sqlite3 import Error\n",
    "\n",
    "UI = ''' \n",
    "0. Create/connect database\n",
    "1. Add new contact\n",
    "2. View contacts\n",
    "3. Search contact\n",
    "4. Update contact\n",
    "5. Delete contact\n",
    "6. Reset all\n",
    "7. Exit\n",
    "'''   \n",
    "def database():\n",
    "    global cur, con\n",
    "    con = sq.connect('contact_book.db',timeout=10)\n",
    "    #唔加timeout 的話會lock database......操\n",
    "    cur = con.cursor()\n",
    "    cur.execute('''create table if not exists contact_book (name, phone, address)''')\n",
    "\n",
    "def add_data():\n",
    "    name = input('name')\n",
    "    phone = input('phone no')\n",
    "    address = input('address')\n",
    "    sq_add = \"insert into contact_book(name, phone, address) values('{}','{}','{}');\".format(name, phone, address)\n",
    "    #令sql知道要將name,phone,address 放入sq\n",
    "    cur.execute(sq_add)\n",
    "    con.commit()\n",
    "    return name,phone,address\n",
    "    print('successfully insert data')\n",
    "\n",
    "def view_contact():\n",
    "    cur.execute(\"select * from contact_book\")\n",
    "    rows = cur.fetchall()\n",
    "    print('ALL CONTACT\\nNAME\\tPHONE\\tADDRESS\\n')\n",
    "    for row in rows:\n",
    "        print(\"{}\\t{}\\t{}\".format(row[0],row[1],row[2]))\n",
    "        #row is a tuple, therefore you need to follow the '0,1,2,3...'sequence to callout your data in the database. \n",
    "        #要試下點樣用table column name print out row......有點難呀！\n",
    "        \n",
    "def search_contact():\n",
    "    name = input('search by name: ')\n",
    "    results = cur.execute(\"select name,phone,address from contact_book where name=?\",(name,))\n",
    "    value = cur.fetchone()\n",
    "    #name, 代表從 ‘name’ 這個variable搜查\n",
    "    try:\n",
    "        print('name\\tphone\\taddress\\n')\n",
    "        print('{}\\t{}\\t{}\\t'.format(value[0],value[1],value[2]))\n",
    "    except:\n",
    "        print('no such data')\n",
    "    #唔用try...except 不能匯報係database不存在的數據......操\n",
    "\n",
    "def update_contact():\n",
    "    name = input('update which name?')\n",
    "    a = input('phone')\n",
    "    b = input('address')\n",
    "    try:\n",
    "        cur.execute(\"update contact_book SET phone = ? , address = ? WHERE name = ?\",(a,b,name,))\n",
    "        con.commit() #存起個file\n",
    "    except:\n",
    "        print('-.-')\n",
    "\n",
    "\n",
    "database()\n",
    "view_contact()"
   ]
  },
  {
   "cell_type": "code",
   "execution_count": null,
   "id": "b399e67f",
   "metadata": {},
   "outputs": [],
   "source": []
  }
 ],
 "metadata": {
  "interpreter": {
   "hash": "363ef2ee677169202210177f255c37ee19cf9570ef144b4e2ef221e85e1f32db"
  },
  "kernelspec": {
   "display_name": "Python 3",
   "language": "python",
   "name": "python3"
  },
  "language_info": {
   "codemirror_mode": {
    "name": "ipython",
    "version": 3
   },
   "file_extension": ".py",
   "mimetype": "text/x-python",
   "name": "python",
   "nbconvert_exporter": "python",
   "pygments_lexer": "ipython3",
   "version": "3.8.8"
  }
 },
 "nbformat": 4,
 "nbformat_minor": 5
}
