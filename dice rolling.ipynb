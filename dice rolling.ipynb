{
 "cells": [
  {
   "cell_type": "code",
   "execution_count": null,
   "id": "56ce42cd",
   "metadata": {},
   "outputs": [
    {
     "name": "stdout",
     "output_type": "stream",
     "text": [
      "Enter lower number:1\n",
      "Enter higher number:8\n",
      "The dicing result is 3 .\n",
      "roll again? if yes, type y; of no, type n.y\n",
      "The dicing result is 5 .\n",
      "roll again? if yes, type y; of no, type n.y\n",
      "The dicing result is 8 .\n",
      "roll again? if yes, type y; of no, type n.y\n",
      "The dicing result is 6 .\n",
      "roll again? if yes, type y; of no, type n.n\n",
      "Enter lower number:1\n",
      "Enter higher number:9\n",
      "The dicing result is 7 .\n",
      "roll again? if yes, type y; of no, type n.y\n",
      "The dicing result is 5 .\n",
      "roll again? if yes, type y; of no, type n.y\n",
      "The dicing result is 2 .\n",
      "roll again? if yes, type y; of no, type n.y\n",
      "The dicing result is 7 .\n"
     ]
    }
   ],
   "source": [
    "import random\n",
    "\n",
    "def dice_1():\n",
    "    global x\n",
    "    x = int(input('Enter lower number:'))\n",
    "    return x\n",
    "\n",
    "def dice_2():\n",
    "    global y\n",
    "    #global 可以將variable 變爲所有程式碼可以用！\n",
    "    y = int(input('Enter higher number:'))\n",
    "    return y\n",
    "\n",
    "def dice_rolling():\n",
    "    dice = random.randint(x,y)\n",
    "    print('The dicing result is',dice,'.')\n",
    "    roll_again()\n",
    "    \n",
    "def roll_again():\n",
    "    answer = input('roll again? if yes, type y; of no, type n.')\n",
    "    if answer == 'y':\n",
    "        dice_rolling()\n",
    "    if answer == 'n':\n",
    "        starting()\n",
    "    else:\n",
    "        print('type the correct command')\n",
    "        roll_again()\n",
    "\n",
    "def starting():\n",
    "    dice_1()\n",
    "    dice_2()\n",
    "    dice_rolling()\n",
    "\n",
    "starting()"
   ]
  },
  {
   "cell_type": "code",
   "execution_count": null,
   "id": "161b9040",
   "metadata": {},
   "outputs": [],
   "source": []
  },
  {
   "cell_type": "code",
   "execution_count": null,
   "id": "b29c33d4",
   "metadata": {},
   "outputs": [],
   "source": []
  }
 ],
 "metadata": {
  "kernelspec": {
   "display_name": "Python 3",
   "language": "python",
   "name": "python3"
  },
  "language_info": {
   "codemirror_mode": {
    "name": "ipython",
    "version": 3
   },
   "file_extension": ".py",
   "mimetype": "text/x-python",
   "name": "python",
   "nbconvert_exporter": "python",
   "pygments_lexer": "ipython3",
   "version": "3.8.8"
  }
 },
 "nbformat": 4,
 "nbformat_minor": 5
}
